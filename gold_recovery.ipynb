{
 "cells": [
  {
   "cell_type": "markdown",
   "metadata": {},
   "source": [
    "# Восстановление золота из руды"
   ]
  },
  {
   "cell_type": "markdown",
   "metadata": {},
   "source": [
    "Подготовка прототипа модели машинного обучения. Компания разрабатывает решения для эффективной работы промышленных предприятий.\n",
    "\n",
    "Модель должна предсказать коэффициент восстановления золота из золотосодержащей руды. Используются данные с параметрами добычи и очистки. \n",
    "\n",
    "Модель поможет оптимизировать производство, чтобы не запускать предприятие с убыточными характеристиками.\n",
    "\n",
    "Нужно:\n",
    "\n",
    "1. Подготовить данные;\n",
    "2. Провести исследовательский анализ данных;\n",
    "3. Построить и обучить модель."
   ]
  },
  {
   "cell_type": "markdown",
   "metadata": {},
   "source": [
    "**Технологический процесс**\n",
    "\n",
    "\n",
    "- Rougher feed — исходное сырье\n",
    "- Rougher additions (или reagent additions) — флотационные реагенты: Xanthate, Sulphate, Depressant \n",
    "- Xanthate — ксантогенат (промотер, или активатор флотации);\n",
    "- Sulphate — сульфат (на данном производстве сульфид натрия);\n",
    "- Depressant — депрессант (силикат натрия).\n",
    "- Rougher process (англ. «грубый процесс») — флотация\n",
    "- Rougher tails — отвальные хвосты\n",
    "- Float banks — флотационная установка\n",
    "- Cleaner process — очистка\n",
    "- Rougher Au — черновой концентрат золота\n",
    "- Final Au — финальный концентрат золота\n",
    "\n",
    "\n",
    "**Параметры этапов**\n",
    "\n",
    "\n",
    "- air amount — объём воздуха\n",
    "- fluid levels — уровень жидкости\n",
    "- feed size — размер гранул сырья\n",
    "- feed rate — скорость подачи"
   ]
  },
  {
   "cell_type": "markdown",
   "metadata": {},
   "source": [
    "**Наименование признаков**\n",
    "\n",
    "Наименование признаков должно быть такое:\n",
    "`[этап].[тип_параметра].[название_параметра]`\n",
    "\n",
    "\n",
    "Пример: `rougher.input.feed_ag`\n",
    "\n",
    "\n",
    "Возможные значения для блока `[этап]`:\n",
    "- rougher — флотация\n",
    "- primary_cleaner — первичная очистка\n",
    "- secondary_cleaner — вторичная очистка\n",
    "- final — финальные характеристики\n",
    "\n",
    "\n",
    "Возможные значения для блока `[тип_параметра]`:\n",
    "- input — параметры сырья\n",
    "- output — параметры продукта\n",
    "- state — параметры, характеризующие текущее состояние этапа\n",
    "- calculation — расчётные характеристики"
   ]
  },
  {
   "cell_type": "markdown",
   "metadata": {},
   "source": [
    "## Подготовка данных"
   ]
  },
  {
   "cell_type": "markdown",
   "metadata": {},
   "source": [
    "### Открываем файлы и изучаем."
   ]
  },
  {
   "cell_type": "code",
   "execution_count": 1,
   "metadata": {},
   "outputs": [],
   "source": [
    "import pandas as pd\n",
    "import numpy as np\n",
    "\n",
    "import matplotlib.pyplot as plt\n",
    "import seaborn as sns\n",
    "\n",
    "from sklearn.model_selection import train_test_split\n",
    "from sklearn.ensemble import RandomForestRegressor\n",
    "from sklearn.tree import DecisionTreeRegressor\n",
    "from sklearn.linear_model import LinearRegression\n",
    "from sklearn.metrics import make_scorer\n",
    "from sklearn.metrics import mean_absolute_error, mean_absolute_percentage_error"
   ]
  },
  {
   "cell_type": "code",
   "execution_count": 2,
   "metadata": {},
   "outputs": [],
   "source": [
    "train_data = pd.read_csv('/datasets/gold_recovery_train_new.csv')\n",
    "test_data = pd.read_csv('/datasets/gold_recovery_test_new.csv')\n",
    "full_data = pd.read_csv('/datasets/gold_recovery_full_new.csv')"
   ]
  },
  {
   "cell_type": "code",
   "execution_count": 3,
   "metadata": {},
   "outputs": [
    {
     "data": {
      "text/html": [
       "<div>\n",
       "<style scoped>\n",
       "    .dataframe tbody tr th:only-of-type {\n",
       "        vertical-align: middle;\n",
       "    }\n",
       "\n",
       "    .dataframe tbody tr th {\n",
       "        vertical-align: top;\n",
       "    }\n",
       "\n",
       "    .dataframe thead th {\n",
       "        text-align: right;\n",
       "    }\n",
       "</style>\n",
       "<table border=\"1\" class=\"dataframe\">\n",
       "  <thead>\n",
       "    <tr style=\"text-align: right;\">\n",
       "      <th></th>\n",
       "      <th>date</th>\n",
       "      <th>final.output.concentrate_ag</th>\n",
       "      <th>final.output.concentrate_pb</th>\n",
       "      <th>final.output.concentrate_sol</th>\n",
       "      <th>final.output.concentrate_au</th>\n",
       "      <th>final.output.recovery</th>\n",
       "      <th>final.output.tail_ag</th>\n",
       "      <th>final.output.tail_pb</th>\n",
       "      <th>final.output.tail_sol</th>\n",
       "      <th>final.output.tail_au</th>\n",
       "      <th>...</th>\n",
       "      <th>secondary_cleaner.state.floatbank4_a_air</th>\n",
       "      <th>secondary_cleaner.state.floatbank4_a_level</th>\n",
       "      <th>secondary_cleaner.state.floatbank4_b_air</th>\n",
       "      <th>secondary_cleaner.state.floatbank4_b_level</th>\n",
       "      <th>secondary_cleaner.state.floatbank5_a_air</th>\n",
       "      <th>secondary_cleaner.state.floatbank5_a_level</th>\n",
       "      <th>secondary_cleaner.state.floatbank5_b_air</th>\n",
       "      <th>secondary_cleaner.state.floatbank5_b_level</th>\n",
       "      <th>secondary_cleaner.state.floatbank6_a_air</th>\n",
       "      <th>secondary_cleaner.state.floatbank6_a_level</th>\n",
       "    </tr>\n",
       "  </thead>\n",
       "  <tbody>\n",
       "    <tr>\n",
       "      <th>0</th>\n",
       "      <td>2016-01-15 00:00:00</td>\n",
       "      <td>6.055403</td>\n",
       "      <td>9.889648</td>\n",
       "      <td>5.507324</td>\n",
       "      <td>42.192020</td>\n",
       "      <td>70.541216</td>\n",
       "      <td>10.411962</td>\n",
       "      <td>0.895447</td>\n",
       "      <td>16.904297</td>\n",
       "      <td>2.143149</td>\n",
       "      <td>...</td>\n",
       "      <td>14.016835</td>\n",
       "      <td>-502.488007</td>\n",
       "      <td>12.099931</td>\n",
       "      <td>-504.715942</td>\n",
       "      <td>9.925633</td>\n",
       "      <td>-498.310211</td>\n",
       "      <td>8.079666</td>\n",
       "      <td>-500.470978</td>\n",
       "      <td>14.151341</td>\n",
       "      <td>-605.841980</td>\n",
       "    </tr>\n",
       "    <tr>\n",
       "      <th>1</th>\n",
       "      <td>2016-01-15 01:00:00</td>\n",
       "      <td>6.029369</td>\n",
       "      <td>9.968944</td>\n",
       "      <td>5.257781</td>\n",
       "      <td>42.701629</td>\n",
       "      <td>69.266198</td>\n",
       "      <td>10.462676</td>\n",
       "      <td>0.927452</td>\n",
       "      <td>16.634514</td>\n",
       "      <td>2.224930</td>\n",
       "      <td>...</td>\n",
       "      <td>13.992281</td>\n",
       "      <td>-505.503262</td>\n",
       "      <td>11.950531</td>\n",
       "      <td>-501.331529</td>\n",
       "      <td>10.039245</td>\n",
       "      <td>-500.169983</td>\n",
       "      <td>7.984757</td>\n",
       "      <td>-500.582168</td>\n",
       "      <td>13.998353</td>\n",
       "      <td>-599.787184</td>\n",
       "    </tr>\n",
       "    <tr>\n",
       "      <th>2</th>\n",
       "      <td>2016-01-15 02:00:00</td>\n",
       "      <td>6.055926</td>\n",
       "      <td>10.213995</td>\n",
       "      <td>5.383759</td>\n",
       "      <td>42.657501</td>\n",
       "      <td>68.116445</td>\n",
       "      <td>10.507046</td>\n",
       "      <td>0.953716</td>\n",
       "      <td>16.208849</td>\n",
       "      <td>2.257889</td>\n",
       "      <td>...</td>\n",
       "      <td>14.015015</td>\n",
       "      <td>-502.520901</td>\n",
       "      <td>11.912783</td>\n",
       "      <td>-501.133383</td>\n",
       "      <td>10.070913</td>\n",
       "      <td>-500.129135</td>\n",
       "      <td>8.013877</td>\n",
       "      <td>-500.517572</td>\n",
       "      <td>14.028663</td>\n",
       "      <td>-601.427363</td>\n",
       "    </tr>\n",
       "    <tr>\n",
       "      <th>3</th>\n",
       "      <td>2016-01-15 03:00:00</td>\n",
       "      <td>6.047977</td>\n",
       "      <td>9.977019</td>\n",
       "      <td>4.858634</td>\n",
       "      <td>42.689819</td>\n",
       "      <td>68.347543</td>\n",
       "      <td>10.422762</td>\n",
       "      <td>0.883763</td>\n",
       "      <td>16.532835</td>\n",
       "      <td>2.146849</td>\n",
       "      <td>...</td>\n",
       "      <td>14.036510</td>\n",
       "      <td>-500.857308</td>\n",
       "      <td>11.999550</td>\n",
       "      <td>-501.193686</td>\n",
       "      <td>9.970366</td>\n",
       "      <td>-499.201640</td>\n",
       "      <td>7.977324</td>\n",
       "      <td>-500.255908</td>\n",
       "      <td>14.005551</td>\n",
       "      <td>-599.996129</td>\n",
       "    </tr>\n",
       "    <tr>\n",
       "      <th>4</th>\n",
       "      <td>2016-01-15 04:00:00</td>\n",
       "      <td>6.148599</td>\n",
       "      <td>10.142511</td>\n",
       "      <td>4.939416</td>\n",
       "      <td>42.774141</td>\n",
       "      <td>66.927016</td>\n",
       "      <td>10.360302</td>\n",
       "      <td>0.792826</td>\n",
       "      <td>16.525686</td>\n",
       "      <td>2.055292</td>\n",
       "      <td>...</td>\n",
       "      <td>14.027298</td>\n",
       "      <td>-499.838632</td>\n",
       "      <td>11.953070</td>\n",
       "      <td>-501.053894</td>\n",
       "      <td>9.925709</td>\n",
       "      <td>-501.686727</td>\n",
       "      <td>7.894242</td>\n",
       "      <td>-500.356035</td>\n",
       "      <td>13.996647</td>\n",
       "      <td>-601.496691</td>\n",
       "    </tr>\n",
       "  </tbody>\n",
       "</table>\n",
       "<p>5 rows × 87 columns</p>\n",
       "</div>"
      ],
      "text/plain": [
       "                  date  final.output.concentrate_ag  \\\n",
       "0  2016-01-15 00:00:00                     6.055403   \n",
       "1  2016-01-15 01:00:00                     6.029369   \n",
       "2  2016-01-15 02:00:00                     6.055926   \n",
       "3  2016-01-15 03:00:00                     6.047977   \n",
       "4  2016-01-15 04:00:00                     6.148599   \n",
       "\n",
       "   final.output.concentrate_pb  final.output.concentrate_sol  \\\n",
       "0                     9.889648                      5.507324   \n",
       "1                     9.968944                      5.257781   \n",
       "2                    10.213995                      5.383759   \n",
       "3                     9.977019                      4.858634   \n",
       "4                    10.142511                      4.939416   \n",
       "\n",
       "   final.output.concentrate_au  final.output.recovery  final.output.tail_ag  \\\n",
       "0                    42.192020              70.541216             10.411962   \n",
       "1                    42.701629              69.266198             10.462676   \n",
       "2                    42.657501              68.116445             10.507046   \n",
       "3                    42.689819              68.347543             10.422762   \n",
       "4                    42.774141              66.927016             10.360302   \n",
       "\n",
       "   final.output.tail_pb  final.output.tail_sol  final.output.tail_au  ...  \\\n",
       "0              0.895447              16.904297              2.143149  ...   \n",
       "1              0.927452              16.634514              2.224930  ...   \n",
       "2              0.953716              16.208849              2.257889  ...   \n",
       "3              0.883763              16.532835              2.146849  ...   \n",
       "4              0.792826              16.525686              2.055292  ...   \n",
       "\n",
       "   secondary_cleaner.state.floatbank4_a_air  \\\n",
       "0                                 14.016835   \n",
       "1                                 13.992281   \n",
       "2                                 14.015015   \n",
       "3                                 14.036510   \n",
       "4                                 14.027298   \n",
       "\n",
       "   secondary_cleaner.state.floatbank4_a_level  \\\n",
       "0                                 -502.488007   \n",
       "1                                 -505.503262   \n",
       "2                                 -502.520901   \n",
       "3                                 -500.857308   \n",
       "4                                 -499.838632   \n",
       "\n",
       "   secondary_cleaner.state.floatbank4_b_air  \\\n",
       "0                                 12.099931   \n",
       "1                                 11.950531   \n",
       "2                                 11.912783   \n",
       "3                                 11.999550   \n",
       "4                                 11.953070   \n",
       "\n",
       "   secondary_cleaner.state.floatbank4_b_level  \\\n",
       "0                                 -504.715942   \n",
       "1                                 -501.331529   \n",
       "2                                 -501.133383   \n",
       "3                                 -501.193686   \n",
       "4                                 -501.053894   \n",
       "\n",
       "   secondary_cleaner.state.floatbank5_a_air  \\\n",
       "0                                  9.925633   \n",
       "1                                 10.039245   \n",
       "2                                 10.070913   \n",
       "3                                  9.970366   \n",
       "4                                  9.925709   \n",
       "\n",
       "   secondary_cleaner.state.floatbank5_a_level  \\\n",
       "0                                 -498.310211   \n",
       "1                                 -500.169983   \n",
       "2                                 -500.129135   \n",
       "3                                 -499.201640   \n",
       "4                                 -501.686727   \n",
       "\n",
       "   secondary_cleaner.state.floatbank5_b_air  \\\n",
       "0                                  8.079666   \n",
       "1                                  7.984757   \n",
       "2                                  8.013877   \n",
       "3                                  7.977324   \n",
       "4                                  7.894242   \n",
       "\n",
       "   secondary_cleaner.state.floatbank5_b_level  \\\n",
       "0                                 -500.470978   \n",
       "1                                 -500.582168   \n",
       "2                                 -500.517572   \n",
       "3                                 -500.255908   \n",
       "4                                 -500.356035   \n",
       "\n",
       "   secondary_cleaner.state.floatbank6_a_air  \\\n",
       "0                                 14.151341   \n",
       "1                                 13.998353   \n",
       "2                                 14.028663   \n",
       "3                                 14.005551   \n",
       "4                                 13.996647   \n",
       "\n",
       "   secondary_cleaner.state.floatbank6_a_level  \n",
       "0                                 -605.841980  \n",
       "1                                 -599.787184  \n",
       "2                                 -601.427363  \n",
       "3                                 -599.996129  \n",
       "4                                 -601.496691  \n",
       "\n",
       "[5 rows x 87 columns]"
      ]
     },
     "execution_count": 3,
     "metadata": {},
     "output_type": "execute_result"
    }
   ],
   "source": [
    "train_data.head()"
   ]
  },
  {
   "cell_type": "code",
   "execution_count": 4,
   "metadata": {},
   "outputs": [
    {
     "data": {
      "text/html": [
       "<div>\n",
       "<style scoped>\n",
       "    .dataframe tbody tr th:only-of-type {\n",
       "        vertical-align: middle;\n",
       "    }\n",
       "\n",
       "    .dataframe tbody tr th {\n",
       "        vertical-align: top;\n",
       "    }\n",
       "\n",
       "    .dataframe thead th {\n",
       "        text-align: right;\n",
       "    }\n",
       "</style>\n",
       "<table border=\"1\" class=\"dataframe\">\n",
       "  <thead>\n",
       "    <tr style=\"text-align: right;\">\n",
       "      <th></th>\n",
       "      <th>date</th>\n",
       "      <th>primary_cleaner.input.sulfate</th>\n",
       "      <th>primary_cleaner.input.depressant</th>\n",
       "      <th>primary_cleaner.input.feed_size</th>\n",
       "      <th>primary_cleaner.input.xanthate</th>\n",
       "      <th>primary_cleaner.state.floatbank8_a_air</th>\n",
       "      <th>primary_cleaner.state.floatbank8_a_level</th>\n",
       "      <th>primary_cleaner.state.floatbank8_b_air</th>\n",
       "      <th>primary_cleaner.state.floatbank8_b_level</th>\n",
       "      <th>primary_cleaner.state.floatbank8_c_air</th>\n",
       "      <th>...</th>\n",
       "      <th>secondary_cleaner.state.floatbank4_a_air</th>\n",
       "      <th>secondary_cleaner.state.floatbank4_a_level</th>\n",
       "      <th>secondary_cleaner.state.floatbank4_b_air</th>\n",
       "      <th>secondary_cleaner.state.floatbank4_b_level</th>\n",
       "      <th>secondary_cleaner.state.floatbank5_a_air</th>\n",
       "      <th>secondary_cleaner.state.floatbank5_a_level</th>\n",
       "      <th>secondary_cleaner.state.floatbank5_b_air</th>\n",
       "      <th>secondary_cleaner.state.floatbank5_b_level</th>\n",
       "      <th>secondary_cleaner.state.floatbank6_a_air</th>\n",
       "      <th>secondary_cleaner.state.floatbank6_a_level</th>\n",
       "    </tr>\n",
       "  </thead>\n",
       "  <tbody>\n",
       "    <tr>\n",
       "      <th>0</th>\n",
       "      <td>2016-09-01 00:59:59</td>\n",
       "      <td>210.800909</td>\n",
       "      <td>14.993118</td>\n",
       "      <td>8.080000</td>\n",
       "      <td>1.005021</td>\n",
       "      <td>1398.981301</td>\n",
       "      <td>-500.225577</td>\n",
       "      <td>1399.144926</td>\n",
       "      <td>-499.919735</td>\n",
       "      <td>1400.102998</td>\n",
       "      <td>...</td>\n",
       "      <td>12.023554</td>\n",
       "      <td>-497.795834</td>\n",
       "      <td>8.016656</td>\n",
       "      <td>-501.289139</td>\n",
       "      <td>7.946562</td>\n",
       "      <td>-432.317850</td>\n",
       "      <td>4.872511</td>\n",
       "      <td>-500.037437</td>\n",
       "      <td>26.705889</td>\n",
       "      <td>-499.709414</td>\n",
       "    </tr>\n",
       "    <tr>\n",
       "      <th>1</th>\n",
       "      <td>2016-09-01 01:59:59</td>\n",
       "      <td>215.392455</td>\n",
       "      <td>14.987471</td>\n",
       "      <td>8.080000</td>\n",
       "      <td>0.990469</td>\n",
       "      <td>1398.777912</td>\n",
       "      <td>-500.057435</td>\n",
       "      <td>1398.055362</td>\n",
       "      <td>-499.778182</td>\n",
       "      <td>1396.151033</td>\n",
       "      <td>...</td>\n",
       "      <td>12.058140</td>\n",
       "      <td>-498.695773</td>\n",
       "      <td>8.130979</td>\n",
       "      <td>-499.634209</td>\n",
       "      <td>7.958270</td>\n",
       "      <td>-525.839648</td>\n",
       "      <td>4.878850</td>\n",
       "      <td>-500.162375</td>\n",
       "      <td>25.019940</td>\n",
       "      <td>-499.819438</td>\n",
       "    </tr>\n",
       "    <tr>\n",
       "      <th>2</th>\n",
       "      <td>2016-09-01 02:59:59</td>\n",
       "      <td>215.259946</td>\n",
       "      <td>12.884934</td>\n",
       "      <td>7.786667</td>\n",
       "      <td>0.996043</td>\n",
       "      <td>1398.493666</td>\n",
       "      <td>-500.868360</td>\n",
       "      <td>1398.860436</td>\n",
       "      <td>-499.764529</td>\n",
       "      <td>1398.075709</td>\n",
       "      <td>...</td>\n",
       "      <td>11.962366</td>\n",
       "      <td>-498.767484</td>\n",
       "      <td>8.096893</td>\n",
       "      <td>-500.827423</td>\n",
       "      <td>8.071056</td>\n",
       "      <td>-500.801673</td>\n",
       "      <td>4.905125</td>\n",
       "      <td>-499.828510</td>\n",
       "      <td>24.994862</td>\n",
       "      <td>-500.622559</td>\n",
       "    </tr>\n",
       "    <tr>\n",
       "      <th>3</th>\n",
       "      <td>2016-09-01 03:59:59</td>\n",
       "      <td>215.336236</td>\n",
       "      <td>12.006805</td>\n",
       "      <td>7.640000</td>\n",
       "      <td>0.863514</td>\n",
       "      <td>1399.618111</td>\n",
       "      <td>-498.863574</td>\n",
       "      <td>1397.440120</td>\n",
       "      <td>-499.211024</td>\n",
       "      <td>1400.129303</td>\n",
       "      <td>...</td>\n",
       "      <td>12.033091</td>\n",
       "      <td>-498.350935</td>\n",
       "      <td>8.074946</td>\n",
       "      <td>-499.474407</td>\n",
       "      <td>7.897085</td>\n",
       "      <td>-500.868509</td>\n",
       "      <td>4.931400</td>\n",
       "      <td>-499.963623</td>\n",
       "      <td>24.948919</td>\n",
       "      <td>-498.709987</td>\n",
       "    </tr>\n",
       "    <tr>\n",
       "      <th>4</th>\n",
       "      <td>2016-09-01 04:59:59</td>\n",
       "      <td>199.099327</td>\n",
       "      <td>10.682530</td>\n",
       "      <td>7.530000</td>\n",
       "      <td>0.805575</td>\n",
       "      <td>1401.268123</td>\n",
       "      <td>-500.808305</td>\n",
       "      <td>1398.128818</td>\n",
       "      <td>-499.504543</td>\n",
       "      <td>1402.172226</td>\n",
       "      <td>...</td>\n",
       "      <td>12.025367</td>\n",
       "      <td>-500.786497</td>\n",
       "      <td>8.054678</td>\n",
       "      <td>-500.397500</td>\n",
       "      <td>8.107890</td>\n",
       "      <td>-509.526725</td>\n",
       "      <td>4.957674</td>\n",
       "      <td>-500.360026</td>\n",
       "      <td>25.003331</td>\n",
       "      <td>-500.856333</td>\n",
       "    </tr>\n",
       "  </tbody>\n",
       "</table>\n",
       "<p>5 rows × 53 columns</p>\n",
       "</div>"
      ],
      "text/plain": [
       "                  date  primary_cleaner.input.sulfate  \\\n",
       "0  2016-09-01 00:59:59                     210.800909   \n",
       "1  2016-09-01 01:59:59                     215.392455   \n",
       "2  2016-09-01 02:59:59                     215.259946   \n",
       "3  2016-09-01 03:59:59                     215.336236   \n",
       "4  2016-09-01 04:59:59                     199.099327   \n",
       "\n",
       "   primary_cleaner.input.depressant  primary_cleaner.input.feed_size  \\\n",
       "0                         14.993118                         8.080000   \n",
       "1                         14.987471                         8.080000   \n",
       "2                         12.884934                         7.786667   \n",
       "3                         12.006805                         7.640000   \n",
       "4                         10.682530                         7.530000   \n",
       "\n",
       "   primary_cleaner.input.xanthate  primary_cleaner.state.floatbank8_a_air  \\\n",
       "0                        1.005021                             1398.981301   \n",
       "1                        0.990469                             1398.777912   \n",
       "2                        0.996043                             1398.493666   \n",
       "3                        0.863514                             1399.618111   \n",
       "4                        0.805575                             1401.268123   \n",
       "\n",
       "   primary_cleaner.state.floatbank8_a_level  \\\n",
       "0                               -500.225577   \n",
       "1                               -500.057435   \n",
       "2                               -500.868360   \n",
       "3                               -498.863574   \n",
       "4                               -500.808305   \n",
       "\n",
       "   primary_cleaner.state.floatbank8_b_air  \\\n",
       "0                             1399.144926   \n",
       "1                             1398.055362   \n",
       "2                             1398.860436   \n",
       "3                             1397.440120   \n",
       "4                             1398.128818   \n",
       "\n",
       "   primary_cleaner.state.floatbank8_b_level  \\\n",
       "0                               -499.919735   \n",
       "1                               -499.778182   \n",
       "2                               -499.764529   \n",
       "3                               -499.211024   \n",
       "4                               -499.504543   \n",
       "\n",
       "   primary_cleaner.state.floatbank8_c_air  ...  \\\n",
       "0                             1400.102998  ...   \n",
       "1                             1396.151033  ...   \n",
       "2                             1398.075709  ...   \n",
       "3                             1400.129303  ...   \n",
       "4                             1402.172226  ...   \n",
       "\n",
       "   secondary_cleaner.state.floatbank4_a_air  \\\n",
       "0                                 12.023554   \n",
       "1                                 12.058140   \n",
       "2                                 11.962366   \n",
       "3                                 12.033091   \n",
       "4                                 12.025367   \n",
       "\n",
       "   secondary_cleaner.state.floatbank4_a_level  \\\n",
       "0                                 -497.795834   \n",
       "1                                 -498.695773   \n",
       "2                                 -498.767484   \n",
       "3                                 -498.350935   \n",
       "4                                 -500.786497   \n",
       "\n",
       "   secondary_cleaner.state.floatbank4_b_air  \\\n",
       "0                                  8.016656   \n",
       "1                                  8.130979   \n",
       "2                                  8.096893   \n",
       "3                                  8.074946   \n",
       "4                                  8.054678   \n",
       "\n",
       "   secondary_cleaner.state.floatbank4_b_level  \\\n",
       "0                                 -501.289139   \n",
       "1                                 -499.634209   \n",
       "2                                 -500.827423   \n",
       "3                                 -499.474407   \n",
       "4                                 -500.397500   \n",
       "\n",
       "   secondary_cleaner.state.floatbank5_a_air  \\\n",
       "0                                  7.946562   \n",
       "1                                  7.958270   \n",
       "2                                  8.071056   \n",
       "3                                  7.897085   \n",
       "4                                  8.107890   \n",
       "\n",
       "   secondary_cleaner.state.floatbank5_a_level  \\\n",
       "0                                 -432.317850   \n",
       "1                                 -525.839648   \n",
       "2                                 -500.801673   \n",
       "3                                 -500.868509   \n",
       "4                                 -509.526725   \n",
       "\n",
       "   secondary_cleaner.state.floatbank5_b_air  \\\n",
       "0                                  4.872511   \n",
       "1                                  4.878850   \n",
       "2                                  4.905125   \n",
       "3                                  4.931400   \n",
       "4                                  4.957674   \n",
       "\n",
       "   secondary_cleaner.state.floatbank5_b_level  \\\n",
       "0                                 -500.037437   \n",
       "1                                 -500.162375   \n",
       "2                                 -499.828510   \n",
       "3                                 -499.963623   \n",
       "4                                 -500.360026   \n",
       "\n",
       "   secondary_cleaner.state.floatbank6_a_air  \\\n",
       "0                                 26.705889   \n",
       "1                                 25.019940   \n",
       "2                                 24.994862   \n",
       "3                                 24.948919   \n",
       "4                                 25.003331   \n",
       "\n",
       "   secondary_cleaner.state.floatbank6_a_level  \n",
       "0                                 -499.709414  \n",
       "1                                 -499.819438  \n",
       "2                                 -500.622559  \n",
       "3                                 -498.709987  \n",
       "4                                 -500.856333  \n",
       "\n",
       "[5 rows x 53 columns]"
      ]
     },
     "execution_count": 4,
     "metadata": {},
     "output_type": "execute_result"
    }
   ],
   "source": [
    "test_data.head()"
   ]
  },
  {
   "cell_type": "code",
   "execution_count": 5,
   "metadata": {
    "scrolled": false
   },
   "outputs": [
    {
     "data": {
      "text/html": [
       "<div>\n",
       "<style scoped>\n",
       "    .dataframe tbody tr th:only-of-type {\n",
       "        vertical-align: middle;\n",
       "    }\n",
       "\n",
       "    .dataframe tbody tr th {\n",
       "        vertical-align: top;\n",
       "    }\n",
       "\n",
       "    .dataframe thead th {\n",
       "        text-align: right;\n",
       "    }\n",
       "</style>\n",
       "<table border=\"1\" class=\"dataframe\">\n",
       "  <thead>\n",
       "    <tr style=\"text-align: right;\">\n",
       "      <th></th>\n",
       "      <th>date</th>\n",
       "      <th>final.output.concentrate_ag</th>\n",
       "      <th>final.output.concentrate_pb</th>\n",
       "      <th>final.output.concentrate_sol</th>\n",
       "      <th>final.output.concentrate_au</th>\n",
       "      <th>final.output.recovery</th>\n",
       "      <th>final.output.tail_ag</th>\n",
       "      <th>final.output.tail_pb</th>\n",
       "      <th>final.output.tail_sol</th>\n",
       "      <th>final.output.tail_au</th>\n",
       "      <th>...</th>\n",
       "      <th>secondary_cleaner.state.floatbank4_a_air</th>\n",
       "      <th>secondary_cleaner.state.floatbank4_a_level</th>\n",
       "      <th>secondary_cleaner.state.floatbank4_b_air</th>\n",
       "      <th>secondary_cleaner.state.floatbank4_b_level</th>\n",
       "      <th>secondary_cleaner.state.floatbank5_a_air</th>\n",
       "      <th>secondary_cleaner.state.floatbank5_a_level</th>\n",
       "      <th>secondary_cleaner.state.floatbank5_b_air</th>\n",
       "      <th>secondary_cleaner.state.floatbank5_b_level</th>\n",
       "      <th>secondary_cleaner.state.floatbank6_a_air</th>\n",
       "      <th>secondary_cleaner.state.floatbank6_a_level</th>\n",
       "    </tr>\n",
       "  </thead>\n",
       "  <tbody>\n",
       "    <tr>\n",
       "      <th>0</th>\n",
       "      <td>2016-01-15 00:00:00</td>\n",
       "      <td>6.055403</td>\n",
       "      <td>9.889648</td>\n",
       "      <td>5.507324</td>\n",
       "      <td>42.192020</td>\n",
       "      <td>70.541216</td>\n",
       "      <td>10.411962</td>\n",
       "      <td>0.895447</td>\n",
       "      <td>16.904297</td>\n",
       "      <td>2.143149</td>\n",
       "      <td>...</td>\n",
       "      <td>14.016835</td>\n",
       "      <td>-502.488007</td>\n",
       "      <td>12.099931</td>\n",
       "      <td>-504.715942</td>\n",
       "      <td>9.925633</td>\n",
       "      <td>-498.310211</td>\n",
       "      <td>8.079666</td>\n",
       "      <td>-500.470978</td>\n",
       "      <td>14.151341</td>\n",
       "      <td>-605.841980</td>\n",
       "    </tr>\n",
       "    <tr>\n",
       "      <th>1</th>\n",
       "      <td>2016-01-15 01:00:00</td>\n",
       "      <td>6.029369</td>\n",
       "      <td>9.968944</td>\n",
       "      <td>5.257781</td>\n",
       "      <td>42.701629</td>\n",
       "      <td>69.266198</td>\n",
       "      <td>10.462676</td>\n",
       "      <td>0.927452</td>\n",
       "      <td>16.634514</td>\n",
       "      <td>2.224930</td>\n",
       "      <td>...</td>\n",
       "      <td>13.992281</td>\n",
       "      <td>-505.503262</td>\n",
       "      <td>11.950531</td>\n",
       "      <td>-501.331529</td>\n",
       "      <td>10.039245</td>\n",
       "      <td>-500.169983</td>\n",
       "      <td>7.984757</td>\n",
       "      <td>-500.582168</td>\n",
       "      <td>13.998353</td>\n",
       "      <td>-599.787184</td>\n",
       "    </tr>\n",
       "    <tr>\n",
       "      <th>2</th>\n",
       "      <td>2016-01-15 02:00:00</td>\n",
       "      <td>6.055926</td>\n",
       "      <td>10.213995</td>\n",
       "      <td>5.383759</td>\n",
       "      <td>42.657501</td>\n",
       "      <td>68.116445</td>\n",
       "      <td>10.507046</td>\n",
       "      <td>0.953716</td>\n",
       "      <td>16.208849</td>\n",
       "      <td>2.257889</td>\n",
       "      <td>...</td>\n",
       "      <td>14.015015</td>\n",
       "      <td>-502.520901</td>\n",
       "      <td>11.912783</td>\n",
       "      <td>-501.133383</td>\n",
       "      <td>10.070913</td>\n",
       "      <td>-500.129135</td>\n",
       "      <td>8.013877</td>\n",
       "      <td>-500.517572</td>\n",
       "      <td>14.028663</td>\n",
       "      <td>-601.427363</td>\n",
       "    </tr>\n",
       "    <tr>\n",
       "      <th>3</th>\n",
       "      <td>2016-01-15 03:00:00</td>\n",
       "      <td>6.047977</td>\n",
       "      <td>9.977019</td>\n",
       "      <td>4.858634</td>\n",
       "      <td>42.689819</td>\n",
       "      <td>68.347543</td>\n",
       "      <td>10.422762</td>\n",
       "      <td>0.883763</td>\n",
       "      <td>16.532835</td>\n",
       "      <td>2.146849</td>\n",
       "      <td>...</td>\n",
       "      <td>14.036510</td>\n",
       "      <td>-500.857308</td>\n",
       "      <td>11.999550</td>\n",
       "      <td>-501.193686</td>\n",
       "      <td>9.970366</td>\n",
       "      <td>-499.201640</td>\n",
       "      <td>7.977324</td>\n",
       "      <td>-500.255908</td>\n",
       "      <td>14.005551</td>\n",
       "      <td>-599.996129</td>\n",
       "    </tr>\n",
       "    <tr>\n",
       "      <th>4</th>\n",
       "      <td>2016-01-15 04:00:00</td>\n",
       "      <td>6.148599</td>\n",
       "      <td>10.142511</td>\n",
       "      <td>4.939416</td>\n",
       "      <td>42.774141</td>\n",
       "      <td>66.927016</td>\n",
       "      <td>10.360302</td>\n",
       "      <td>0.792826</td>\n",
       "      <td>16.525686</td>\n",
       "      <td>2.055292</td>\n",
       "      <td>...</td>\n",
       "      <td>14.027298</td>\n",
       "      <td>-499.838632</td>\n",
       "      <td>11.953070</td>\n",
       "      <td>-501.053894</td>\n",
       "      <td>9.925709</td>\n",
       "      <td>-501.686727</td>\n",
       "      <td>7.894242</td>\n",
       "      <td>-500.356035</td>\n",
       "      <td>13.996647</td>\n",
       "      <td>-601.496691</td>\n",
       "    </tr>\n",
       "  </tbody>\n",
       "</table>\n",
       "<p>5 rows × 87 columns</p>\n",
       "</div>"
      ],
      "text/plain": [
       "                  date  final.output.concentrate_ag  \\\n",
       "0  2016-01-15 00:00:00                     6.055403   \n",
       "1  2016-01-15 01:00:00                     6.029369   \n",
       "2  2016-01-15 02:00:00                     6.055926   \n",
       "3  2016-01-15 03:00:00                     6.047977   \n",
       "4  2016-01-15 04:00:00                     6.148599   \n",
       "\n",
       "   final.output.concentrate_pb  final.output.concentrate_sol  \\\n",
       "0                     9.889648                      5.507324   \n",
       "1                     9.968944                      5.257781   \n",
       "2                    10.213995                      5.383759   \n",
       "3                     9.977019                      4.858634   \n",
       "4                    10.142511                      4.939416   \n",
       "\n",
       "   final.output.concentrate_au  final.output.recovery  final.output.tail_ag  \\\n",
       "0                    42.192020              70.541216             10.411962   \n",
       "1                    42.701629              69.266198             10.462676   \n",
       "2                    42.657501              68.116445             10.507046   \n",
       "3                    42.689819              68.347543             10.422762   \n",
       "4                    42.774141              66.927016             10.360302   \n",
       "\n",
       "   final.output.tail_pb  final.output.tail_sol  final.output.tail_au  ...  \\\n",
       "0              0.895447              16.904297              2.143149  ...   \n",
       "1              0.927452              16.634514              2.224930  ...   \n",
       "2              0.953716              16.208849              2.257889  ...   \n",
       "3              0.883763              16.532835              2.146849  ...   \n",
       "4              0.792826              16.525686              2.055292  ...   \n",
       "\n",
       "   secondary_cleaner.state.floatbank4_a_air  \\\n",
       "0                                 14.016835   \n",
       "1                                 13.992281   \n",
       "2                                 14.015015   \n",
       "3                                 14.036510   \n",
       "4                                 14.027298   \n",
       "\n",
       "   secondary_cleaner.state.floatbank4_a_level  \\\n",
       "0                                 -502.488007   \n",
       "1                                 -505.503262   \n",
       "2                                 -502.520901   \n",
       "3                                 -500.857308   \n",
       "4                                 -499.838632   \n",
       "\n",
       "   secondary_cleaner.state.floatbank4_b_air  \\\n",
       "0                                 12.099931   \n",
       "1                                 11.950531   \n",
       "2                                 11.912783   \n",
       "3                                 11.999550   \n",
       "4                                 11.953070   \n",
       "\n",
       "   secondary_cleaner.state.floatbank4_b_level  \\\n",
       "0                                 -504.715942   \n",
       "1                                 -501.331529   \n",
       "2                                 -501.133383   \n",
       "3                                 -501.193686   \n",
       "4                                 -501.053894   \n",
       "\n",
       "   secondary_cleaner.state.floatbank5_a_air  \\\n",
       "0                                  9.925633   \n",
       "1                                 10.039245   \n",
       "2                                 10.070913   \n",
       "3                                  9.970366   \n",
       "4                                  9.925709   \n",
       "\n",
       "   secondary_cleaner.state.floatbank5_a_level  \\\n",
       "0                                 -498.310211   \n",
       "1                                 -500.169983   \n",
       "2                                 -500.129135   \n",
       "3                                 -499.201640   \n",
       "4                                 -501.686727   \n",
       "\n",
       "   secondary_cleaner.state.floatbank5_b_air  \\\n",
       "0                                  8.079666   \n",
       "1                                  7.984757   \n",
       "2                                  8.013877   \n",
       "3                                  7.977324   \n",
       "4                                  7.894242   \n",
       "\n",
       "   secondary_cleaner.state.floatbank5_b_level  \\\n",
       "0                                 -500.470978   \n",
       "1                                 -500.582168   \n",
       "2                                 -500.517572   \n",
       "3                                 -500.255908   \n",
       "4                                 -500.356035   \n",
       "\n",
       "   secondary_cleaner.state.floatbank6_a_air  \\\n",
       "0                                 14.151341   \n",
       "1                                 13.998353   \n",
       "2                                 14.028663   \n",
       "3                                 14.005551   \n",
       "4                                 13.996647   \n",
       "\n",
       "   secondary_cleaner.state.floatbank6_a_level  \n",
       "0                                 -605.841980  \n",
       "1                                 -599.787184  \n",
       "2                                 -601.427363  \n",
       "3                                 -599.996129  \n",
       "4                                 -601.496691  \n",
       "\n",
       "[5 rows x 87 columns]"
      ]
     },
     "execution_count": 5,
     "metadata": {},
     "output_type": "execute_result"
    }
   ],
   "source": [
    "full_data.head()"
   ]
  },
  {
   "cell_type": "code",
   "execution_count": 6,
   "metadata": {
    "scrolled": true
   },
   "outputs": [
    {
     "name": "stdout",
     "output_type": "stream",
     "text": [
      "<class 'pandas.core.frame.DataFrame'>\n",
      "RangeIndex: 14149 entries, 0 to 14148\n",
      "Data columns (total 87 columns):\n",
      " #   Column                                              Non-Null Count  Dtype  \n",
      "---  ------                                              --------------  -----  \n",
      " 0   date                                                14149 non-null  object \n",
      " 1   final.output.concentrate_ag                         14148 non-null  float64\n",
      " 2   final.output.concentrate_pb                         14148 non-null  float64\n",
      " 3   final.output.concentrate_sol                        13938 non-null  float64\n",
      " 4   final.output.concentrate_au                         14149 non-null  float64\n",
      " 5   final.output.recovery                               14149 non-null  float64\n",
      " 6   final.output.tail_ag                                14149 non-null  float64\n",
      " 7   final.output.tail_pb                                14049 non-null  float64\n",
      " 8   final.output.tail_sol                               14144 non-null  float64\n",
      " 9   final.output.tail_au                                14149 non-null  float64\n",
      " 10  primary_cleaner.input.sulfate                       14129 non-null  float64\n",
      " 11  primary_cleaner.input.depressant                    14117 non-null  float64\n",
      " 12  primary_cleaner.input.feed_size                     14149 non-null  float64\n",
      " 13  primary_cleaner.input.xanthate                      14049 non-null  float64\n",
      " 14  primary_cleaner.output.concentrate_ag               14149 non-null  float64\n",
      " 15  primary_cleaner.output.concentrate_pb               14063 non-null  float64\n",
      " 16  primary_cleaner.output.concentrate_sol              13863 non-null  float64\n",
      " 17  primary_cleaner.output.concentrate_au               14149 non-null  float64\n",
      " 18  primary_cleaner.output.tail_ag                      14148 non-null  float64\n",
      " 19  primary_cleaner.output.tail_pb                      14134 non-null  float64\n",
      " 20  primary_cleaner.output.tail_sol                     14103 non-null  float64\n",
      " 21  primary_cleaner.output.tail_au                      14149 non-null  float64\n",
      " 22  primary_cleaner.state.floatbank8_a_air              14145 non-null  float64\n",
      " 23  primary_cleaner.state.floatbank8_a_level            14148 non-null  float64\n",
      " 24  primary_cleaner.state.floatbank8_b_air              14145 non-null  float64\n",
      " 25  primary_cleaner.state.floatbank8_b_level            14148 non-null  float64\n",
      " 26  primary_cleaner.state.floatbank8_c_air              14147 non-null  float64\n",
      " 27  primary_cleaner.state.floatbank8_c_level            14148 non-null  float64\n",
      " 28  primary_cleaner.state.floatbank8_d_air              14146 non-null  float64\n",
      " 29  primary_cleaner.state.floatbank8_d_level            14148 non-null  float64\n",
      " 30  rougher.calculation.sulfate_to_au_concentrate       14148 non-null  float64\n",
      " 31  rougher.calculation.floatbank10_sulfate_to_au_feed  14148 non-null  float64\n",
      " 32  rougher.calculation.floatbank11_sulfate_to_au_feed  14148 non-null  float64\n",
      " 33  rougher.calculation.au_pb_ratio                     14149 non-null  float64\n",
      " 34  rougher.input.feed_ag                               14149 non-null  float64\n",
      " 35  rougher.input.feed_pb                               14049 non-null  float64\n",
      " 36  rougher.input.feed_rate                             14141 non-null  float64\n",
      " 37  rougher.input.feed_size                             14005 non-null  float64\n",
      " 38  rougher.input.feed_sol                              14071 non-null  float64\n",
      " 39  rougher.input.feed_au                               14149 non-null  float64\n",
      " 40  rougher.input.floatbank10_sulfate                   14120 non-null  float64\n",
      " 41  rougher.input.floatbank10_xanthate                  14141 non-null  float64\n",
      " 42  rougher.input.floatbank11_sulfate                   14113 non-null  float64\n",
      " 43  rougher.input.floatbank11_xanthate                  13721 non-null  float64\n",
      " 44  rougher.output.concentrate_ag                       14149 non-null  float64\n",
      " 45  rougher.output.concentrate_pb                       14149 non-null  float64\n",
      " 46  rougher.output.concentrate_sol                      14127 non-null  float64\n",
      " 47  rougher.output.concentrate_au                       14149 non-null  float64\n",
      " 48  rougher.output.recovery                             14149 non-null  float64\n",
      " 49  rougher.output.tail_ag                              14148 non-null  float64\n",
      " 50  rougher.output.tail_pb                              14149 non-null  float64\n",
      " 51  rougher.output.tail_sol                             14149 non-null  float64\n",
      " 52  rougher.output.tail_au                              14149 non-null  float64\n",
      " 53  rougher.state.floatbank10_a_air                     14148 non-null  float64\n",
      " 54  rougher.state.floatbank10_a_level                   14148 non-null  float64\n",
      " 55  rougher.state.floatbank10_b_air                     14148 non-null  float64\n",
      " 56  rougher.state.floatbank10_b_level                   14148 non-null  float64\n",
      " 57  rougher.state.floatbank10_c_air                     14148 non-null  float64\n",
      " 58  rougher.state.floatbank10_c_level                   14148 non-null  float64\n",
      " 59  rougher.state.floatbank10_d_air                     14149 non-null  float64\n",
      " 60  rougher.state.floatbank10_d_level                   14149 non-null  float64\n",
      " 61  rougher.state.floatbank10_e_air                     13713 non-null  float64\n",
      " 62  rougher.state.floatbank10_e_level                   14149 non-null  float64\n",
      " 63  rougher.state.floatbank10_f_air                     14149 non-null  float64\n",
      " 64  rougher.state.floatbank10_f_level                   14149 non-null  float64\n",
      " 65  secondary_cleaner.output.tail_ag                    14147 non-null  float64\n",
      " 66  secondary_cleaner.output.tail_pb                    14139 non-null  float64\n",
      " 67  secondary_cleaner.output.tail_sol                   12544 non-null  float64\n",
      " 68  secondary_cleaner.output.tail_au                    14149 non-null  float64\n",
      " 69  secondary_cleaner.state.floatbank2_a_air            13932 non-null  float64\n",
      " 70  secondary_cleaner.state.floatbank2_a_level          14148 non-null  float64\n",
      " 71  secondary_cleaner.state.floatbank2_b_air            14128 non-null  float64\n",
      " 72  secondary_cleaner.state.floatbank2_b_level          14148 non-null  float64\n",
      " 73  secondary_cleaner.state.floatbank3_a_air            14145 non-null  float64\n",
      " 74  secondary_cleaner.state.floatbank3_a_level          14148 non-null  float64\n",
      " 75  secondary_cleaner.state.floatbank3_b_air            14148 non-null  float64\n",
      " 76  secondary_cleaner.state.floatbank3_b_level          14148 non-null  float64\n",
      " 77  secondary_cleaner.state.floatbank4_a_air            14143 non-null  float64\n",
      " 78  secondary_cleaner.state.floatbank4_a_level          14148 non-null  float64\n",
      " 79  secondary_cleaner.state.floatbank4_b_air            14148 non-null  float64\n",
      " 80  secondary_cleaner.state.floatbank4_b_level          14148 non-null  float64\n",
      " 81  secondary_cleaner.state.floatbank5_a_air            14148 non-null  float64\n",
      " 82  secondary_cleaner.state.floatbank5_a_level          14148 non-null  float64\n",
      " 83  secondary_cleaner.state.floatbank5_b_air            14148 non-null  float64\n",
      " 84  secondary_cleaner.state.floatbank5_b_level          14148 non-null  float64\n",
      " 85  secondary_cleaner.state.floatbank6_a_air            14147 non-null  float64\n",
      " 86  secondary_cleaner.state.floatbank6_a_level          14148 non-null  float64\n",
      "dtypes: float64(86), object(1)\n",
      "memory usage: 9.4+ MB\n"
     ]
    }
   ],
   "source": [
    "train_data.info()"
   ]
  },
  {
   "cell_type": "code",
   "execution_count": 7,
   "metadata": {},
   "outputs": [
    {
     "name": "stdout",
     "output_type": "stream",
     "text": [
      "<class 'pandas.core.frame.DataFrame'>\n",
      "RangeIndex: 5290 entries, 0 to 5289\n",
      "Data columns (total 53 columns):\n",
      " #   Column                                      Non-Null Count  Dtype  \n",
      "---  ------                                      --------------  -----  \n",
      " 0   date                                        5290 non-null   object \n",
      " 1   primary_cleaner.input.sulfate               5286 non-null   float64\n",
      " 2   primary_cleaner.input.depressant            5285 non-null   float64\n",
      " 3   primary_cleaner.input.feed_size             5290 non-null   float64\n",
      " 4   primary_cleaner.input.xanthate              5286 non-null   float64\n",
      " 5   primary_cleaner.state.floatbank8_a_air      5290 non-null   float64\n",
      " 6   primary_cleaner.state.floatbank8_a_level    5290 non-null   float64\n",
      " 7   primary_cleaner.state.floatbank8_b_air      5290 non-null   float64\n",
      " 8   primary_cleaner.state.floatbank8_b_level    5290 non-null   float64\n",
      " 9   primary_cleaner.state.floatbank8_c_air      5290 non-null   float64\n",
      " 10  primary_cleaner.state.floatbank8_c_level    5290 non-null   float64\n",
      " 11  primary_cleaner.state.floatbank8_d_air      5290 non-null   float64\n",
      " 12  primary_cleaner.state.floatbank8_d_level    5290 non-null   float64\n",
      " 13  rougher.input.feed_ag                       5290 non-null   float64\n",
      " 14  rougher.input.feed_pb                       5290 non-null   float64\n",
      " 15  rougher.input.feed_rate                     5287 non-null   float64\n",
      " 16  rougher.input.feed_size                     5289 non-null   float64\n",
      " 17  rougher.input.feed_sol                      5269 non-null   float64\n",
      " 18  rougher.input.feed_au                       5290 non-null   float64\n",
      " 19  rougher.input.floatbank10_sulfate           5285 non-null   float64\n",
      " 20  rougher.input.floatbank10_xanthate          5290 non-null   float64\n",
      " 21  rougher.input.floatbank11_sulfate           5282 non-null   float64\n",
      " 22  rougher.input.floatbank11_xanthate          5265 non-null   float64\n",
      " 23  rougher.state.floatbank10_a_air             5290 non-null   float64\n",
      " 24  rougher.state.floatbank10_a_level           5290 non-null   float64\n",
      " 25  rougher.state.floatbank10_b_air             5290 non-null   float64\n",
      " 26  rougher.state.floatbank10_b_level           5290 non-null   float64\n",
      " 27  rougher.state.floatbank10_c_air             5290 non-null   float64\n",
      " 28  rougher.state.floatbank10_c_level           5290 non-null   float64\n",
      " 29  rougher.state.floatbank10_d_air             5290 non-null   float64\n",
      " 30  rougher.state.floatbank10_d_level           5290 non-null   float64\n",
      " 31  rougher.state.floatbank10_e_air             5290 non-null   float64\n",
      " 32  rougher.state.floatbank10_e_level           5290 non-null   float64\n",
      " 33  rougher.state.floatbank10_f_air             5290 non-null   float64\n",
      " 34  rougher.state.floatbank10_f_level           5290 non-null   float64\n",
      " 35  secondary_cleaner.state.floatbank2_a_air    5287 non-null   float64\n",
      " 36  secondary_cleaner.state.floatbank2_a_level  5290 non-null   float64\n",
      " 37  secondary_cleaner.state.floatbank2_b_air    5288 non-null   float64\n",
      " 38  secondary_cleaner.state.floatbank2_b_level  5290 non-null   float64\n",
      " 39  secondary_cleaner.state.floatbank3_a_air    5281 non-null   float64\n",
      " 40  secondary_cleaner.state.floatbank3_a_level  5290 non-null   float64\n",
      " 41  secondary_cleaner.state.floatbank3_b_air    5290 non-null   float64\n",
      " 42  secondary_cleaner.state.floatbank3_b_level  5290 non-null   float64\n",
      " 43  secondary_cleaner.state.floatbank4_a_air    5290 non-null   float64\n",
      " 44  secondary_cleaner.state.floatbank4_a_level  5290 non-null   float64\n",
      " 45  secondary_cleaner.state.floatbank4_b_air    5290 non-null   float64\n",
      " 46  secondary_cleaner.state.floatbank4_b_level  5290 non-null   float64\n",
      " 47  secondary_cleaner.state.floatbank5_a_air    5290 non-null   float64\n",
      " 48  secondary_cleaner.state.floatbank5_a_level  5290 non-null   float64\n",
      " 49  secondary_cleaner.state.floatbank5_b_air    5290 non-null   float64\n",
      " 50  secondary_cleaner.state.floatbank5_b_level  5290 non-null   float64\n",
      " 51  secondary_cleaner.state.floatbank6_a_air    5290 non-null   float64\n",
      " 52  secondary_cleaner.state.floatbank6_a_level  5290 non-null   float64\n",
      "dtypes: float64(52), object(1)\n",
      "memory usage: 2.1+ MB\n"
     ]
    }
   ],
   "source": [
    "test_data.info()"
   ]
  },
  {
   "cell_type": "code",
   "execution_count": 8,
   "metadata": {},
   "outputs": [
    {
     "name": "stdout",
     "output_type": "stream",
     "text": [
      "<class 'pandas.core.frame.DataFrame'>\n",
      "RangeIndex: 19439 entries, 0 to 19438\n",
      "Data columns (total 87 columns):\n",
      " #   Column                                              Non-Null Count  Dtype  \n",
      "---  ------                                              --------------  -----  \n",
      " 0   date                                                19439 non-null  object \n",
      " 1   final.output.concentrate_ag                         19438 non-null  float64\n",
      " 2   final.output.concentrate_pb                         19438 non-null  float64\n",
      " 3   final.output.concentrate_sol                        19228 non-null  float64\n",
      " 4   final.output.concentrate_au                         19439 non-null  float64\n",
      " 5   final.output.recovery                               19439 non-null  float64\n",
      " 6   final.output.tail_ag                                19438 non-null  float64\n",
      " 7   final.output.tail_pb                                19338 non-null  float64\n",
      " 8   final.output.tail_sol                               19433 non-null  float64\n",
      " 9   final.output.tail_au                                19439 non-null  float64\n",
      " 10  primary_cleaner.input.sulfate                       19415 non-null  float64\n",
      " 11  primary_cleaner.input.depressant                    19402 non-null  float64\n",
      " 12  primary_cleaner.input.feed_size                     19439 non-null  float64\n",
      " 13  primary_cleaner.input.xanthate                      19335 non-null  float64\n",
      " 14  primary_cleaner.output.concentrate_ag               19439 non-null  float64\n",
      " 15  primary_cleaner.output.concentrate_pb               19323 non-null  float64\n",
      " 16  primary_cleaner.output.concentrate_sol              19069 non-null  float64\n",
      " 17  primary_cleaner.output.concentrate_au               19439 non-null  float64\n",
      " 18  primary_cleaner.output.tail_ag                      19435 non-null  float64\n",
      " 19  primary_cleaner.output.tail_pb                      19418 non-null  float64\n",
      " 20  primary_cleaner.output.tail_sol                     19377 non-null  float64\n",
      " 21  primary_cleaner.output.tail_au                      19439 non-null  float64\n",
      " 22  primary_cleaner.state.floatbank8_a_air              19435 non-null  float64\n",
      " 23  primary_cleaner.state.floatbank8_a_level            19438 non-null  float64\n",
      " 24  primary_cleaner.state.floatbank8_b_air              19435 non-null  float64\n",
      " 25  primary_cleaner.state.floatbank8_b_level            19438 non-null  float64\n",
      " 26  primary_cleaner.state.floatbank8_c_air              19437 non-null  float64\n",
      " 27  primary_cleaner.state.floatbank8_c_level            19438 non-null  float64\n",
      " 28  primary_cleaner.state.floatbank8_d_air              19436 non-null  float64\n",
      " 29  primary_cleaner.state.floatbank8_d_level            19438 non-null  float64\n",
      " 30  rougher.calculation.sulfate_to_au_concentrate       19437 non-null  float64\n",
      " 31  rougher.calculation.floatbank10_sulfate_to_au_feed  19437 non-null  float64\n",
      " 32  rougher.calculation.floatbank11_sulfate_to_au_feed  19437 non-null  float64\n",
      " 33  rougher.calculation.au_pb_ratio                     19439 non-null  float64\n",
      " 34  rougher.input.feed_ag                               19439 non-null  float64\n",
      " 35  rougher.input.feed_pb                               19339 non-null  float64\n",
      " 36  rougher.input.feed_rate                             19428 non-null  float64\n",
      " 37  rougher.input.feed_size                             19294 non-null  float64\n",
      " 38  rougher.input.feed_sol                              19340 non-null  float64\n",
      " 39  rougher.input.feed_au                               19439 non-null  float64\n",
      " 40  rougher.input.floatbank10_sulfate                   19405 non-null  float64\n",
      " 41  rougher.input.floatbank10_xanthate                  19431 non-null  float64\n",
      " 42  rougher.input.floatbank11_sulfate                   19395 non-null  float64\n",
      " 43  rougher.input.floatbank11_xanthate                  18986 non-null  float64\n",
      " 44  rougher.output.concentrate_ag                       19439 non-null  float64\n",
      " 45  rougher.output.concentrate_pb                       19439 non-null  float64\n",
      " 46  rougher.output.concentrate_sol                      19416 non-null  float64\n",
      " 47  rougher.output.concentrate_au                       19439 non-null  float64\n",
      " 48  rougher.output.recovery                             19439 non-null  float64\n",
      " 49  rougher.output.tail_ag                              19438 non-null  float64\n",
      " 50  rougher.output.tail_pb                              19439 non-null  float64\n",
      " 51  rougher.output.tail_sol                             19439 non-null  float64\n",
      " 52  rougher.output.tail_au                              19439 non-null  float64\n",
      " 53  rougher.state.floatbank10_a_air                     19438 non-null  float64\n",
      " 54  rougher.state.floatbank10_a_level                   19438 non-null  float64\n",
      " 55  rougher.state.floatbank10_b_air                     19438 non-null  float64\n",
      " 56  rougher.state.floatbank10_b_level                   19438 non-null  float64\n",
      " 57  rougher.state.floatbank10_c_air                     19438 non-null  float64\n",
      " 58  rougher.state.floatbank10_c_level                   19438 non-null  float64\n",
      " 59  rougher.state.floatbank10_d_air                     19439 non-null  float64\n",
      " 60  rougher.state.floatbank10_d_level                   19439 non-null  float64\n",
      " 61  rougher.state.floatbank10_e_air                     19003 non-null  float64\n",
      " 62  rougher.state.floatbank10_e_level                   19439 non-null  float64\n",
      " 63  rougher.state.floatbank10_f_air                     19439 non-null  float64\n",
      " 64  rougher.state.floatbank10_f_level                   19439 non-null  float64\n",
      " 65  secondary_cleaner.output.tail_ag                    19437 non-null  float64\n",
      " 66  secondary_cleaner.output.tail_pb                    19427 non-null  float64\n",
      " 67  secondary_cleaner.output.tail_sol                   17691 non-null  float64\n",
      " 68  secondary_cleaner.output.tail_au                    19439 non-null  float64\n",
      " 69  secondary_cleaner.state.floatbank2_a_air            19219 non-null  float64\n",
      " 70  secondary_cleaner.state.floatbank2_a_level          19438 non-null  float64\n",
      " 71  secondary_cleaner.state.floatbank2_b_air            19416 non-null  float64\n",
      " 72  secondary_cleaner.state.floatbank2_b_level          19438 non-null  float64\n",
      " 73  secondary_cleaner.state.floatbank3_a_air            19426 non-null  float64\n",
      " 74  secondary_cleaner.state.floatbank3_a_level          19438 non-null  float64\n",
      " 75  secondary_cleaner.state.floatbank3_b_air            19438 non-null  float64\n",
      " 76  secondary_cleaner.state.floatbank3_b_level          19438 non-null  float64\n",
      " 77  secondary_cleaner.state.floatbank4_a_air            19433 non-null  float64\n",
      " 78  secondary_cleaner.state.floatbank4_a_level          19438 non-null  float64\n",
      " 79  secondary_cleaner.state.floatbank4_b_air            19438 non-null  float64\n",
      " 80  secondary_cleaner.state.floatbank4_b_level          19438 non-null  float64\n",
      " 81  secondary_cleaner.state.floatbank5_a_air            19438 non-null  float64\n",
      " 82  secondary_cleaner.state.floatbank5_a_level          19438 non-null  float64\n",
      " 83  secondary_cleaner.state.floatbank5_b_air            19438 non-null  float64\n",
      " 84  secondary_cleaner.state.floatbank5_b_level          19438 non-null  float64\n",
      " 85  secondary_cleaner.state.floatbank6_a_air            19437 non-null  float64\n",
      " 86  secondary_cleaner.state.floatbank6_a_level          19438 non-null  float64\n",
      "dtypes: float64(86), object(1)\n",
      "memory usage: 12.9+ MB\n"
     ]
    }
   ],
   "source": [
    "full_data.info()"
   ]
  },
  {
   "cell_type": "markdown",
   "metadata": {},
   "source": [
    " "
   ]
  },
  {
   "cell_type": "markdown",
   "metadata": {},
   "source": [
    " "
   ]
  },
  {
   "cell_type": "markdown",
   "metadata": {},
   "source": [
    "### Проверим, что эффективность обогащения рассчитана правильно"
   ]
  },
  {
   "cell_type": "markdown",
   "metadata": {},
   "source": [
    "Рассчитаем эффективность обогащения для чернового концентрата Recovery по формуле\n",
    "\n",
    "![Формула:](https://pictures.s3.yandex.net/resources/Recovery_1576238822.jpg)\n",
    "\n",
    "где:\n",
    "- C — доля золота в концентрате после флотации/очистки;\n",
    "- F — доля золота в сырье/концентрате до флотации/очистки;\n",
    "- T — доля золота в отвальных хвостах после флотации/очистки."
   ]
  },
  {
   "cell_type": "code",
   "execution_count": 9,
   "metadata": {},
   "outputs": [],
   "source": [
    "train_data['calculated_recovery'] = \\\n",
    "(train_data['rougher.output.concentrate_au'] * \n",
    "(train_data['rougher.input.feed_au'] - train_data['rougher.output.tail_au']) / \n",
    "(train_data['rougher.input.feed_au'] * \n",
    "(train_data['rougher.output.concentrate_au'] - train_data['rougher.output.tail_au']))) * 100"
   ]
  },
  {
   "cell_type": "code",
   "execution_count": 10,
   "metadata": {},
   "outputs": [
    {
     "name": "stdout",
     "output_type": "stream",
     "text": [
      "MAE = 9.73512347450521e-15\n"
     ]
    }
   ],
   "source": [
    "# Вычисление MAE\n",
    "\n",
    "MAE = mean_absolute_error(train_data['rougher.output.recovery'], train_data['calculated_recovery'])\n",
    "print(f'MAE = {MAE}')"
   ]
  },
  {
   "cell_type": "markdown",
   "metadata": {},
   "source": [
    "Полученное значение MAE принимает крайне низкое значение и близко к нулю, что говорит о малой средней ошибке, что означает что формула хорошо подходит для расчёта `rougher.output.recovery` и эффективность обогащения рассчитана правильно в обучающей выборке."
   ]
  },
  {
   "cell_type": "markdown",
   "metadata": {},
   "source": [
    "Так же предлагаю посчитать метрику MAPE для подтверждения точности"
   ]
  },
  {
   "cell_type": "code",
   "execution_count": 11,
   "metadata": {
    "scrolled": true
   },
   "outputs": [
    {
     "name": "stdout",
     "output_type": "stream",
     "text": [
      "MAPE = 0.00%\n"
     ]
    }
   ],
   "source": [
    "MAPE = mean_absolute_percentage_error(train_data['rougher.output.recovery'], train_data['calculated_recovery'])\n",
    "print(f'MAPE = {MAPE:.2%}')"
   ]
  },
  {
   "cell_type": "markdown",
   "metadata": {},
   "source": [
    "MAPE в 0.00% подтверждает, что процентная ошибка между фактическими значениями и рассчитанными значениями настолько мала, что её можно считать несущественной"
   ]
  },
  {
   "cell_type": "markdown",
   "metadata": {},
   "source": [
    " "
   ]
  },
  {
   "cell_type": "markdown",
   "metadata": {},
   "source": [
    " "
   ]
  },
  {
   "cell_type": "markdown",
   "metadata": {},
   "source": [
    "### Проанализируем признаки, недоступные в тестовой выборке."
   ]
  },
  {
   "cell_type": "code",
   "execution_count": 12,
   "metadata": {},
   "outputs": [],
   "source": [
    "# Определим признаки, которые отсуствуют в тестовой выборке, но есть в обучающей\n",
    "\n",
    "miss_features = set(train_data.columns) - set(test_data.columns)"
   ]
  },
  {
   "cell_type": "code",
   "execution_count": 13,
   "metadata": {},
   "outputs": [
    {
     "data": {
      "text/plain": [
       "secondary_cleaner.output.tail_au                      float64\n",
       "final.output.concentrate_sol                          float64\n",
       "rougher.output.tail_pb                                float64\n",
       "calculated_recovery                                   float64\n",
       "secondary_cleaner.output.tail_pb                      float64\n",
       "primary_cleaner.output.tail_au                        float64\n",
       "final.output.concentrate_pb                           float64\n",
       "primary_cleaner.output.tail_pb                        float64\n",
       "final.output.tail_pb                                  float64\n",
       "secondary_cleaner.output.tail_sol                     float64\n",
       "final.output.tail_sol                                 float64\n",
       "rougher.output.tail_sol                               float64\n",
       "rougher.output.tail_ag                                float64\n",
       "rougher.calculation.floatbank11_sulfate_to_au_feed    float64\n",
       "secondary_cleaner.output.tail_ag                      float64\n",
       "primary_cleaner.output.concentrate_au                 float64\n",
       "primary_cleaner.output.concentrate_sol                float64\n",
       "primary_cleaner.output.concentrate_pb                 float64\n",
       "final.output.tail_au                                  float64\n",
       "rougher.output.concentrate_ag                         float64\n",
       "rougher.output.concentrate_au                         float64\n",
       "primary_cleaner.output.tail_sol                       float64\n",
       "final.output.recovery                                 float64\n",
       "rougher.calculation.sulfate_to_au_concentrate         float64\n",
       "rougher.output.concentrate_sol                        float64\n",
       "rougher.output.tail_au                                float64\n",
       "final.output.tail_ag                                  float64\n",
       "rougher.output.concentrate_pb                         float64\n",
       "final.output.concentrate_au                           float64\n",
       "rougher.calculation.au_pb_ratio                       float64\n",
       "rougher.calculation.floatbank10_sulfate_to_au_feed    float64\n",
       "primary_cleaner.output.tail_ag                        float64\n",
       "primary_cleaner.output.concentrate_ag                 float64\n",
       "final.output.concentrate_ag                           float64\n",
       "rougher.output.recovery                               float64\n",
       "dtype: object"
      ]
     },
     "execution_count": 13,
     "metadata": {},
     "output_type": "execute_result"
    }
   ],
   "source": [
    "# Выведем типы столбцов отстутствующих в тестовой выборке\n",
    "\n",
    "miss_features_info = train_data[miss_features].dtypes\n",
    "miss_features_info"
   ]
  },
  {
   "cell_type": "markdown",
   "metadata": {},
   "source": [
    "Основные присутсвующие типы параметров это: `output` и `calculation`. \n",
    "\n",
    "`output` как целевой параметр должен отсуствовать в тестовой выборке, так же как и `calculation`, который является расчётной характеристикой."
   ]
  },
  {
   "cell_type": "markdown",
   "metadata": {},
   "source": [
    " "
   ]
  },
  {
   "cell_type": "markdown",
   "metadata": {},
   "source": [
    " "
   ]
  },
  {
   "cell_type": "markdown",
   "metadata": {},
   "source": [
    "### Проведём предобработку данных."
   ]
  },
  {
   "cell_type": "code",
   "execution_count": 14,
   "metadata": {},
   "outputs": [
    {
     "data": {
      "text/plain": [
       "secondary_cleaner.output.tail_sol           1605\n",
       "rougher.state.floatbank10_e_air              436\n",
       "rougher.input.floatbank11_xanthate           428\n",
       "primary_cleaner.output.concentrate_sol       286\n",
       "secondary_cleaner.state.floatbank2_a_air     217\n",
       "                                            ... \n",
       "rougher.output.tail_au                         0\n",
       "rougher.state.floatbank10_d_air                0\n",
       "rougher.state.floatbank10_d_level              0\n",
       "rougher.state.floatbank10_e_level              0\n",
       "calculated_recovery                            0\n",
       "Length: 88, dtype: int64"
      ]
     },
     "execution_count": 14,
     "metadata": {},
     "output_type": "execute_result"
    }
   ],
   "source": [
    "# Подсчёт пустых значений gold_recovery_train_new.csv\n",
    "\n",
    "train_data.isnull().sum().sort_values(ascending=False)"
   ]
  },
  {
   "cell_type": "code",
   "execution_count": 15,
   "metadata": {},
   "outputs": [
    {
     "data": {
      "text/plain": [
       "rougher.input.floatbank11_xanthate            25\n",
       "rougher.input.feed_sol                        21\n",
       "secondary_cleaner.state.floatbank3_a_air       9\n",
       "rougher.input.floatbank11_sulfate              8\n",
       "primary_cleaner.input.depressant               5\n",
       "rougher.input.floatbank10_sulfate              5\n",
       "primary_cleaner.input.xanthate                 4\n",
       "primary_cleaner.input.sulfate                  4\n",
       "rougher.input.feed_rate                        3\n",
       "secondary_cleaner.state.floatbank2_a_air       3\n",
       "secondary_cleaner.state.floatbank2_b_air       2\n",
       "rougher.input.feed_size                        1\n",
       "secondary_cleaner.state.floatbank2_b_level     0\n",
       "rougher.state.floatbank10_f_level              0\n",
       "rougher.state.floatbank10_f_air                0\n",
       "secondary_cleaner.state.floatbank3_a_level     0\n",
       "secondary_cleaner.state.floatbank2_a_level     0\n",
       "date                                           0\n",
       "rougher.state.floatbank10_e_air                0\n",
       "secondary_cleaner.state.floatbank3_b_air       0\n",
       "secondary_cleaner.state.floatbank3_b_level     0\n",
       "secondary_cleaner.state.floatbank4_a_air       0\n",
       "secondary_cleaner.state.floatbank4_a_level     0\n",
       "secondary_cleaner.state.floatbank4_b_air       0\n",
       "secondary_cleaner.state.floatbank4_b_level     0\n",
       "secondary_cleaner.state.floatbank5_a_air       0\n",
       "secondary_cleaner.state.floatbank5_a_level     0\n",
       "secondary_cleaner.state.floatbank5_b_air       0\n",
       "secondary_cleaner.state.floatbank5_b_level     0\n",
       "secondary_cleaner.state.floatbank6_a_air       0\n",
       "rougher.state.floatbank10_e_level              0\n",
       "rougher.state.floatbank10_b_level              0\n",
       "rougher.state.floatbank10_d_level              0\n",
       "primary_cleaner.state.floatbank8_d_level       0\n",
       "primary_cleaner.input.feed_size                0\n",
       "primary_cleaner.state.floatbank8_a_air         0\n",
       "primary_cleaner.state.floatbank8_a_level       0\n",
       "primary_cleaner.state.floatbank8_b_air         0\n",
       "primary_cleaner.state.floatbank8_b_level       0\n",
       "primary_cleaner.state.floatbank8_c_air         0\n",
       "primary_cleaner.state.floatbank8_c_level       0\n",
       "primary_cleaner.state.floatbank8_d_air         0\n",
       "rougher.input.feed_ag                          0\n",
       "rougher.state.floatbank10_d_air                0\n",
       "rougher.input.feed_pb                          0\n",
       "rougher.input.feed_au                          0\n",
       "rougher.input.floatbank10_xanthate             0\n",
       "rougher.state.floatbank10_a_air                0\n",
       "rougher.state.floatbank10_a_level              0\n",
       "rougher.state.floatbank10_b_air                0\n",
       "rougher.state.floatbank10_c_air                0\n",
       "rougher.state.floatbank10_c_level              0\n",
       "secondary_cleaner.state.floatbank6_a_level     0\n",
       "dtype: int64"
      ]
     },
     "execution_count": 15,
     "metadata": {},
     "output_type": "execute_result"
    }
   ],
   "source": [
    "# Подсчёт пустых значений gold_recovery_test_new.csv\n",
    "\n",
    "test_data.isnull().sum().sort_values(ascending=False)"
   ]
  },
  {
   "cell_type": "code",
   "execution_count": 16,
   "metadata": {},
   "outputs": [],
   "source": [
    "# Заполним пропуски методом интерполяции, так как данные индексируются по времени\n",
    "\n",
    "train_data = train_data.interpolate(method='linear')\n",
    "test_data = test_data.interpolate(method='linear')\n",
    "full_data = full_data.interpolate(method='linear')"
   ]
  },
  {
   "cell_type": "code",
   "execution_count": 17,
   "metadata": {},
   "outputs": [
    {
     "name": "stdout",
     "output_type": "stream",
     "text": [
      "0\n",
      "0\n",
      "0\n"
     ]
    }
   ],
   "source": [
    "# Считаем количество пустых значений\n",
    "\n",
    "print(train_data.isnull().sum().sum())\n",
    "print(test_data.isnull().sum().sum())\n",
    "print(full_data.isnull().sum().sum())"
   ]
  },
  {
   "cell_type": "code",
   "execution_count": 18,
   "metadata": {
    "scrolled": true
   },
   "outputs": [
    {
     "name": "stdout",
     "output_type": "stream",
     "text": [
      "Количество строк-дубликатов train_data: 0\n",
      "Количество строк-дубликатов test_data: 0\n",
      "Количество строк-дубликатов full_data: 0\n"
     ]
    }
   ],
   "source": [
    "# Вывод количества строк-дубликатов в данных\n",
    "\n",
    "print('Количество строк-дубликатов train_data:', train_data.duplicated().sum())\n",
    "print('Количество строк-дубликатов test_data:', test_data.duplicated().sum())\n",
    "print('Количество строк-дубликатов full_data:', full_data.duplicated().sum())"
   ]
  },
  {
   "cell_type": "code",
   "execution_count": 19,
   "metadata": {},
   "outputs": [],
   "source": [
    "# Преобразуем столбец date в в формат datetime\n",
    "\n",
    "train_data['date'] = pd.to_datetime(train_data['date'])\n",
    "test_data['date'] = pd.to_datetime(test_data['date'])\n",
    "full_data['date'] = pd.to_datetime(full_data['date'])"
   ]
  },
  {
   "cell_type": "markdown",
   "metadata": {},
   "source": [
    " "
   ]
  },
  {
   "cell_type": "markdown",
   "metadata": {},
   "source": [
    "- Были загружены и изучены три набора данных: обучающий, тестовый и исходный.\n",
    "- Эффективность обогащения рассчитана правильно, что подтвердилось минимальной ошибкой (MAE ≈ 0 и MAPE ≈ 0%), что означает высокую точность расчетов.\n",
    "- Выявлены признаки, которые присутствуют только в обучающей выборке (output и calculation).\n",
    "- Для устранения пропусков применена линейная интерполяция. Были проверены и исключены строки-дубликаты, а также произведено преобразование столбца date.\n"
   ]
  },
  {
   "cell_type": "markdown",
   "metadata": {},
   "source": [
    " "
   ]
  },
  {
   "cell_type": "markdown",
   "metadata": {},
   "source": [
    " "
   ]
  },
  {
   "cell_type": "markdown",
   "metadata": {},
   "source": [
    " "
   ]
  },
  {
   "cell_type": "markdown",
   "metadata": {},
   "source": [
    " "
   ]
  },
  {
   "cell_type": "markdown",
   "metadata": {},
   "source": [
    "## Анализ данных"
   ]
  },
  {
   "cell_type": "markdown",
   "metadata": {},
   "source": [
    "### Посмотрим, как меняется концентрация металлов (Au, Ag, Pb) на различных этапах очистки"
   ]
  },
  {
   "cell_type": "markdown",
   "metadata": {},
   "source": [
    "Для того чтобы оценить концентрацию металов на различных этапах очистки необходимо определить средние значения для этапов:\n",
    "\n",
    "- rougher — флотация\n",
    "- primary_cleaner — первичная очистка\n",
    "- secondary_cleaner — вторичная очистка\n",
    "- final — финальные характеристики\n",
    "\n",
    "Для параметра флотации взять сырьё на входе и выходе. На входе считать как начальную концентрацию."
   ]
  },
  {
   "cell_type": "markdown",
   "metadata": {},
   "source": [
    "Используем следующие параметры:\n",
    "- `rougher.input.feed_au`, `rougher.input.feed_ag`, `rougher.input.feed_pb` - начальное сырье\n",
    "- `rougher.output.concentrate_au`, `rougher.output.concentrate_ag`, `rougher.output.concentrate_pb` - после флотации\n",
    "- `primary_cleaner.output.concentrate_au`, `primary_cleaner.output.concentrate_ag`, `primary_cleaner.output.concentrate_pb` - после первичной очистки\n",
    "- `final.output.concentrate_au`, `final.output.concentrate_ag`, `final.output.concentrate_pb` - после вторичной очистки"
   ]
  },
  {
   "cell_type": "code",
   "execution_count": 20,
   "metadata": {},
   "outputs": [],
   "source": [
    "# Определим концетрацию золота Au\n",
    "\n",
    "au_concentrate = {\n",
    "    'Начальное сырьё': train_data['rougher.input.feed_au'].mean(),\n",
    "    'После флотации': train_data['rougher.output.concentrate_au'].mean(),\n",
    "    'После первичной очистки': train_data['primary_cleaner.output.concentrate_au'].mean(),\n",
    "    'После вторичной очистки': train_data['final.output.concentrate_au'].mean()\n",
    "}"
   ]
  },
  {
   "cell_type": "code",
   "execution_count": 21,
   "metadata": {},
   "outputs": [],
   "source": [
    "# Определим концетрацию серебра Ag\n",
    "\n",
    "ag_concentrate = {\n",
    "    'Начальное сырьё': train_data['rougher.input.feed_ag'].mean(),\n",
    "    'После флотации': train_data['rougher.output.concentrate_ag'].mean(),\n",
    "    'После первичной очистки': train_data['primary_cleaner.output.concentrate_ag'].mean(),\n",
    "    'После вторичной очистки': train_data['final.output.concentrate_ag'].mean()\n",
    "}"
   ]
  },
  {
   "cell_type": "code",
   "execution_count": 22,
   "metadata": {},
   "outputs": [],
   "source": [
    "# Определим концетрацию свинца Pb\n",
    "\n",
    "pb_concentrate = {\n",
    "    'Начальное сырьё': train_data['rougher.input.feed_pb'].mean(),\n",
    "    'После флотации': train_data['rougher.output.concentrate_pb'].mean(),\n",
    "    'После первичной очистки': train_data['primary_cleaner.output.concentrate_pb'].mean(),\n",
    "    'После вторичной очистки': train_data['final.output.concentrate_pb'].mean()\n",
    "}"
   ]
  },
  {
   "cell_type": "code",
   "execution_count": 23,
   "metadata": {},
   "outputs": [
    {
     "data": {
      "text/html": [
       "<div>\n",
       "<style scoped>\n",
       "    .dataframe tbody tr th:only-of-type {\n",
       "        vertical-align: middle;\n",
       "    }\n",
       "\n",
       "    .dataframe tbody tr th {\n",
       "        vertical-align: top;\n",
       "    }\n",
       "\n",
       "    .dataframe thead th {\n",
       "        text-align: right;\n",
       "    }\n",
       "</style>\n",
       "<table border=\"1\" class=\"dataframe\">\n",
       "  <thead>\n",
       "    <tr style=\"text-align: right;\">\n",
       "      <th></th>\n",
       "      <th>Золото</th>\n",
       "      <th>Серебро</th>\n",
       "      <th>Свинец</th>\n",
       "    </tr>\n",
       "  </thead>\n",
       "  <tbody>\n",
       "    <tr>\n",
       "      <th>Начальное сырьё</th>\n",
       "      <td>7.866577</td>\n",
       "      <td>8.579195</td>\n",
       "      <td>3.505983</td>\n",
       "    </tr>\n",
       "    <tr>\n",
       "      <th>После флотации</th>\n",
       "      <td>19.439958</td>\n",
       "      <td>11.775812</td>\n",
       "      <td>7.664555</td>\n",
       "    </tr>\n",
       "    <tr>\n",
       "      <th>После первичной очистки</th>\n",
       "      <td>32.386836</td>\n",
       "      <td>8.200916</td>\n",
       "      <td>9.568501</td>\n",
       "    </tr>\n",
       "    <tr>\n",
       "      <th>После вторичной очистки</th>\n",
       "      <td>44.003792</td>\n",
       "      <td>5.141918</td>\n",
       "      <td>10.132845</td>\n",
       "    </tr>\n",
       "  </tbody>\n",
       "</table>\n",
       "</div>"
      ],
      "text/plain": [
       "                            Золото    Серебро     Свинец\n",
       "Начальное сырьё           7.866577   8.579195   3.505983\n",
       "После флотации           19.439958  11.775812   7.664555\n",
       "После первичной очистки  32.386836   8.200916   9.568501\n",
       "После вторичной очистки  44.003792   5.141918  10.132845"
      ]
     },
     "execution_count": 23,
     "metadata": {},
     "output_type": "execute_result"
    }
   ],
   "source": [
    "concentration_data = pd.DataFrame({\n",
    "    'Золото': au_concentrate,\n",
    "    'Серебро': ag_concentrate,\n",
    "    'Свинец': pb_concentrate\n",
    "})\n",
    "concentration_data"
   ]
  },
  {
   "cell_type": "code",
   "execution_count": 24,
   "metadata": {},
   "outputs": [
    {
     "data": {
      "image/png": "[encoded data removed]",
      "text/plain": [
       "<Figure size 864x576 with 1 Axes>"
      ]
     },
     "metadata": {
      "needs_background": "light"
     },
     "output_type": "display_data"
    }
   ],
   "source": [
    "plt.figure(figsize=(12,8))\n",
    "plt.plot(concentration_data.index, concentration_data['Золото'], label='Золото', color='gold')\n",
    "plt.plot(concentration_data.index, concentration_data['Серебро'], label='Серебро', color='silver')\n",
    "plt.plot(concentration_data.index, concentration_data['Свинец'], label='Свинец', color='black')\n",
    "\n",
    "plt.title('Изменение концентрации металлов на различных этапах очистки')\n",
    "plt.xlabel('Этапы очистки')\n",
    "plt.ylabel('Концентрация сырья')\n",
    "plt.show()"
   ]
  },
  {
   "cell_type": "markdown",
   "metadata": {},
   "source": [
    "Данный график показывает равномерное повышение концентрации золота и свинца на всех этапах очистки, тогда как у серебра наблюдается пониженная тенденция. Это говорит о эффективности этапах очистки для золота и чуть в меньшей степени для свинца.\n",
    "\n",
    "Концентрация **Золота** значительно повышается от начального сырья к финальному продукту, что показывает эффективность этапов очистки для извлечения золота.\n",
    "\n",
    "Концентрация **Cвинца** также постепенно увеличивается, что может свидетельствовать о способности процессов флотации и очистки выделять свинец вместе с золотом, особенно в финальной стадии.\n",
    "\n",
    "\n",
    "Концентрация **Cеребра**, наоборот, снижается, особенно после этапа флотации. Это может говорить о том, что часть серебра либо уходит в отходы, либо его извлечение приоритетно не предусматривается на всех этапах. Либо в данных есть ошибка."
   ]
  },
  {
   "cell_type": "markdown",
   "metadata": {},
   "source": [
    "Проверим изменение концетрации серебра на разных этапах очистки.\n",
    "\n",
    "Используем следующие параметры:\n",
    "\n",
    "- `rougher.output.tail_ag` - концетрация серебра в отходах после флотации\n",
    "- `primary_cleaner.output.tail_ag` - концетрация серебра в отходах после первичной очистки\n",
    "- `secondary_cleaner.output.tail_ag` - концетрация серебра в отходах после вторичной очистки"
   ]
  },
  {
   "cell_type": "code",
   "execution_count": 25,
   "metadata": {},
   "outputs": [
    {
     "data": {
      "text/plain": [
       "{'После флотации': 5.567241682743779,\n",
       " 'После первичной очистки': 16.30374243863253,\n",
       " 'После вторичной очистки': 14.281317871617125}"
      ]
     },
     "execution_count": 25,
     "metadata": {},
     "output_type": "execute_result"
    }
   ],
   "source": [
    "# Определим концетрацию серебра Ag в отходах\n",
    "\n",
    "ag_tail_concentrate = {\n",
    "    'После флотации': train_data['rougher.output.tail_ag'].mean(),\n",
    "    'После первичной очистки': train_data['primary_cleaner.output.tail_ag'].mean(),\n",
    "    'После вторичной очистки': train_data['secondary_cleaner.output.tail_ag'].mean()\n",
    "}\n",
    "ag_tail_concentrate"
   ]
  },
  {
   "cell_type": "code",
   "execution_count": 26,
   "metadata": {},
   "outputs": [
    {
     "data": {
      "image/png": "[encoded data removed]",
      "text/plain": [
       "<Figure size 864x576 with 1 Axes>"
      ]
     },
     "metadata": {
      "needs_background": "light"
     },
     "output_type": "display_data"
    }
   ],
   "source": [
    "plt.figure(figsize=(12,8))\n",
    "plt.plot(list(ag_tail_concentrate.keys()), list(ag_tail_concentrate.values()))\n",
    "\n",
    "plt.title('Изменение концентрации отходов серебра на различных этапах очистки')\n",
    "plt.xlabel('Этапы очистки')\n",
    "plt.ylabel('Концентрация сырья')\n",
    "plt.show()"
   ]
  },
  {
   "cell_type": "markdown",
   "metadata": {},
   "source": [
    "Результат показывает, что концентрация серебра в отходах значительно увеличивается на этапе первичной очистки и затем немного снижается на этапе вторичной очистки.\n",
    "\n",
    "Мы наблюдаем неравномерность извлечения серебра. Резкий рост серебра в отходах на этапе первичной очистки может говорить о неэффективности процесса на данном этапе, либо фокус в добыче направлен на другие металлы.\n",
    "\n",
    "Для улучшения показателей можно было бы рассмотреть возможность оптимизации процесса очистки именно для серебра."
   ]
  },
  {
   "cell_type": "markdown",
   "metadata": {},
   "source": [
    " "
   ]
  },
  {
   "cell_type": "markdown",
   "metadata": {},
   "source": [
    " "
   ]
  },
  {
   "cell_type": "markdown",
   "metadata": {},
   "source": [
    "### Сравним распределения размеров гранул сырья на обучающей и тестовой выборках"
   ]
  },
  {
   "cell_type": "markdown",
   "metadata": {},
   "source": [
    "*feed size* — размер гранул сырья\n",
    "\n",
    "Размеры гранул сырья указаны в `rougher.input.feed_size` и `primary_cleaner.input.feed_size`\n",
    "\n",
    "Построим графики распределения"
   ]
  },
  {
   "cell_type": "code",
   "execution_count": 55,
   "metadata": {
    "scrolled": false
   },
   "outputs": [
    {
     "data": {
      "image/png": "[encoded data removed]",
      "text/plain": [
       "<Figure size 864x576 with 1 Axes>"
      ]
     },
     "metadata": {
      "needs_background": "light"
     },
     "output_type": "display_data"
    }
   ],
   "source": [
    "# График для этапа флотации\n",
    "\n",
    "plt.figure(figsize=(12,8))\n",
    "sns.histplot(train_data['rougher.input.feed_size'], kde=True, stat='density', common_norm=False, label='Train', color='blue')\n",
    "sns.histplot(test_data['rougher.input.feed_size'], kde=True, stat='density', common_norm=False, label='Test', color='orange')\n",
    "plt.xlabel('Размер гранул')\n",
    "plt.ylabel('Плотность')\n",
    "plt.title('Распределение размеров гранул сырья на этапе флотации')\n",
    "plt.legend()\n",
    "plt.show()"
   ]
  },
  {
   "cell_type": "markdown",
   "metadata": {},
   "source": [
    "На данном графике наблюдаем, что значения для двух выборок примерно совпадают, особенно в диапазоне от 0 до 100. Распределения значения в двух выборках схожи. Есть некоторые выбросы в обоих выборках, но не в больших количествах."
   ]
  },
  {
   "cell_type": "code",
   "execution_count": 56,
   "metadata": {},
   "outputs": [
    {
     "data": {
      "image/png": "[encoded data removed]",
      "text/plain": [
       "<Figure size 864x576 with 1 Axes>"
      ]
     },
     "metadata": {
      "needs_background": "light"
     },
     "output_type": "display_data"
    }
   ],
   "source": [
    "# График для этапа первичной очистки\n",
    "\n",
    "plt.figure(figsize=(12,8))\n",
    "sns.histplot(train_data['primary_cleaner.input.feed_size'], kde=True, stat='density', common_norm=False, label='Train', color='blue')\n",
    "sns.histplot(test_data['primary_cleaner.input.feed_size'], kde=True, stat='density', common_norm=False, label='Test', color='orange')\n",
    "plt.xlabel('Размер гранул')\n",
    "plt.ylabel('Плотность')\n",
    "plt.title('Распределение размеров гранул сырья на этапе первичной очистки')\n",
    "plt.legend()\n",
    "plt.show()"
   ]
  },
  {
   "cell_type": "markdown",
   "metadata": {},
   "source": [
    "На графике распределения размеров гранул сырья на этапе первичной очистки наблюдается нормальное распределение у двух выборок. У обучающей выборки более высокий пик распределения и острее чем у тестовой. Оба распределения имеют длинные хвосты, но они также схожи."
   ]
  },
  {
   "cell_type": "markdown",
   "metadata": {},
   "source": [
    "Можем сделать вывод, что размеры гранул двух выборок на разных этапах во многом схожи. Распределения обоих выборок имеют небольшие различия друг от друга, которые не должны повлият на обучение модели."
   ]
  },
  {
   "cell_type": "markdown",
   "metadata": {},
   "source": [
    " "
   ]
  },
  {
   "cell_type": "markdown",
   "metadata": {},
   "source": [
    " "
   ]
  },
  {
   "cell_type": "markdown",
   "metadata": {},
   "source": [
    "### Исследуем суммарную концентрацию всех веществ на разных стадиях: в сырье, в черновом и финальном концентратах. "
   ]
  },
  {
   "cell_type": "markdown",
   "metadata": {},
   "source": [
    "Определим признаки:\n",
    "    \n",
    "- `input` — сырьё\n",
    "- `rougher` - черновой концентрат\n",
    "- `final` - финальный концентрат\n",
    "\n",
    "\n",
    "Столбцы для анализа. На флотацию поступает сырьё, после выходит черновой концентрат, а после двух двух этапов очистки получается финальный концентрат.\n",
    "\n",
    "- Стадия сырья: `rougher.input.feed_au`, `rougher.input.feed_ag`, `rougher.input.feed_pb`, `rougher.input.feed_sol`\n",
    "- Стадия чернового концентрата: `rougher.output.concentrate_au`, `rougher.output.concentrate_ag`, `rougher.output.concentrate_pb`, `rougher.output.concentrate_sol`\n",
    "- Стадия финального концентрата: `final.output.concentrate_au`, `final.output.concentrate_ag`, `final.output.concentrate_pb`, `final.output.concentrate_sol`"
   ]
  },
  {
   "cell_type": "code",
   "execution_count": 29,
   "metadata": {},
   "outputs": [],
   "source": [
    "# Создадим столбец с сумарной концетрацей на стадии сырья\n",
    "\n",
    "train_data['input_total_concentration'] = (\n",
    "train_data['rougher.input.feed_au'] +\n",
    "train_data['rougher.input.feed_ag'] +\n",
    "train_data['rougher.input.feed_pb'] +\n",
    "train_data['rougher.input.feed_sol'])"
   ]
  },
  {
   "cell_type": "code",
   "execution_count": 30,
   "metadata": {},
   "outputs": [],
   "source": [
    "# Создадим столбец с сумарной концетрацей на стадии чернового концентрата\n",
    "\n",
    "train_data['rougher_total_concentration'] = (\n",
    "train_data['rougher.output.concentrate_au'] +\n",
    "train_data['rougher.output.concentrate_ag'] +\n",
    "train_data['rougher.output.concentrate_pb'] +\n",
    "train_data['rougher.output.concentrate_sol'])"
   ]
  },
  {
   "cell_type": "code",
   "execution_count": 31,
   "metadata": {},
   "outputs": [],
   "source": [
    "# Создадим столбец с сумарной концетрацей на стадии финального концентрата\n",
    "\n",
    "train_data['final_total_concentration'] = (\n",
    "train_data['final.output.concentrate_au'] +\n",
    "train_data['final.output.concentrate_ag'] +\n",
    "train_data['final.output.concentrate_pb'] +\n",
    "train_data['final.output.concentrate_sol'])"
   ]
  },
  {
   "cell_type": "code",
   "execution_count": 32,
   "metadata": {},
   "outputs": [
    {
     "data": {
      "text/html": [
       "<div>\n",
       "<style scoped>\n",
       "    .dataframe tbody tr th:only-of-type {\n",
       "        vertical-align: middle;\n",
       "    }\n",
       "\n",
       "    .dataframe tbody tr th {\n",
       "        vertical-align: top;\n",
       "    }\n",
       "\n",
       "    .dataframe thead th {\n",
       "        text-align: right;\n",
       "    }\n",
       "</style>\n",
       "<table border=\"1\" class=\"dataframe\">\n",
       "  <thead>\n",
       "    <tr style=\"text-align: right;\">\n",
       "      <th></th>\n",
       "      <th>input_total_concentration</th>\n",
       "      <th>rougher_total_concentration</th>\n",
       "      <th>final_total_concentration</th>\n",
       "    </tr>\n",
       "  </thead>\n",
       "  <tbody>\n",
       "    <tr>\n",
       "      <th>count</th>\n",
       "      <td>14149.000000</td>\n",
       "      <td>14149.000000</td>\n",
       "      <td>14149.000000</td>\n",
       "    </tr>\n",
       "    <tr>\n",
       "      <th>mean</th>\n",
       "      <td>56.238667</td>\n",
       "      <td>67.178166</td>\n",
       "      <td>68.395671</td>\n",
       "    </tr>\n",
       "    <tr>\n",
       "      <th>std</th>\n",
       "      <td>7.028115</td>\n",
       "      <td>12.703461</td>\n",
       "      <td>7.016871</td>\n",
       "    </tr>\n",
       "    <tr>\n",
       "      <th>min</th>\n",
       "      <td>0.040000</td>\n",
       "      <td>0.000000</td>\n",
       "      <td>0.000000</td>\n",
       "    </tr>\n",
       "    <tr>\n",
       "      <th>25%</th>\n",
       "      <td>52.573579</td>\n",
       "      <td>64.925021</td>\n",
       "      <td>67.562287</td>\n",
       "    </tr>\n",
       "    <tr>\n",
       "      <th>50%</th>\n",
       "      <td>56.617697</td>\n",
       "      <td>69.175663</td>\n",
       "      <td>69.142447</td>\n",
       "    </tr>\n",
       "    <tr>\n",
       "      <th>75%</th>\n",
       "      <td>60.762971</td>\n",
       "      <td>73.429929</td>\n",
       "      <td>70.974661</td>\n",
       "    </tr>\n",
       "    <tr>\n",
       "      <th>max</th>\n",
       "      <td>74.458253</td>\n",
       "      <td>88.140119</td>\n",
       "      <td>80.210644</td>\n",
       "    </tr>\n",
       "  </tbody>\n",
       "</table>\n",
       "</div>"
      ],
      "text/plain": [
       "       input_total_concentration  rougher_total_concentration  \\\n",
       "count               14149.000000                 14149.000000   \n",
       "mean                   56.238667                    67.178166   \n",
       "std                     7.028115                    12.703461   \n",
       "min                     0.040000                     0.000000   \n",
       "25%                    52.573579                    64.925021   \n",
       "50%                    56.617697                    69.175663   \n",
       "75%                    60.762971                    73.429929   \n",
       "max                    74.458253                    88.140119   \n",
       "\n",
       "       final_total_concentration  \n",
       "count               14149.000000  \n",
       "mean                   68.395671  \n",
       "std                     7.016871  \n",
       "min                     0.000000  \n",
       "25%                    67.562287  \n",
       "50%                    69.142447  \n",
       "75%                    70.974661  \n",
       "max                    80.210644  "
      ]
     },
     "execution_count": 32,
     "metadata": {},
     "output_type": "execute_result"
    }
   ],
   "source": [
    "train_data[['input_total_concentration', 'rougher_total_concentration', 'final_total_concentration']].describe()"
   ]
  },
  {
   "cell_type": "code",
   "execution_count": 33,
   "metadata": {},
   "outputs": [
    {
     "data": {
      "image/png": "[encoded data removed]",
      "text/plain": [
       "<Figure size 864x576 with 1 Axes>"
      ]
     },
     "metadata": {
      "needs_background": "light"
     },
     "output_type": "display_data"
    }
   ],
   "source": [
    "plt.figure(figsize=(12, 8))\n",
    "\n",
    "\n",
    "plt.hist(train_data['input_total_concentration'], bins=50, alpha=0.5, label='Сырье', color='blue')\n",
    "plt.hist(train_data['rougher_total_concentration'], bins=50, alpha=0.5, label='Черновой концентрат', color='orange')\n",
    "plt.hist(train_data['final_total_concentration'], bins=50, alpha=0.5, label='Финальный концентрат', color='green')\n",
    "\n",
    "plt.xlabel('Суммарная концентрация веществ')\n",
    "plt.ylabel('Частота')\n",
    "plt.title('Суммарная концентрация всех веществ на разных стадиях')\n",
    "plt.legend()\n",
    "plt.show()"
   ]
  },
  {
   "cell_type": "markdown",
   "metadata": {},
   "source": [
    "На этапе сырья концентрация веществ равномерно и широко распределена, что говорит о высоком и различном наличии веществ в сырье.\n",
    "\n",
    "После флотации сумарная концентрация остаётся примерно на том же уровне, но суммарно концентрация веществ увеличивается.\n",
    "\n",
    "После двух этапов очистки в финальной концетрате наблюдается увеличения нужных элементов в конечном итоге, что показывает высокий пик расспределения. Это говорит о том, что процесс очистки увеличивает концентрацию нужных элементов на финальном этапе.\n"
   ]
  },
  {
   "cell_type": "markdown",
   "metadata": {},
   "source": [
    "Так же мы наблюдаем нулевые и околонулевые значения, что говорит об ошибке. Для точности обучения модели удалим такие наблюдения."
   ]
  },
  {
   "cell_type": "code",
   "execution_count": 34,
   "metadata": {},
   "outputs": [],
   "source": [
    "# Отфильтруем знаения с концентрацией ниже 1\n",
    "\n",
    "train_data = train_data[\n",
    "    (train_data['rougher.input.feed_au'] > 1) &\n",
    "    (train_data['rougher.input.feed_ag'] > 1) &\n",
    "    (train_data['rougher.input.feed_pb'] > 1) &\n",
    "    (train_data['rougher.input.feed_sol'] > 1) &\n",
    "    (train_data['rougher.output.concentrate_au'] > 1) &\n",
    "    (train_data['rougher.output.concentrate_ag'] > 1) &\n",
    "    (train_data['rougher.output.concentrate_pb'] > 1) &\n",
    "    (train_data['rougher.output.concentrate_sol'] > 1) &\n",
    "    (train_data['final.output.concentrate_au'] > 1) &\n",
    "    (train_data['final.output.concentrate_ag'] > 1) &\n",
    "    (train_data['final.output.concentrate_pb'] > 1) &\n",
    "    (train_data['final.output.concentrate_sol'] > 1)\n",
    "]"
   ]
  },
  {
   "cell_type": "markdown",
   "metadata": {},
   "source": [
    " "
   ]
  },
  {
   "cell_type": "markdown",
   "metadata": {},
   "source": [
    "На данном этапе выполненны следующие шаги по анализу данных:\n",
    "\n",
    "1. Анализ концентрации металлов (Au, Ag, Pb) на различных этапах очистки:\n",
    "- Концентрация золота (Au) последовательно возрастает от начального сырья к финальному продукту, что свидетельствует о высокой эффективности процессов флотации и очистки для извлечения золота.\n",
    "- Концентрация свинца (Pb) также постепенно увеличивается на всех этапах, что может указывать на совместное извлечение свинца вместе с золотом.\n",
    "- Концентрация серебра (Ag), напротив, снижается на этапах очистки. Дополнительный анализ показал, что концентрация серебра в отходах увеличивается на этапе первичной очистки, что может свидетельствовать о его значительных потерях на этом этапе.\n",
    "\n",
    "2. Сравнение распределения размеров гранул сырья на обучающей и тестовой выборках. Распределения размеров гранул на этапах флотации и первичной очистки схожи между обучающей и тестовой выборками. Обнаружены небольшие различия в плотности распределений, но они не должны существенно повлиять на обучение модели.\n",
    "\n",
    "3. Анализ суммарной концентрации всех веществ на различных стадиях (сырье, черновой и финальный концентраты):\n",
    "\n",
    "- На этапе сырья наблюдается равномерное и широкое распределение концентраций веществ, что указывает на исходно высокое разнообразие их содержания.\n",
    "- На стадии чернового концентрата после флотации суммарная концентрация веществ в основном сохраняется, но наблюдается обогащение целевых элементов, особенно золота и свинца.\n",
    "- На этапе финального концентрата после двух стадий очистки, наблюдается существенное повышение концентрации целевых элементов, что подтверждает эффективность процессов очистки."
   ]
  },
  {
   "cell_type": "markdown",
   "metadata": {},
   "source": [
    "  "
   ]
  },
  {
   "cell_type": "markdown",
   "metadata": {},
   "source": [
    " "
   ]
  },
  {
   "cell_type": "markdown",
   "metadata": {},
   "source": [
    " "
   ]
  },
  {
   "cell_type": "markdown",
   "metadata": {},
   "source": [
    " "
   ]
  },
  {
   "cell_type": "markdown",
   "metadata": {},
   "source": [
    "## Модель"
   ]
  },
  {
   "cell_type": "markdown",
   "metadata": {},
   "source": [
    "### Функция для вычисления итоговой sMAPE."
   ]
  },
  {
   "cell_type": "markdown",
   "metadata": {},
   "source": [
    "Формула для расчёта sMape\n",
    "\n",
    "![Формула:](https://pictures.s3.yandex.net/resources/smape_1576239058.jpg)\n",
    "\n",
    "Где:\n",
    "\n",
    "- 𝑦𝑖 — значение целевого признака для объекта с порядковым номером i в выборке, на которой измеряется качество.\n",
    "- 𝑦^ — значение предсказания для объекта с порядковым номером i, например, в тестовой выборке.\n",
    "- 𝑁  — количество наблюдений"
   ]
  },
  {
   "cell_type": "code",
   "execution_count": 35,
   "metadata": {},
   "outputs": [],
   "source": [
    "# Функция для расчёта sMape\n",
    "\n",
    "def smape(y_true, y_pred):\n",
    "    return 100 * np.mean(np.abs(y_true - y_pred) / ((np.abs(y_true) + np.abs(y_pred)) / 2))"
   ]
  },
  {
   "cell_type": "markdown",
   "metadata": {},
   "source": [
    "![Формула:](https://pictures.s3.yandex.net/resources/_smape_1576239054.jpg)"
   ]
  },
  {
   "cell_type": "code",
   "execution_count": 36,
   "metadata": {},
   "outputs": [],
   "source": [
    "# Функция для расчёта итогового sMape\n",
    "\n",
    "def final_smape(rougher_true, rougher_pred, final_true, final_pred):\n",
    "    rougher_smape = smape(rougher_true, rougher_pred)\n",
    "    final_smape = smape(final_true, final_pred)\n",
    "    return 0.25 * rougher_smape + 0.75 * final_smape"
   ]
  },
  {
   "cell_type": "markdown",
   "metadata": {},
   "source": [
    " "
   ]
  },
  {
   "cell_type": "markdown",
   "metadata": {},
   "source": [
    " "
   ]
  },
  {
   "cell_type": "markdown",
   "metadata": {},
   "source": [
    "### Обучим разные модели и оцените их качество."
   ]
  },
  {
   "cell_type": "code",
   "execution_count": 37,
   "metadata": {},
   "outputs": [],
   "source": [
    "# Получение списка признаков, которые есть в обеих выборках\n",
    "\n",
    "common_features = list(set(train_data.columns) & set(test_data.columns))\n",
    "common_features.remove('date')"
   ]
  },
  {
   "cell_type": "code",
   "execution_count": 38,
   "metadata": {},
   "outputs": [],
   "source": [
    "# Создадим переменные с признаками и целевым признаком\n",
    "\n",
    "x_train = train_data[common_features]\n",
    "y_train_rougher = train_data['rougher.output.recovery']\n",
    "y_train_final = train_data['final.output.recovery']"
   ]
  },
  {
   "cell_type": "code",
   "execution_count": 39,
   "metadata": {},
   "outputs": [],
   "source": [
    "# Разделим выборку на валидационную и тестовую\n",
    "\n",
    "x_train, x_val, y_train_rougher, y_val_rougher, y_train_final, y_val_final = train_test_split(\n",
    "    x_train, y_train_rougher, y_train_final,\n",
    "    test_size=0.25, random_state=12345)"
   ]
  },
  {
   "cell_type": "markdown",
   "metadata": {},
   "source": [
    "Обучим модели и оценим их по sMAPE"
   ]
  },
  {
   "cell_type": "code",
   "execution_count": 40,
   "metadata": {},
   "outputs": [
    {
     "name": "stdout",
     "output_type": "stream",
     "text": [
      "Лучший результат для rougher.output.recovery (DecisionTree): 3.2837843134626863\n",
      "Лучшая глубина для rougher.output.recovery (DecisionTree): 10\n"
     ]
    }
   ],
   "source": [
    "# Обучим модель DecisionTreeRegressor для rougher.output.recovery\n",
    "\n",
    "best_result_dt_rougher = float('inf') \n",
    "best_depth_dt_rougher = 0\n",
    "\n",
    "for max_depth in range(1, 21):\n",
    "    dt_model_rougher = DecisionTreeRegressor(max_depth=max_depth, random_state=12345)\n",
    "    dt_model_rougher.fit(x_train, y_train_rougher)\n",
    "    y_pred = dt_model_rougher.predict(x_val)\n",
    "    score = smape(y_val_rougher, y_pred)\n",
    "\n",
    "    if score < best_result_dt_rougher:\n",
    "        best_result_dt_rougher = score\n",
    "        best_depth_dt_rougher = max_depth\n",
    "\n",
    "print(\"Лучший результат для rougher.output.recovery (DecisionTree):\", best_result_dt_rougher)\n",
    "print(\"Лучшая глубина для rougher.output.recovery (DecisionTree):\", best_depth_dt_rougher)"
   ]
  },
  {
   "cell_type": "code",
   "execution_count": 41,
   "metadata": {},
   "outputs": [
    {
     "name": "stdout",
     "output_type": "stream",
     "text": [
      "Лучший результат для final.output.recovery (DecisionTree): 7.103610900350521\n",
      "Лучшая глубина для final.output.recovery (DecisionTree): 10\n"
     ]
    }
   ],
   "source": [
    "# Обучим модель DecisionTreeRegressor для final.output.recovery\n",
    "\n",
    "best_result_dt_final = float('inf') \n",
    "best_depth_dt_final = 0\n",
    "\n",
    "for max_depth in range(1, 21):\n",
    "    dt_model_final = DecisionTreeRegressor(max_depth=max_depth, random_state=12345)\n",
    "    dt_model_final.fit(x_train, y_train_final)\n",
    "    y_pred = dt_model_final.predict(x_val)\n",
    "    score = smape(y_val_final, y_pred)\n",
    "\n",
    "    if score < best_result_dt_final:\n",
    "        best_result_dt_final = score\n",
    "        best_depth_dt_final = max_depth\n",
    "\n",
    "print(\"Лучший результат для final.output.recovery (DecisionTree):\", best_result_dt_final)\n",
    "print(\"Лучшая глубина для final.output.recovery (DecisionTree):\", best_depth_dt_final)"
   ]
  },
  {
   "cell_type": "code",
   "execution_count": 42,
   "metadata": {},
   "outputs": [
    {
     "name": "stdout",
     "output_type": "stream",
     "text": [
      "Лучший результат для rougher.output.recovery (RandomForest): 2.345103914507287\n",
      "Лучшая глубина для rougher.output.recovery (RandomForest): 20\n",
      "Лучшая количество деревьев для rougher.output.recovery (RandomForest): 50\n"
     ]
    }
   ],
   "source": [
    "# Обучим модель RandomForestRegressor для rougher.output.recovery\n",
    "\n",
    "best_result_rf_rougher = float('inf') \n",
    "best_depth_rf_rougher = 0\n",
    "best_estimators_rougher = 0\n",
    "\n",
    "for n_estimators in [5, 10, 20, 50]:\n",
    "    for max_depth in range(1, 21):\n",
    "        rf_model_rougher = RandomForestRegressor(n_estimators=n_estimators, max_depth=max_depth, random_state=12345)\n",
    "        rf_model_rougher.fit(x_train, y_train_rougher)\n",
    "        y_pred = rf_model_rougher.predict(x_val)\n",
    "        score = smape(y_val_rougher, y_pred)\n",
    "        \n",
    "        if score < best_result_rf_rougher:\n",
    "            best_result_rf_rougher = score\n",
    "            best_depth_rf_rougher = max_depth\n",
    "            best_estimators_rougher = n_estimators\n",
    "\n",
    "print(\"Лучший результат для rougher.output.recovery (RandomForest):\", best_result_rf_rougher)\n",
    "print(\"Лучшая глубина для rougher.output.recovery (RandomForest):\", best_depth_rf_rougher)\n",
    "print(\"Лучшая количество деревьев для rougher.output.recovery (RandomForest):\", best_estimators_rougher)"
   ]
  },
  {
   "cell_type": "code",
   "execution_count": 43,
   "metadata": {},
   "outputs": [
    {
     "name": "stdout",
     "output_type": "stream",
     "text": [
      "Лучший результат для final.output.recovery (RandomForest): 5.671715890835924\n",
      "Лучшая глубина для final.output.recovery (RandomForest): 20\n",
      "Лучшая количество деревьев для final.output.recovery (RandomForest): 50\n"
     ]
    }
   ],
   "source": [
    "# Обучим модель RandomForestRegressor для final.output.recovery\n",
    "\n",
    "best_result_rf_final = float('inf') \n",
    "best_depth_rf_final = 0\n",
    "best_estimators_final = 0\n",
    "\n",
    "for n_estimators in [5, 10, 20, 50]:\n",
    "    for max_depth in range(1, 21):\n",
    "        rf_model_final = RandomForestRegressor(n_estimators=n_estimators, max_depth=max_depth, random_state=12345)\n",
    "        rf_model_final.fit(x_train, y_train_final)\n",
    "        y_pred = rf_model_final.predict(x_val)\n",
    "        score = smape(y_val_final, y_pred)\n",
    "        \n",
    "        if score < best_result_rf_final:\n",
    "            best_result_rf_final = score\n",
    "            best_depth_rf_final = max_depth\n",
    "            best_estimators_final = n_estimators\n",
    "\n",
    "print(\"Лучший результат для final.output.recovery (RandomForest):\", best_result_rf_final)\n",
    "print(\"Лучшая глубина для final.output.recovery (RandomForest):\", best_depth_rf_final)\n",
    "print(\"Лучшая количество деревьев для final.output.recovery (RandomForest):\", best_estimators_final)"
   ]
  },
  {
   "cell_type": "code",
   "execution_count": 44,
   "metadata": {},
   "outputs": [
    {
     "name": "stdout",
     "output_type": "stream",
     "text": [
      "Лучший результат для rougher.output.recovery (LinearRegression): 4.397835213593441\n"
     ]
    }
   ],
   "source": [
    "# Обучим модель LinearRegression для rougher.output.recovery\n",
    "\n",
    "lr_model_rougher = LinearRegression()\n",
    "lr_model_rougher.fit(x_train, y_train_rougher)\n",
    "y_pred_rougher = lr_model_rougher.predict(x_val)\n",
    "score = smape(y_val_rougher, y_pred_rougher)\n",
    "\n",
    "print(\"Лучший результат для rougher.output.recovery (LinearRegression):\", score)"
   ]
  },
  {
   "cell_type": "code",
   "execution_count": 45,
   "metadata": {},
   "outputs": [
    {
     "name": "stdout",
     "output_type": "stream",
     "text": [
      "Лучший результат для final.output.recovery (LinearRegression): 7.813619591411333\n"
     ]
    }
   ],
   "source": [
    "# Обучим модель LinearRegression для final.output.recovery\n",
    "\n",
    "lr_model_final = LinearRegression()\n",
    "lr_model_final.fit(x_train, y_train_final)\n",
    "y_pred_final = lr_model_final.predict(x_val)\n",
    "score = smape(y_val_final, y_pred_final)\n",
    "\n",
    "print(\"Лучший результат для final.output.recovery (LinearRegression):\", score)"
   ]
  },
  {
   "cell_type": "markdown",
   "metadata": {},
   "source": [
    "Для `rougher.output.recovery` лучше всего подходит RandomForestRegressor с 50 деревьями и глубиной 20, поскольку она даёт наименьшую ошибку sMAPE (**2.345**).\n",
    "\n",
    "\n",
    "Для `final.output.recovery` лучшим была RandomForestRegressor с 50 деревьями и глубиной 20, так как у него наименьшая sMAPE (**5.6717**)"
   ]
  },
  {
   "cell_type": "code",
   "execution_count": 46,
   "metadata": {},
   "outputs": [],
   "source": [
    "# Мёрджим признаки к тестовым данных по столбцу 'date'\n",
    "\n",
    "test_data_merged = pd.merge(test_data, full_data[['rougher.output.recovery', 'final.output.recovery', 'date']], on='date', how='left')"
   ]
  },
  {
   "cell_type": "code",
   "execution_count": 47,
   "metadata": {},
   "outputs": [],
   "source": [
    "# Выбираем данные из тестовой выборки и исходной для теста\n",
    "\n",
    "x_test = test_data_merged[common_features]\n",
    "y_test_rougher = test_data_merged['rougher.output.recovery']\n",
    "y_test_final = test_data_merged['final.output.recovery']"
   ]
  },
  {
   "cell_type": "code",
   "execution_count": 60,
   "metadata": {},
   "outputs": [
    {
     "name": "stdout",
     "output_type": "stream",
     "text": [
      "sMAPE для rougher.output.recovery на тестовой выборке: 8.086343807157425\n"
     ]
    }
   ],
   "source": [
    "# Тестируем лучшую модель для rougher.output.recovery (RandomForestRegressor)\n",
    "\n",
    "best_dt_model_rougher_test = RandomForestRegressor(n_estimators=50, max_depth=20, random_state=12345)\n",
    "best_dt_model_rougher_test.fit(x_train, y_train_rougher)\n",
    "rougher_pred_test = best_dt_model_rougher_test.predict(x_test)\n",
    "score = smape(y_test_rougher, rougher_pred_test)\n",
    "\n",
    "print('sMAPE для rougher.output.recovery на тестовой выборке:', score)"
   ]
  },
  {
   "cell_type": "code",
   "execution_count": 61,
   "metadata": {},
   "outputs": [
    {
     "name": "stdout",
     "output_type": "stream",
     "text": [
      "sMAPE для final.output.recovery на тестовой выборке: 9.900687149407887\n"
     ]
    }
   ],
   "source": [
    "# Тестируем лучшую модель для final.output.recovery (RandomForestRegressor)\n",
    "\n",
    "best_rf_model_final_test = RandomForestRegressor(n_estimators=50, max_depth=20, random_state=12345)\n",
    "best_rf_model_final_test.fit(x_train, y_train_final)\n",
    "final_pred_test = best_rf_model_final_test.predict(x_test)\n",
    "score = smape(y_test_final, final_pred_test)\n",
    "\n",
    "print('sMAPE для final.output.recovery на тестовой выборке:', score)"
   ]
  },
  {
   "cell_type": "code",
   "execution_count": 50,
   "metadata": {},
   "outputs": [],
   "source": [
    "# Выбираем данные для предсказания на тестовых данных\n",
    "\n",
    "rougher_true = test_data_merged['rougher.output.recovery']\n",
    "final_true = test_data_merged['final.output.recovery']"
   ]
  },
  {
   "cell_type": "code",
   "execution_count": 59,
   "metadata": {},
   "outputs": [
    {
     "name": "stdout",
     "output_type": "stream",
     "text": [
      "Итоговый sMAPE: 9.447101313845272\n"
     ]
    }
   ],
   "source": [
    "# Считаем итоговый sMape на тестовых данных\n",
    "\n",
    "final_score_test = final_smape(y_test_rougher, rougher_pred_test, y_test_final, final_pred_test)\n",
    "\n",
    "print('Итоговый sMAPE:', final_score_test)"
   ]
  },
  {
   "cell_type": "markdown",
   "metadata": {},
   "source": [
    " "
   ]
  },
  {
   "cell_type": "markdown",
   "metadata": {},
   "source": [
    "Итоговый sMAPE (9.447101313845272) на тесте, говорит о том, что модель показала достаточно низкую ошибку в прогнозировании эффективности извлечения золота на каждом этапе технологического процесса. На основе описания процесса можно сделать следующие выводы о качестве моделей и их применимости:\n",
    "\n",
    "1. Стабильность процесса флотации. Полученный низкий sMAPE для этапа флотации (rougher.output.recovery) с использованием RandomForestRegressor говорит о том, что модель довольно точно предсказывает эффективность этого этапа.\n",
    "\n",
    "2. Эффективность модели на этапе очистки. Использование RandomForestRegressor для финального концентрата (final.output.recovery) также дало хороший результат sMAPE, что показывает высокую точность модели для более сложного и многоступенчатого процесса очистки.\n",
    "\n",
    "3. Общий итоговый sMAPE. Итоговый sMAPE около 9.45% подтверждает, что выбранная модель справляется с задачей прогнозирования на всех стадиях процесса."
   ]
  },
  {
   "cell_type": "markdown",
   "metadata": {},
   "source": [
    " "
   ]
  },
  {
   "cell_type": "markdown",
   "metadata": {},
   "source": [
    "## Вывод"
   ]
  },
  {
   "cell_type": "markdown",
   "metadata": {},
   "source": [
    "В ходе работы над проектом был создан прототип модели для предсказания коэффициента восстановления золота из золотосодержащей руды. \n",
    "\n",
    "\n",
    "Данные были очищены, проверены на наличие пропусков и дубликатов, а также подготовлены для анализа.\n",
    "\n",
    "\n",
    "Исследовательский анализ показал, что технологические процессы эффективно извлекают золото, а также выявил особенности поведения концентраций других элементов на разных стадиях очистки.\n",
    "\n",
    "\n",
    "Для решения задачи были протестированы различные модели машинного обучения. Лучшие результаты показала модель RandomForestRegressor, что обеспечило невысокую ошибку прогноза (итоговый sMAPE ≈ 9.45%). Это говорит о высокой точности предсказания и подтверждает стабильность и применимость разработанных моделей на всех этапах технологического процесса, что поможет оптимизировать производство и избежать убыточных запусков. Данный результат подтверждает применимость предложенного подхода для оптимизации работы предприятия и минимизации производственных потерь."
   ]
  }
 ],
 "metadata": {
  "ExecuteTimeLog": [
   {
    "duration": 1176,
    "start_time": "2024-10-30T17:16:25.359Z"
   },
   {
    "duration": 1438,
    "start_time": "2024-10-30T17:17:29.943Z"
   },
   {
    "duration": 55,
    "start_time": "2024-10-30T17:17:38.182Z"
   },
   {
    "duration": 2342,
    "start_time": "2024-10-30T17:19:22.144Z"
   },
   {
    "duration": 26,
    "start_time": "2024-10-30T17:20:09.675Z"
   },
   {
    "duration": 20,
    "start_time": "2024-10-30T17:20:16.579Z"
   },
   {
    "duration": 34,
    "start_time": "2024-10-30T17:20:30.562Z"
   },
   {
    "duration": 29,
    "start_time": "2024-10-30T17:20:32.385Z"
   },
   {
    "duration": 30,
    "start_time": "2024-10-30T17:20:32.824Z"
   },
   {
    "duration": 18,
    "start_time": "2024-10-30T17:20:39.897Z"
   },
   {
    "duration": 22,
    "start_time": "2024-10-30T17:20:45.528Z"
   },
   {
    "duration": 26,
    "start_time": "2024-10-30T17:20:48.176Z"
   },
   {
    "duration": 16,
    "start_time": "2024-10-30T17:22:23.963Z"
   },
   {
    "duration": 15,
    "start_time": "2024-10-30T17:31:16.784Z"
   },
   {
    "duration": 726,
    "start_time": "2024-10-30T17:33:08.624Z"
   },
   {
    "duration": 20,
    "start_time": "2024-10-30T17:33:11.629Z"
   },
   {
    "duration": 98,
    "start_time": "2024-10-30T17:33:20.197Z"
   },
   {
    "duration": 8,
    "start_time": "2024-10-30T17:33:28.620Z"
   },
   {
    "duration": 742,
    "start_time": "2024-10-30T17:33:53.634Z"
   },
   {
    "duration": 19,
    "start_time": "2024-10-30T17:33:55.674Z"
   },
   {
    "duration": 17,
    "start_time": "2024-10-30T17:34:00.837Z"
   },
   {
    "duration": 13,
    "start_time": "2024-10-30T17:34:12.861Z"
   },
   {
    "duration": 17,
    "start_time": "2024-10-30T17:34:24.981Z"
   },
   {
    "duration": 11,
    "start_time": "2024-10-30T17:34:55.822Z"
   },
   {
    "duration": 10,
    "start_time": "2024-10-30T17:34:59.620Z"
   },
   {
    "duration": 99,
    "start_time": "2024-10-30T17:36:19.498Z"
   },
   {
    "duration": 10,
    "start_time": "2024-10-30T17:36:36.936Z"
   },
   {
    "duration": 13,
    "start_time": "2024-10-30T17:36:48.837Z"
   },
   {
    "duration": 12,
    "start_time": "2024-10-30T17:36:52.401Z"
   },
   {
    "duration": 12,
    "start_time": "2024-10-30T17:36:58.274Z"
   },
   {
    "duration": 13,
    "start_time": "2024-10-30T17:37:21.042Z"
   },
   {
    "duration": 14,
    "start_time": "2024-10-30T17:37:27.624Z"
   },
   {
    "duration": 12,
    "start_time": "2024-10-30T17:37:40.561Z"
   },
   {
    "duration": 13,
    "start_time": "2024-10-30T17:39:30.797Z"
   },
   {
    "duration": 9,
    "start_time": "2024-10-30T17:39:31.984Z"
   },
   {
    "duration": 10,
    "start_time": "2024-10-30T17:39:34.104Z"
   },
   {
    "duration": 7,
    "start_time": "2024-10-30T17:39:38.525Z"
   },
   {
    "duration": 15,
    "start_time": "2024-10-30T17:39:43.293Z"
   },
   {
    "duration": 59,
    "start_time": "2024-10-30T17:41:53.028Z"
   },
   {
    "duration": 49,
    "start_time": "2024-10-30T17:42:01.874Z"
   },
   {
    "duration": 253,
    "start_time": "2024-10-30T17:42:11.404Z"
   },
   {
    "duration": 217,
    "start_time": "2024-10-30T17:42:46.264Z"
   },
   {
    "duration": 1188,
    "start_time": "2024-11-01T17:15:05.997Z"
   },
   {
    "duration": 1489,
    "start_time": "2024-11-01T17:15:07.187Z"
   },
   {
    "duration": 31,
    "start_time": "2024-11-01T17:15:09.880Z"
   },
   {
    "duration": 23,
    "start_time": "2024-11-01T17:15:10.790Z"
   },
   {
    "duration": 29,
    "start_time": "2024-11-01T17:15:12.272Z"
   },
   {
    "duration": 19,
    "start_time": "2024-11-01T17:15:14.182Z"
   },
   {
    "duration": 14,
    "start_time": "2024-11-01T17:15:16.152Z"
   },
   {
    "duration": 20,
    "start_time": "2024-11-01T17:15:18.266Z"
   },
   {
    "duration": 12,
    "start_time": "2024-11-01T17:15:20.675Z"
   },
   {
    "duration": 8,
    "start_time": "2024-11-01T17:15:23.301Z"
   },
   {
    "duration": 15,
    "start_time": "2024-11-01T17:15:25.298Z"
   },
   {
    "duration": 269,
    "start_time": "2024-11-01T17:15:27.506Z"
   },
   {
    "duration": 784,
    "start_time": "2024-11-01T17:19:20.501Z"
   },
   {
    "duration": 23,
    "start_time": "2024-11-01T17:19:21.287Z"
   },
   {
    "duration": 22,
    "start_time": "2024-11-01T17:19:27.022Z"
   },
   {
    "duration": 22,
    "start_time": "2024-11-01T17:19:32.865Z"
   },
   {
    "duration": 19,
    "start_time": "2024-11-01T17:19:45.261Z"
   },
   {
    "duration": 13,
    "start_time": "2024-11-01T17:19:52.602Z"
   },
   {
    "duration": 19,
    "start_time": "2024-11-01T17:19:59.936Z"
   },
   {
    "duration": 14,
    "start_time": "2024-11-01T17:20:06.457Z"
   },
   {
    "duration": 7,
    "start_time": "2024-11-01T17:20:10.452Z"
   },
   {
    "duration": 11,
    "start_time": "2024-11-01T17:20:17.911Z"
   },
   {
    "duration": 241,
    "start_time": "2024-11-01T17:20:47.822Z"
   },
   {
    "duration": 9,
    "start_time": "2024-11-01T17:37:33.804Z"
   },
   {
    "duration": 7,
    "start_time": "2024-11-01T17:37:41.674Z"
   },
   {
    "duration": 119,
    "start_time": "2024-11-01T17:38:03.736Z"
   },
   {
    "duration": 13,
    "start_time": "2024-11-01T17:38:10.172Z"
   },
   {
    "duration": 15,
    "start_time": "2024-11-01T17:38:21.744Z"
   },
   {
    "duration": 11,
    "start_time": "2024-11-01T17:38:41.410Z"
   },
   {
    "duration": 9,
    "start_time": "2024-11-01T17:38:45.491Z"
   },
   {
    "duration": 6,
    "start_time": "2024-11-01T17:39:42.349Z"
   },
   {
    "duration": 31,
    "start_time": "2024-11-01T17:39:50.161Z"
   },
   {
    "duration": 4,
    "start_time": "2024-11-01T17:39:56.246Z"
   },
   {
    "duration": 796,
    "start_time": "2024-11-01T17:40:21.236Z"
   },
   {
    "duration": 10,
    "start_time": "2024-11-01T17:40:29.119Z"
   },
   {
    "duration": 10,
    "start_time": "2024-11-01T17:40:33.076Z"
   },
   {
    "duration": 260,
    "start_time": "2024-11-01T17:40:34.883Z"
   },
   {
    "duration": 9,
    "start_time": "2024-11-01T17:40:40.939Z"
   },
   {
    "duration": 4,
    "start_time": "2024-11-01T17:49:22.794Z"
   },
   {
    "duration": 69,
    "start_time": "2024-11-01T17:50:52.081Z"
   },
   {
    "duration": 5,
    "start_time": "2024-11-01T17:50:55.933Z"
   },
   {
    "duration": 69,
    "start_time": "2024-11-01T17:51:53.097Z"
   },
   {
    "duration": 87,
    "start_time": "2024-11-01T17:52:00.306Z"
   },
   {
    "duration": 5,
    "start_time": "2024-11-01T17:52:14.362Z"
   },
   {
    "duration": 5,
    "start_time": "2024-11-01T17:53:08.638Z"
   },
   {
    "duration": 11,
    "start_time": "2024-11-01T17:54:49.002Z"
   },
   {
    "duration": 5,
    "start_time": "2024-11-01T17:54:51.859Z"
   },
   {
    "duration": 1167,
    "start_time": "2024-11-02T16:03:17.945Z"
   },
   {
    "duration": 3369,
    "start_time": "2024-11-02T16:03:19.114Z"
   },
   {
    "duration": 29,
    "start_time": "2024-11-02T16:03:22.485Z"
   },
   {
    "duration": 39,
    "start_time": "2024-11-02T16:03:22.515Z"
   },
   {
    "duration": 24,
    "start_time": "2024-11-02T16:03:22.556Z"
   },
   {
    "duration": 81,
    "start_time": "2024-11-02T16:03:22.582Z"
   },
   {
    "duration": 13,
    "start_time": "2024-11-02T16:03:22.665Z"
   },
   {
    "duration": 20,
    "start_time": "2024-11-02T16:03:22.680Z"
   },
   {
    "duration": 9,
    "start_time": "2024-11-02T16:03:22.702Z"
   },
   {
    "duration": 128,
    "start_time": "2024-11-02T16:03:22.713Z"
   },
   {
    "duration": 11,
    "start_time": "2024-11-02T16:03:22.843Z"
   },
   {
    "duration": 260,
    "start_time": "2024-11-02T16:03:22.855Z"
   },
   {
    "duration": 6,
    "start_time": "2024-11-02T16:03:23.116Z"
   },
   {
    "duration": 25,
    "start_time": "2024-11-02T16:03:23.125Z"
   },
   {
    "duration": 3,
    "start_time": "2024-11-02T16:12:11.082Z"
   },
   {
    "duration": 6,
    "start_time": "2024-11-02T16:13:28.643Z"
   },
   {
    "duration": 4,
    "start_time": "2024-11-02T16:14:38.840Z"
   },
   {
    "duration": 7,
    "start_time": "2024-11-02T16:16:34.167Z"
   },
   {
    "duration": 3,
    "start_time": "2024-11-02T16:20:24.130Z"
   },
   {
    "duration": 5,
    "start_time": "2024-11-02T16:22:15.915Z"
   },
   {
    "duration": 20,
    "start_time": "2024-11-02T16:22:40.680Z"
   },
   {
    "duration": 3,
    "start_time": "2024-11-02T16:46:53.058Z"
   },
   {
    "duration": 257,
    "start_time": "2024-11-02T16:47:46.955Z"
   },
   {
    "duration": 11,
    "start_time": "2024-11-02T16:48:07.517Z"
   },
   {
    "duration": 8,
    "start_time": "2024-11-02T16:48:33.374Z"
   },
   {
    "duration": 11,
    "start_time": "2024-11-02T16:56:18.200Z"
   },
   {
    "duration": 6,
    "start_time": "2024-11-02T16:56:21.823Z"
   },
   {
    "duration": 4,
    "start_time": "2024-11-02T16:58:00.237Z"
   },
   {
    "duration": 5,
    "start_time": "2024-11-02T17:04:47.208Z"
   },
   {
    "duration": 4,
    "start_time": "2024-11-02T17:04:54.196Z"
   },
   {
    "duration": 60,
    "start_time": "2024-11-02T17:09:10.182Z"
   },
   {
    "duration": 112,
    "start_time": "2024-11-02T17:09:17.784Z"
   },
   {
    "duration": 11,
    "start_time": "2024-11-02T17:09:32.420Z"
   },
   {
    "duration": 11,
    "start_time": "2024-11-02T17:09:40.877Z"
   },
   {
    "duration": 9,
    "start_time": "2024-11-02T17:09:50.261Z"
   },
   {
    "duration": 9,
    "start_time": "2024-11-02T17:09:58.951Z"
   },
   {
    "duration": 7,
    "start_time": "2024-11-02T17:10:06.400Z"
   },
   {
    "duration": 6,
    "start_time": "2024-11-02T17:10:13.893Z"
   },
   {
    "duration": 242,
    "start_time": "2024-11-02T17:10:27.630Z"
   },
   {
    "duration": 10,
    "start_time": "2024-11-02T17:10:47.205Z"
   },
   {
    "duration": 12,
    "start_time": "2024-11-02T17:10:59.579Z"
   },
   {
    "duration": 9,
    "start_time": "2024-11-02T17:11:27.299Z"
   },
   {
    "duration": 1014,
    "start_time": "2024-11-03T07:15:43.340Z"
   },
   {
    "duration": 1263,
    "start_time": "2024-11-03T07:15:47.415Z"
   },
   {
    "duration": 17,
    "start_time": "2024-11-03T07:15:52.599Z"
   },
   {
    "duration": 11,
    "start_time": "2024-11-03T07:15:58.747Z"
   },
   {
    "duration": 17,
    "start_time": "2024-11-03T07:16:01.338Z"
   },
   {
    "duration": 6,
    "start_time": "2024-11-03T07:16:36.984Z"
   },
   {
    "duration": 4,
    "start_time": "2024-11-03T07:16:39.110Z"
   },
   {
    "duration": 4,
    "start_time": "2024-11-03T07:16:41.786Z"
   },
   {
    "duration": 2,
    "start_time": "2024-11-03T07:16:53.330Z"
   },
   {
    "duration": 19,
    "start_time": "2024-11-03T07:16:54.543Z"
   },
   {
    "duration": 8,
    "start_time": "2024-11-03T07:17:06.998Z"
   },
   {
    "duration": 7,
    "start_time": "2024-11-03T07:17:07.776Z"
   },
   {
    "duration": 11,
    "start_time": "2024-11-03T07:17:10.046Z"
   },
   {
    "duration": 3,
    "start_time": "2024-11-03T07:17:11.843Z"
   },
   {
    "duration": 48,
    "start_time": "2024-11-03T07:17:14.814Z"
   },
   {
    "duration": 18,
    "start_time": "2024-11-03T07:18:48.218Z"
   },
   {
    "duration": 7,
    "start_time": "2024-11-03T07:18:49.364Z"
   },
   {
    "duration": 8,
    "start_time": "2024-11-03T07:18:50.936Z"
   },
   {
    "duration": 3,
    "start_time": "2024-11-03T07:18:59.049Z"
   },
   {
    "duration": 663,
    "start_time": "2024-11-03T07:18:59.054Z"
   },
   {
    "duration": 26,
    "start_time": "2024-11-03T07:18:59.719Z"
   },
   {
    "duration": 20,
    "start_time": "2024-11-03T07:18:59.747Z"
   },
   {
    "duration": 27,
    "start_time": "2024-11-03T07:18:59.769Z"
   },
   {
    "duration": 14,
    "start_time": "2024-11-03T07:18:59.811Z"
   },
   {
    "duration": 14,
    "start_time": "2024-11-03T07:18:59.826Z"
   },
   {
    "duration": 22,
    "start_time": "2024-11-03T07:18:59.841Z"
   },
   {
    "duration": 6,
    "start_time": "2024-11-03T07:18:59.865Z"
   },
   {
    "duration": 5,
    "start_time": "2024-11-03T07:18:59.872Z"
   },
   {
    "duration": 35,
    "start_time": "2024-11-03T07:18:59.879Z"
   },
   {
    "duration": 5,
    "start_time": "2024-11-03T07:18:59.916Z"
   },
   {
    "duration": 14,
    "start_time": "2024-11-03T07:18:59.922Z"
   },
   {
    "duration": 7,
    "start_time": "2024-11-03T07:18:59.937Z"
   },
   {
    "duration": 6,
    "start_time": "2024-11-03T07:18:59.945Z"
   },
   {
    "duration": 14,
    "start_time": "2024-11-03T07:18:59.952Z"
   },
   {
    "duration": 2,
    "start_time": "2024-11-03T07:18:59.968Z"
   },
   {
    "duration": 59,
    "start_time": "2024-11-03T07:18:59.972Z"
   },
   {
    "duration": 6,
    "start_time": "2024-11-03T07:19:00.032Z"
   },
   {
    "duration": 52,
    "start_time": "2024-11-03T07:19:00.039Z"
   },
   {
    "duration": 232,
    "start_time": "2024-11-03T07:19:00.092Z"
   },
   {
    "duration": 205,
    "start_time": "2024-11-03T08:06:47.334Z"
   },
   {
    "duration": 3,
    "start_time": "2024-11-03T08:23:29.955Z"
   },
   {
    "duration": 4,
    "start_time": "2024-11-03T08:23:33.834Z"
   },
   {
    "duration": 3,
    "start_time": "2024-11-03T08:24:26.347Z"
   },
   {
    "duration": 4,
    "start_time": "2024-11-03T08:24:59.755Z"
   },
   {
    "duration": 98,
    "start_time": "2024-11-03T08:26:15.309Z"
   },
   {
    "duration": 3,
    "start_time": "2024-11-03T08:26:38.540Z"
   },
   {
    "duration": 8,
    "start_time": "2024-11-03T08:26:42.888Z"
   },
   {
    "duration": 434,
    "start_time": "2024-11-03T08:29:14.951Z"
   },
   {
    "duration": 122,
    "start_time": "2024-11-03T08:31:39.441Z"
   },
   {
    "duration": 131,
    "start_time": "2024-11-03T08:32:50.738Z"
   },
   {
    "duration": 134,
    "start_time": "2024-11-03T08:35:07.405Z"
   },
   {
    "duration": 144,
    "start_time": "2024-11-03T08:35:11.900Z"
   },
   {
    "duration": 156,
    "start_time": "2024-11-03T08:51:12.592Z"
   },
   {
    "duration": 201,
    "start_time": "2024-11-03T08:51:28.728Z"
   },
   {
    "duration": 593,
    "start_time": "2024-11-03T08:58:05.822Z"
   },
   {
    "duration": 5,
    "start_time": "2024-11-03T08:58:17.969Z"
   },
   {
    "duration": 4,
    "start_time": "2024-11-03T08:58:19.835Z"
   },
   {
    "duration": 4,
    "start_time": "2024-11-03T08:58:20.405Z"
   },
   {
    "duration": 9,
    "start_time": "2024-11-03T08:58:21.302Z"
   },
   {
    "duration": 141,
    "start_time": "2024-11-03T08:58:24.668Z"
   },
   {
    "duration": 3,
    "start_time": "2024-11-03T08:58:40.550Z"
   },
   {
    "duration": 617,
    "start_time": "2024-11-03T08:58:40.555Z"
   },
   {
    "duration": 18,
    "start_time": "2024-11-03T08:58:41.174Z"
   },
   {
    "duration": 27,
    "start_time": "2024-11-03T08:58:41.193Z"
   },
   {
    "duration": 16,
    "start_time": "2024-11-03T08:58:41.222Z"
   },
   {
    "duration": 14,
    "start_time": "2024-11-03T08:58:41.239Z"
   },
   {
    "duration": 10,
    "start_time": "2024-11-03T08:58:41.255Z"
   },
   {
    "duration": 46,
    "start_time": "2024-11-03T08:58:41.266Z"
   },
   {
    "duration": 6,
    "start_time": "2024-11-03T08:58:41.314Z"
   },
   {
    "duration": 8,
    "start_time": "2024-11-03T08:58:41.321Z"
   },
   {
    "duration": 5,
    "start_time": "2024-11-03T08:58:41.330Z"
   },
   {
    "duration": 2,
    "start_time": "2024-11-03T08:58:41.337Z"
   },
   {
    "duration": 13,
    "start_time": "2024-11-03T08:58:41.340Z"
   },
   {
    "duration": 9,
    "start_time": "2024-11-03T08:58:41.354Z"
   },
   {
    "duration": 7,
    "start_time": "2024-11-03T08:58:41.364Z"
   },
   {
    "duration": 43,
    "start_time": "2024-11-03T08:58:41.372Z"
   },
   {
    "duration": 3,
    "start_time": "2024-11-03T08:58:41.416Z"
   },
   {
    "duration": 36,
    "start_time": "2024-11-03T08:58:41.421Z"
   },
   {
    "duration": 5,
    "start_time": "2024-11-03T08:58:41.458Z"
   },
   {
    "duration": 12,
    "start_time": "2024-11-03T08:58:41.464Z"
   },
   {
    "duration": 237,
    "start_time": "2024-11-03T08:58:41.477Z"
   },
   {
    "duration": 3,
    "start_time": "2024-11-03T08:58:41.716Z"
   },
   {
    "duration": 8,
    "start_time": "2024-11-03T08:58:41.720Z"
   },
   {
    "duration": 4,
    "start_time": "2024-11-03T08:58:41.730Z"
   },
   {
    "duration": 10,
    "start_time": "2024-11-03T08:58:41.735Z"
   },
   {
    "duration": 157,
    "start_time": "2024-11-03T08:58:41.746Z"
   },
   {
    "duration": 77,
    "start_time": "2024-11-03T09:08:55.828Z"
   },
   {
    "duration": 3,
    "start_time": "2024-11-03T09:08:59.563Z"
   },
   {
    "duration": 3,
    "start_time": "2024-11-03T09:09:03.224Z"
   },
   {
    "duration": 21,
    "start_time": "2024-11-03T09:10:14.077Z"
   },
   {
    "duration": 3,
    "start_time": "2024-11-03T09:10:32.400Z"
   },
   {
    "duration": 4,
    "start_time": "2024-11-03T09:10:36.021Z"
   },
   {
    "duration": 130,
    "start_time": "2024-11-03T09:12:19.280Z"
   },
   {
    "duration": 1654,
    "start_time": "2024-11-04T07:18:46.536Z"
   },
   {
    "duration": 1435,
    "start_time": "2024-11-04T07:18:48.193Z"
   },
   {
    "duration": 26,
    "start_time": "2024-11-04T07:18:49.629Z"
   },
   {
    "duration": 27,
    "start_time": "2024-11-04T07:18:49.657Z"
   },
   {
    "duration": 37,
    "start_time": "2024-11-04T07:18:49.687Z"
   },
   {
    "duration": 23,
    "start_time": "2024-11-04T07:18:49.727Z"
   },
   {
    "duration": 15,
    "start_time": "2024-11-04T07:18:49.752Z"
   },
   {
    "duration": 57,
    "start_time": "2024-11-04T07:18:49.770Z"
   },
   {
    "duration": 8,
    "start_time": "2024-11-04T07:18:49.829Z"
   },
   {
    "duration": 5,
    "start_time": "2024-11-04T07:18:49.839Z"
   },
   {
    "duration": 14,
    "start_time": "2024-11-04T07:18:49.846Z"
   },
   {
    "duration": 4,
    "start_time": "2024-11-04T07:18:49.862Z"
   },
   {
    "duration": 52,
    "start_time": "2024-11-04T07:18:49.868Z"
   },
   {
    "duration": 12,
    "start_time": "2024-11-04T07:18:49.924Z"
   },
   {
    "duration": 7,
    "start_time": "2024-11-04T07:18:49.939Z"
   },
   {
    "duration": 10,
    "start_time": "2024-11-04T07:18:49.948Z"
   },
   {
    "duration": 3,
    "start_time": "2024-11-04T07:18:49.960Z"
   },
   {
    "duration": 80,
    "start_time": "2024-11-04T07:18:49.965Z"
   },
   {
    "duration": 9,
    "start_time": "2024-11-04T07:18:50.047Z"
   },
   {
    "duration": 26,
    "start_time": "2024-11-04T07:18:50.058Z"
   },
   {
    "duration": 258,
    "start_time": "2024-11-04T07:18:50.085Z"
   },
   {
    "duration": 4,
    "start_time": "2024-11-04T07:18:50.345Z"
   },
   {
    "duration": 26,
    "start_time": "2024-11-04T07:18:50.350Z"
   },
   {
    "duration": 9,
    "start_time": "2024-11-04T07:18:50.378Z"
   },
   {
    "duration": 23,
    "start_time": "2024-11-04T07:18:50.389Z"
   },
   {
    "duration": 189,
    "start_time": "2024-11-04T07:18:50.414Z"
   },
   {
    "duration": 5,
    "start_time": "2024-11-04T07:18:50.605Z"
   },
   {
    "duration": 165,
    "start_time": "2024-11-04T07:18:50.621Z"
   },
   {
    "duration": 62,
    "start_time": "2024-11-04T07:25:08.827Z"
   },
   {
    "duration": 1257,
    "start_time": "2024-11-04T07:29:13.263Z"
   },
   {
    "duration": 1224,
    "start_time": "2024-11-04T07:29:28.379Z"
   },
   {
    "duration": 1225,
    "start_time": "2024-11-04T07:34:03.028Z"
   },
   {
    "duration": 530,
    "start_time": "2024-11-04T07:36:03.476Z"
   },
   {
    "duration": 1315,
    "start_time": "2024-11-04T07:36:19.703Z"
   },
   {
    "duration": 1155,
    "start_time": "2024-11-04T07:36:52.256Z"
   },
   {
    "duration": 1304,
    "start_time": "2024-11-04T07:37:06.961Z"
   },
   {
    "duration": 849,
    "start_time": "2024-11-04T07:39:20.955Z"
   },
   {
    "duration": 78,
    "start_time": "2024-11-04T08:09:04.999Z"
   },
   {
    "duration": 6,
    "start_time": "2024-11-04T08:18:40.208Z"
   },
   {
    "duration": 5,
    "start_time": "2024-11-04T08:19:33.128Z"
   },
   {
    "duration": 4,
    "start_time": "2024-11-04T08:20:28.316Z"
   },
   {
    "duration": 28,
    "start_time": "2024-11-04T08:20:40.599Z"
   },
   {
    "duration": 12,
    "start_time": "2024-11-04T08:20:47.507Z"
   },
   {
    "duration": 85,
    "start_time": "2024-11-04T08:20:50.501Z"
   },
   {
    "duration": 20,
    "start_time": "2024-11-04T08:20:57.202Z"
   },
   {
    "duration": 336,
    "start_time": "2024-11-04T08:22:34.704Z"
   },
   {
    "duration": 183,
    "start_time": "2024-11-04T08:22:43.030Z"
   },
   {
    "duration": 188,
    "start_time": "2024-11-04T08:23:04.571Z"
   },
   {
    "duration": 181,
    "start_time": "2024-11-04T08:23:12.198Z"
   },
   {
    "duration": 231,
    "start_time": "2024-11-04T08:24:04.628Z"
   },
   {
    "duration": 242,
    "start_time": "2024-11-04T08:24:12.741Z"
   },
   {
    "duration": 224,
    "start_time": "2024-11-04T08:25:18.605Z"
   },
   {
    "duration": 243,
    "start_time": "2024-11-04T08:25:44.798Z"
   },
   {
    "duration": 1399,
    "start_time": "2024-11-04T08:25:59.439Z"
   },
   {
    "duration": 525,
    "start_time": "2024-11-04T08:26:16.666Z"
   },
   {
    "duration": 422,
    "start_time": "2024-11-04T08:27:42.943Z"
   },
   {
    "duration": 449,
    "start_time": "2024-11-04T08:27:50.986Z"
   },
   {
    "duration": 1524,
    "start_time": "2024-11-05T17:12:18.562Z"
   },
   {
    "duration": 3234,
    "start_time": "2024-11-05T17:12:20.088Z"
   },
   {
    "duration": 23,
    "start_time": "2024-11-05T17:12:23.324Z"
   },
   {
    "duration": 19,
    "start_time": "2024-11-05T17:12:23.349Z"
   },
   {
    "duration": 23,
    "start_time": "2024-11-05T17:12:23.369Z"
   },
   {
    "duration": 34,
    "start_time": "2024-11-05T17:12:23.393Z"
   },
   {
    "duration": 13,
    "start_time": "2024-11-05T17:12:23.429Z"
   },
   {
    "duration": 18,
    "start_time": "2024-11-05T17:12:23.444Z"
   },
   {
    "duration": 6,
    "start_time": "2024-11-05T17:12:23.463Z"
   },
   {
    "duration": 5,
    "start_time": "2024-11-05T17:12:23.471Z"
   },
   {
    "duration": 9,
    "start_time": "2024-11-05T17:12:23.477Z"
   },
   {
    "duration": 34,
    "start_time": "2024-11-05T17:12:23.487Z"
   },
   {
    "duration": 21,
    "start_time": "2024-11-05T17:12:23.522Z"
   },
   {
    "duration": 18,
    "start_time": "2024-11-05T17:12:23.544Z"
   },
   {
    "duration": 6,
    "start_time": "2024-11-05T17:12:23.563Z"
   },
   {
    "duration": 16,
    "start_time": "2024-11-05T17:12:23.570Z"
   },
   {
    "duration": 13,
    "start_time": "2024-11-05T17:12:23.588Z"
   },
   {
    "duration": 93,
    "start_time": "2024-11-05T17:12:23.602Z"
   },
   {
    "duration": 9,
    "start_time": "2024-11-05T17:12:23.697Z"
   },
   {
    "duration": 11,
    "start_time": "2024-11-05T17:12:23.707Z"
   },
   {
    "duration": 223,
    "start_time": "2024-11-05T17:12:23.720Z"
   },
   {
    "duration": 4,
    "start_time": "2024-11-05T17:12:23.945Z"
   },
   {
    "duration": 12,
    "start_time": "2024-11-05T17:12:23.950Z"
   },
   {
    "duration": 4,
    "start_time": "2024-11-05T17:12:23.963Z"
   },
   {
    "duration": 13,
    "start_time": "2024-11-05T17:12:23.968Z"
   },
   {
    "duration": 174,
    "start_time": "2024-11-05T17:12:23.982Z"
   },
   {
    "duration": 5,
    "start_time": "2024-11-05T17:12:24.158Z"
   },
   {
    "duration": 162,
    "start_time": "2024-11-05T17:12:24.166Z"
   },
   {
    "duration": 1109,
    "start_time": "2024-11-05T17:12:24.331Z"
   },
   {
    "duration": 712,
    "start_time": "2024-11-05T17:12:25.442Z"
   },
   {
    "duration": 5,
    "start_time": "2024-11-05T17:12:26.156Z"
   },
   {
    "duration": 6,
    "start_time": "2024-11-05T17:12:26.162Z"
   },
   {
    "duration": 5,
    "start_time": "2024-11-05T17:12:26.169Z"
   },
   {
    "duration": 47,
    "start_time": "2024-11-05T17:12:26.175Z"
   },
   {
    "duration": 525,
    "start_time": "2024-11-05T17:12:26.224Z"
   },
   {
    "duration": 3,
    "start_time": "2024-11-05T17:52:50.985Z"
   },
   {
    "duration": 3,
    "start_time": "2024-11-05T17:56:47.660Z"
   },
   {
    "duration": 11,
    "start_time": "2024-11-05T18:04:56.793Z"
   },
   {
    "duration": 15,
    "start_time": "2024-11-05T18:09:41.297Z"
   },
   {
    "duration": 3,
    "start_time": "2024-11-05T18:10:25.816Z"
   },
   {
    "duration": 43,
    "start_time": "2024-11-05T18:10:39.148Z"
   },
   {
    "duration": 12,
    "start_time": "2024-11-05T18:10:42.078Z"
   },
   {
    "duration": 9,
    "start_time": "2024-11-05T18:10:56.300Z"
   },
   {
    "duration": 9,
    "start_time": "2024-11-05T18:11:02.636Z"
   },
   {
    "duration": 139,
    "start_time": "2024-11-05T18:23:39.011Z"
   },
   {
    "duration": 10,
    "start_time": "2024-11-05T18:25:19.531Z"
   },
   {
    "duration": 35,
    "start_time": "2024-11-05T18:25:32.350Z"
   },
   {
    "duration": 1619,
    "start_time": "2024-11-07T17:35:49.791Z"
   },
   {
    "duration": 3241,
    "start_time": "2024-11-07T17:35:51.412Z"
   },
   {
    "duration": 27,
    "start_time": "2024-11-07T17:35:54.654Z"
   },
   {
    "duration": 21,
    "start_time": "2024-11-07T17:35:54.682Z"
   },
   {
    "duration": 25,
    "start_time": "2024-11-07T17:35:54.705Z"
   },
   {
    "duration": 37,
    "start_time": "2024-11-07T17:35:54.732Z"
   },
   {
    "duration": 13,
    "start_time": "2024-11-07T17:35:54.770Z"
   },
   {
    "duration": 20,
    "start_time": "2024-11-07T17:35:54.784Z"
   },
   {
    "duration": 7,
    "start_time": "2024-11-07T17:35:54.806Z"
   },
   {
    "duration": 11,
    "start_time": "2024-11-07T17:35:54.814Z"
   },
   {
    "duration": 6,
    "start_time": "2024-11-07T17:35:54.852Z"
   },
   {
    "duration": 8,
    "start_time": "2024-11-07T17:35:54.859Z"
   },
   {
    "duration": 18,
    "start_time": "2024-11-07T17:35:54.869Z"
   },
   {
    "duration": 10,
    "start_time": "2024-11-07T17:35:54.891Z"
   },
   {
    "duration": 8,
    "start_time": "2024-11-07T17:35:54.902Z"
   },
   {
    "duration": 43,
    "start_time": "2024-11-07T17:35:54.912Z"
   },
   {
    "duration": 4,
    "start_time": "2024-11-07T17:35:54.957Z"
   },
   {
    "duration": 65,
    "start_time": "2024-11-07T17:35:54.962Z"
   },
   {
    "duration": 10,
    "start_time": "2024-11-07T17:35:55.028Z"
   },
   {
    "duration": 22,
    "start_time": "2024-11-07T17:35:55.040Z"
   },
   {
    "duration": 253,
    "start_time": "2024-11-07T17:35:55.064Z"
   },
   {
    "duration": 5,
    "start_time": "2024-11-07T17:35:55.319Z"
   },
   {
    "duration": 8,
    "start_time": "2024-11-07T17:35:55.326Z"
   },
   {
    "duration": 19,
    "start_time": "2024-11-07T17:35:55.335Z"
   },
   {
    "duration": 9,
    "start_time": "2024-11-07T17:35:55.356Z"
   },
   {
    "duration": 199,
    "start_time": "2024-11-07T17:35:55.367Z"
   },
   {
    "duration": 5,
    "start_time": "2024-11-07T17:35:55.568Z"
   },
   {
    "duration": 166,
    "start_time": "2024-11-07T17:35:55.575Z"
   },
   {
    "duration": 1187,
    "start_time": "2024-11-07T17:35:55.742Z"
   },
   {
    "duration": 811,
    "start_time": "2024-11-07T17:35:56.931Z"
   },
   {
    "duration": 9,
    "start_time": "2024-11-07T17:35:57.744Z"
   },
   {
    "duration": 6,
    "start_time": "2024-11-07T17:35:57.755Z"
   },
   {
    "duration": 13,
    "start_time": "2024-11-07T17:35:57.763Z"
   },
   {
    "duration": 41,
    "start_time": "2024-11-07T17:35:57.777Z"
   },
   {
    "duration": 595,
    "start_time": "2024-11-07T17:35:57.820Z"
   },
   {
    "duration": 3,
    "start_time": "2024-11-07T17:35:58.417Z"
   },
   {
    "duration": 11,
    "start_time": "2024-11-07T17:35:58.421Z"
   },
   {
    "duration": 21,
    "start_time": "2024-11-07T17:35:58.434Z"
   },
   {
    "duration": 17,
    "start_time": "2024-11-07T17:35:58.457Z"
   },
   {
    "duration": 199,
    "start_time": "2024-11-07T17:35:58.476Z"
   },
   {
    "duration": 15,
    "start_time": "2024-11-07T17:45:01.554Z"
   },
   {
    "duration": 23,
    "start_time": "2024-11-07T17:45:11.229Z"
   },
   {
    "duration": 3,
    "start_time": "2024-11-07T17:45:20.553Z"
   },
   {
    "duration": 810,
    "start_time": "2024-11-07T17:45:20.558Z"
   },
   {
    "duration": 22,
    "start_time": "2024-11-07T17:45:21.369Z"
   },
   {
    "duration": 24,
    "start_time": "2024-11-07T17:45:21.393Z"
   },
   {
    "duration": 42,
    "start_time": "2024-11-07T17:45:21.419Z"
   },
   {
    "duration": 18,
    "start_time": "2024-11-07T17:45:21.463Z"
   },
   {
    "duration": 13,
    "start_time": "2024-11-07T17:45:21.482Z"
   },
   {
    "duration": 18,
    "start_time": "2024-11-07T17:45:21.497Z"
   },
   {
    "duration": 5,
    "start_time": "2024-11-07T17:45:21.516Z"
   },
   {
    "duration": 4,
    "start_time": "2024-11-07T17:45:21.553Z"
   },
   {
    "duration": 5,
    "start_time": "2024-11-07T17:45:21.559Z"
   },
   {
    "duration": 16,
    "start_time": "2024-11-07T17:45:21.565Z"
   },
   {
    "duration": 27,
    "start_time": "2024-11-07T17:45:21.584Z"
   },
   {
    "duration": 13,
    "start_time": "2024-11-07T17:45:21.613Z"
   },
   {
    "duration": 7,
    "start_time": "2024-11-07T17:45:21.628Z"
   },
   {
    "duration": 23,
    "start_time": "2024-11-07T17:45:21.636Z"
   },
   {
    "duration": 4,
    "start_time": "2024-11-07T17:45:21.661Z"
   },
   {
    "duration": 54,
    "start_time": "2024-11-07T17:45:21.668Z"
   },
   {
    "duration": 33,
    "start_time": "2024-11-07T17:45:21.723Z"
   },
   {
    "duration": 21,
    "start_time": "2024-11-07T17:45:21.758Z"
   },
   {
    "duration": 255,
    "start_time": "2024-11-07T17:45:21.781Z"
   },
   {
    "duration": 19,
    "start_time": "2024-11-07T17:45:22.037Z"
   },
   {
    "duration": 6,
    "start_time": "2024-11-07T17:45:22.058Z"
   },
   {
    "duration": 5,
    "start_time": "2024-11-07T17:45:22.065Z"
   },
   {
    "duration": 13,
    "start_time": "2024-11-07T17:45:22.072Z"
   },
   {
    "duration": 50,
    "start_time": "2024-11-07T17:45:22.086Z"
   },
   {
    "duration": 177,
    "start_time": "2024-11-07T17:45:22.138Z"
   },
   {
    "duration": 5,
    "start_time": "2024-11-07T17:45:22.317Z"
   },
   {
    "duration": 160,
    "start_time": "2024-11-07T17:45:22.324Z"
   },
   {
    "duration": 1289,
    "start_time": "2024-11-07T17:45:22.486Z"
   },
   {
    "duration": 771,
    "start_time": "2024-11-07T17:45:23.777Z"
   },
   {
    "duration": 5,
    "start_time": "2024-11-07T17:45:24.549Z"
   },
   {
    "duration": 37,
    "start_time": "2024-11-07T17:45:24.555Z"
   },
   {
    "duration": 19,
    "start_time": "2024-11-07T17:45:24.593Z"
   },
   {
    "duration": 29,
    "start_time": "2024-11-07T17:45:24.613Z"
   },
   {
    "duration": 425,
    "start_time": "2024-11-07T17:45:24.644Z"
   },
   {
    "duration": 3,
    "start_time": "2024-11-07T17:45:25.072Z"
   },
   {
    "duration": 4,
    "start_time": "2024-11-07T17:45:25.077Z"
   },
   {
    "duration": 7,
    "start_time": "2024-11-07T17:45:25.083Z"
   },
   {
    "duration": 28,
    "start_time": "2024-11-07T17:45:25.091Z"
   },
   {
    "duration": 87,
    "start_time": "2024-11-07T17:45:25.121Z"
   },
   {
    "duration": 11,
    "start_time": "2024-11-07T17:58:14.476Z"
   },
   {
    "duration": 4,
    "start_time": "2024-11-07T17:58:28.539Z"
   },
   {
    "duration": 3,
    "start_time": "2024-11-07T17:58:33.257Z"
   },
   {
    "duration": 10,
    "start_time": "2024-11-07T17:59:35.629Z"
   },
   {
    "duration": 11,
    "start_time": "2024-11-07T17:59:52.340Z"
   },
   {
    "duration": 10,
    "start_time": "2024-11-07T18:00:22.516Z"
   },
   {
    "duration": 4,
    "start_time": "2024-11-07T18:00:53.832Z"
   },
   {
    "duration": 4,
    "start_time": "2024-11-07T18:10:49.145Z"
   },
   {
    "duration": 17,
    "start_time": "2024-11-07T18:23:17.363Z"
   },
   {
    "duration": 109,
    "start_time": "2024-11-07T18:24:15.973Z"
   },
   {
    "duration": 7,
    "start_time": "2024-11-07T18:26:53.137Z"
   },
   {
    "duration": 15,
    "start_time": "2024-11-07T18:26:55.098Z"
   },
   {
    "duration": 4,
    "start_time": "2024-11-07T18:26:57.294Z"
   },
   {
    "duration": 121,
    "start_time": "2024-11-07T18:26:57.882Z"
   },
   {
    "duration": 120,
    "start_time": "2024-11-07T18:27:25.499Z"
   },
   {
    "duration": 11,
    "start_time": "2024-11-07T18:33:38.450Z"
   },
   {
    "duration": 123,
    "start_time": "2024-11-07T18:33:57.468Z"
   },
   {
    "duration": 15155,
    "start_time": "2024-11-07T18:34:27.603Z"
   },
   {
    "duration": 14950,
    "start_time": "2024-11-07T18:35:00.293Z"
   },
   {
    "duration": 14878,
    "start_time": "2024-11-07T18:35:28.741Z"
   },
   {
    "duration": 14985,
    "start_time": "2024-11-07T18:41:19.571Z"
   },
   {
    "duration": 17145,
    "start_time": "2024-11-07T18:43:48.432Z"
   },
   {
    "duration": 17177,
    "start_time": "2024-11-07T18:44:51.241Z"
   },
   {
    "duration": 1612,
    "start_time": "2024-11-08T18:11:15.161Z"
   },
   {
    "duration": 1411,
    "start_time": "2024-11-08T18:11:16.775Z"
   },
   {
    "duration": 38,
    "start_time": "2024-11-08T18:11:18.187Z"
   },
   {
    "duration": 24,
    "start_time": "2024-11-08T18:11:18.227Z"
   },
   {
    "duration": 19,
    "start_time": "2024-11-08T18:11:18.254Z"
   },
   {
    "duration": 16,
    "start_time": "2024-11-08T18:11:18.275Z"
   },
   {
    "duration": 26,
    "start_time": "2024-11-08T18:11:18.292Z"
   },
   {
    "duration": 30,
    "start_time": "2024-11-08T18:11:18.320Z"
   },
   {
    "duration": 9,
    "start_time": "2024-11-08T18:11:18.351Z"
   },
   {
    "duration": 4,
    "start_time": "2024-11-08T18:11:18.362Z"
   },
   {
    "duration": 10,
    "start_time": "2024-11-08T18:11:18.368Z"
   },
   {
    "duration": 8,
    "start_time": "2024-11-08T18:11:18.379Z"
   },
   {
    "duration": 35,
    "start_time": "2024-11-08T18:11:18.389Z"
   },
   {
    "duration": 8,
    "start_time": "2024-11-08T18:11:18.427Z"
   },
   {
    "duration": 11,
    "start_time": "2024-11-08T18:11:18.437Z"
   },
   {
    "duration": 8,
    "start_time": "2024-11-08T18:11:18.449Z"
   },
   {
    "duration": 4,
    "start_time": "2024-11-08T18:11:18.458Z"
   },
   {
    "duration": 50,
    "start_time": "2024-11-08T18:11:18.463Z"
   },
   {
    "duration": 11,
    "start_time": "2024-11-08T18:11:18.514Z"
   },
   {
    "duration": 10,
    "start_time": "2024-11-08T18:11:18.529Z"
   },
   {
    "duration": 246,
    "start_time": "2024-11-08T18:11:18.541Z"
   },
   {
    "duration": 28,
    "start_time": "2024-11-08T18:11:18.788Z"
   },
   {
    "duration": 15,
    "start_time": "2024-11-08T18:11:18.818Z"
   },
   {
    "duration": 5,
    "start_time": "2024-11-08T18:11:18.835Z"
   },
   {
    "duration": 13,
    "start_time": "2024-11-08T18:11:18.842Z"
   },
   {
    "duration": 15,
    "start_time": "2024-11-08T18:11:18.857Z"
   },
   {
    "duration": 182,
    "start_time": "2024-11-08T18:11:18.873Z"
   },
   {
    "duration": 6,
    "start_time": "2024-11-08T18:11:19.057Z"
   },
   {
    "duration": 204,
    "start_time": "2024-11-08T18:11:19.065Z"
   },
   {
    "duration": 1108,
    "start_time": "2024-11-08T18:11:19.270Z"
   },
   {
    "duration": 741,
    "start_time": "2024-11-08T18:11:20.380Z"
   },
   {
    "duration": 5,
    "start_time": "2024-11-08T18:11:21.123Z"
   },
   {
    "duration": 16,
    "start_time": "2024-11-08T18:11:21.130Z"
   },
   {
    "duration": 24,
    "start_time": "2024-11-08T18:11:21.148Z"
   },
   {
    "duration": 59,
    "start_time": "2024-11-08T18:11:21.174Z"
   },
   {
    "duration": 517,
    "start_time": "2024-11-08T18:11:21.234Z"
   },
   {
    "duration": 2,
    "start_time": "2024-11-08T18:11:21.753Z"
   },
   {
    "duration": 30,
    "start_time": "2024-11-08T18:11:21.757Z"
   },
   {
    "duration": 63,
    "start_time": "2024-11-08T18:11:21.789Z"
   },
   {
    "duration": 61,
    "start_time": "2024-11-08T18:11:21.854Z"
   },
   {
    "duration": 15680,
    "start_time": "2024-11-08T18:11:21.920Z"
   },
   {
    "duration": 17592,
    "start_time": "2024-11-08T18:11:37.609Z"
   },
   {
    "duration": 4,
    "start_time": "2024-11-08T18:19:29.110Z"
   },
   {
    "duration": 15290,
    "start_time": "2024-11-08T18:28:49.675Z"
   },
   {
    "duration": 15295,
    "start_time": "2024-11-08T18:29:16.176Z"
   },
   {
    "duration": 17522,
    "start_time": "2024-11-08T18:29:38.130Z"
   },
   {
    "duration": 1846516,
    "start_time": "2024-11-08T18:34:23.954Z"
   },
   {
    "duration": 1402951,
    "start_time": "2024-11-08T19:07:44.901Z"
   },
   {
    "duration": 426969,
    "start_time": "2024-11-08T19:41:24.617Z"
   },
   {
    "duration": 612572,
    "start_time": "2024-11-08T19:48:50.453Z"
   },
   {
    "duration": 1612184,
    "start_time": "2024-11-08T19:59:05.919Z"
   },
   {
    "duration": 56,
    "start_time": "2024-11-09T08:15:53.179Z"
   },
   {
    "duration": 7,
    "start_time": "2024-11-09T08:15:58.790Z"
   },
   {
    "duration": 1749,
    "start_time": "2024-11-09T08:18:31.902Z"
   },
   {
    "duration": 1483,
    "start_time": "2024-11-09T08:18:33.653Z"
   },
   {
    "duration": 8,
    "start_time": "2024-11-09T08:18:39.274Z"
   },
   {
    "duration": 5,
    "start_time": "2024-11-09T08:18:40.403Z"
   },
   {
    "duration": 5,
    "start_time": "2024-11-09T08:18:43.945Z"
   },
   {
    "duration": 2,
    "start_time": "2024-11-09T08:18:47.435Z"
   },
   {
    "duration": 20,
    "start_time": "2024-11-09T08:18:48.602Z"
   },
   {
    "duration": 11,
    "start_time": "2024-11-09T08:18:51.340Z"
   },
   {
    "duration": 8,
    "start_time": "2024-11-09T08:18:52.456Z"
   },
   {
    "duration": 9,
    "start_time": "2024-11-09T08:18:57.105Z"
   },
   {
    "duration": 4,
    "start_time": "2024-11-09T08:18:58.121Z"
   },
   {
    "duration": 48,
    "start_time": "2024-11-09T08:18:59.310Z"
   },
   {
    "duration": 10,
    "start_time": "2024-11-09T08:19:01.045Z"
   },
   {
    "duration": 15,
    "start_time": "2024-11-09T08:19:03.480Z"
   },
   {
    "duration": 247,
    "start_time": "2024-11-09T08:19:08.156Z"
   },
   {
    "duration": 15,
    "start_time": "2024-11-09T08:19:10.944Z"
   },
   {
    "duration": 4,
    "start_time": "2024-11-09T08:19:14.120Z"
   },
   {
    "duration": 5,
    "start_time": "2024-11-09T08:19:15.238Z"
   },
   {
    "duration": 4,
    "start_time": "2024-11-09T08:19:16.088Z"
   },
   {
    "duration": 11,
    "start_time": "2024-11-09T08:19:17.073Z"
   },
   {
    "duration": 176,
    "start_time": "2024-11-09T08:19:18.194Z"
   },
   {
    "duration": 8,
    "start_time": "2024-11-09T08:19:20.276Z"
   },
   {
    "duration": 148,
    "start_time": "2024-11-09T08:19:22.071Z"
   },
   {
    "duration": 1270,
    "start_time": "2024-11-09T08:19:25.378Z"
   },
   {
    "duration": 895,
    "start_time": "2024-11-09T08:19:28.400Z"
   },
   {
    "duration": 5,
    "start_time": "2024-11-09T08:19:40.103Z"
   },
   {
    "duration": 6,
    "start_time": "2024-11-09T08:19:40.790Z"
   },
   {
    "duration": 5,
    "start_time": "2024-11-09T08:19:41.355Z"
   },
   {
    "duration": 29,
    "start_time": "2024-11-09T08:19:42.341Z"
   },
   {
    "duration": 554,
    "start_time": "2024-11-09T08:19:43.762Z"
   },
   {
    "duration": 4,
    "start_time": "2024-11-09T08:19:49.670Z"
   },
   {
    "duration": 4,
    "start_time": "2024-11-09T08:19:51.370Z"
   },
   {
    "duration": 8,
    "start_time": "2024-11-09T08:19:57.251Z"
   },
   {
    "duration": 19,
    "start_time": "2024-11-09T08:19:58.078Z"
   },
   {
    "duration": 523,
    "start_time": "2024-11-09T08:23:37.933Z"
   },
   {
    "duration": 430,
    "start_time": "2024-11-09T08:23:53.802Z"
   },
   {
    "duration": 237,
    "start_time": "2024-11-09T08:25:02.693Z"
   },
   {
    "duration": 274,
    "start_time": "2024-11-09T08:25:06.969Z"
   },
   {
    "duration": 289,
    "start_time": "2024-11-09T08:25:47.532Z"
   },
   {
    "duration": 4,
    "start_time": "2024-11-09T08:42:02.203Z"
   },
   {
    "duration": 12,
    "start_time": "2024-11-09T08:51:34.237Z"
   },
   {
    "duration": 16,
    "start_time": "2024-11-09T08:52:46.042Z"
   },
   {
    "duration": 1034,
    "start_time": "2024-11-09T08:53:50.451Z"
   },
   {
    "duration": 22,
    "start_time": "2024-11-09T08:56:43.754Z"
   },
   {
    "duration": 19,
    "start_time": "2024-11-09T08:56:51.116Z"
   },
   {
    "duration": 4,
    "start_time": "2024-11-09T08:57:07.650Z"
   },
   {
    "duration": 85,
    "start_time": "2024-11-09T08:57:32.093Z"
   },
   {
    "duration": 25,
    "start_time": "2024-11-09T08:58:03.838Z"
   },
   {
    "duration": 24,
    "start_time": "2024-11-09T08:58:12.412Z"
   },
   {
    "duration": 4,
    "start_time": "2024-11-09T08:58:21.082Z"
   },
   {
    "duration": 14,
    "start_time": "2024-11-09T08:58:22.917Z"
   },
   {
    "duration": 1038,
    "start_time": "2024-11-09T08:58:23.512Z"
   },
   {
    "duration": 9,
    "start_time": "2024-11-09T09:02:09.972Z"
   },
   {
    "duration": 1380,
    "start_time": "2024-11-09T09:02:18.067Z"
   },
   {
    "duration": 4,
    "start_time": "2024-11-09T09:03:17.574Z"
   },
   {
    "duration": 828,
    "start_time": "2024-11-09T09:04:02.065Z"
   },
   {
    "duration": 18,
    "start_time": "2024-11-09T09:04:10.439Z"
   },
   {
    "duration": 5,
    "start_time": "2024-11-09T09:04:12.106Z"
   },
   {
    "duration": 97,
    "start_time": "2024-11-09T09:04:13.135Z"
   },
   {
    "duration": 8,
    "start_time": "2024-11-09T09:04:14.473Z"
   },
   {
    "duration": 15,
    "start_time": "2024-11-09T09:04:16.808Z"
   },
   {
    "duration": 7,
    "start_time": "2024-11-09T09:04:23.243Z"
   },
   {
    "duration": 12,
    "start_time": "2024-11-09T09:04:25.432Z"
   },
   {
    "duration": 4,
    "start_time": "2024-11-09T09:04:33.232Z"
   },
   {
    "duration": 8,
    "start_time": "2024-11-09T09:04:33.984Z"
   },
   {
    "duration": 1018,
    "start_time": "2024-11-09T09:04:34.784Z"
   },
   {
    "duration": 817,
    "start_time": "2024-11-09T09:05:11.786Z"
   },
   {
    "duration": 13,
    "start_time": "2024-11-09T09:05:26.968Z"
   },
   {
    "duration": 5,
    "start_time": "2024-11-09T09:05:27.603Z"
   },
   {
    "duration": 94,
    "start_time": "2024-11-09T09:05:28.049Z"
   },
   {
    "duration": 8,
    "start_time": "2024-11-09T09:05:35.867Z"
   },
   {
    "duration": 10,
    "start_time": "2024-11-09T09:05:37.348Z"
   },
   {
    "duration": 5,
    "start_time": "2024-11-09T09:05:44.800Z"
   },
   {
    "duration": 6,
    "start_time": "2024-11-09T09:05:45.692Z"
   },
   {
    "duration": 982,
    "start_time": "2024-11-09T09:05:46.134Z"
   },
   {
    "duration": 1020,
    "start_time": "2024-11-09T09:05:53.658Z"
   },
   {
    "duration": 1069,
    "start_time": "2024-11-09T09:06:04.618Z"
   },
   {
    "duration": 16,
    "start_time": "2024-11-09T09:06:53.986Z"
   },
   {
    "duration": 293,
    "start_time": "2024-11-09T09:06:59.704Z"
   },
   {
    "duration": 15,
    "start_time": "2024-11-09T09:07:01.703Z"
   },
   {
    "duration": 78808,
    "start_time": "2024-11-09T09:09:59.764Z"
   },
   {
    "duration": 7,
    "start_time": "2024-11-09T09:11:53.373Z"
   },
   {
    "duration": 16,
    "start_time": "2024-11-09T09:12:06.342Z"
   },
   {
    "duration": 7,
    "start_time": "2024-11-09T09:12:08.033Z"
   },
   {
    "duration": 8,
    "start_time": "2024-11-09T09:12:25.290Z"
   },
   {
    "duration": 1779,
    "start_time": "2024-11-09T14:04:59.926Z"
   },
   {
    "duration": 3299,
    "start_time": "2024-11-09T14:05:03.967Z"
   },
   {
    "duration": 28,
    "start_time": "2024-11-09T14:05:09.331Z"
   },
   {
    "duration": 24,
    "start_time": "2024-11-09T14:05:11.590Z"
   },
   {
    "duration": 21,
    "start_time": "2024-11-09T14:05:13.614Z"
   },
   {
    "duration": 21,
    "start_time": "2024-11-09T14:05:15.027Z"
   },
   {
    "duration": 14,
    "start_time": "2024-11-09T14:05:17.197Z"
   },
   {
    "duration": 7,
    "start_time": "2024-11-09T14:05:35.218Z"
   },
   {
    "duration": 4,
    "start_time": "2024-11-09T14:05:36.806Z"
   },
   {
    "duration": 4,
    "start_time": "2024-11-09T14:05:41.904Z"
   },
   {
    "duration": 3,
    "start_time": "2024-11-09T14:05:46.005Z"
   },
   {
    "duration": 10,
    "start_time": "2024-11-09T14:05:52.231Z"
   },
   {
    "duration": 8,
    "start_time": "2024-11-09T14:05:53.273Z"
   },
   {
    "duration": 16,
    "start_time": "2024-11-09T14:05:55.502Z"
   },
   {
    "duration": 100,
    "start_time": "2024-11-09T14:05:58.867Z"
   },
   {
    "duration": 16,
    "start_time": "2024-11-09T14:05:59.966Z"
   },
   {
    "duration": 263,
    "start_time": "2024-11-09T14:06:03.167Z"
   },
   {
    "duration": 16,
    "start_time": "2024-11-09T14:06:05.014Z"
   },
   {
    "duration": 5,
    "start_time": "2024-11-09T14:06:16.446Z"
   },
   {
    "duration": 5,
    "start_time": "2024-11-09T14:06:17.274Z"
   },
   {
    "duration": 5,
    "start_time": "2024-11-09T14:06:18.543Z"
   },
   {
    "duration": 9,
    "start_time": "2024-11-09T14:06:19.598Z"
   },
   {
    "duration": 182,
    "start_time": "2024-11-09T14:06:21.636Z"
   },
   {
    "duration": 7,
    "start_time": "2024-11-09T14:06:36.719Z"
   },
   {
    "duration": 155,
    "start_time": "2024-11-09T14:06:37.687Z"
   },
   {
    "duration": 1217,
    "start_time": "2024-11-09T14:07:01.649Z"
   },
   {
    "duration": 879,
    "start_time": "2024-11-09T14:07:15.860Z"
   },
   {
    "duration": 5,
    "start_time": "2024-11-09T14:07:37.724Z"
   },
   {
    "duration": 5,
    "start_time": "2024-11-09T14:07:39.277Z"
   },
   {
    "duration": 5,
    "start_time": "2024-11-09T14:07:40.404Z"
   },
   {
    "duration": 28,
    "start_time": "2024-11-09T14:07:41.876Z"
   },
   {
    "duration": 612,
    "start_time": "2024-11-09T14:07:43.508Z"
   },
   {
    "duration": 4,
    "start_time": "2024-11-09T14:08:09.784Z"
   },
   {
    "duration": 3,
    "start_time": "2024-11-09T14:11:03.809Z"
   },
   {
    "duration": 3,
    "start_time": "2024-11-09T14:11:07.089Z"
   },
   {
    "duration": 6,
    "start_time": "2024-11-09T14:11:13.110Z"
   },
   {
    "duration": 15,
    "start_time": "2024-11-09T14:13:09.000Z"
   },
   {
    "duration": 15860,
    "start_time": "2024-11-09T14:13:26.039Z"
   },
   {
    "duration": 17980,
    "start_time": "2024-11-09T14:14:31.533Z"
   },
   {
    "duration": 789565,
    "start_time": "2024-11-09T14:16:30.877Z"
   },
   {
    "duration": 903352,
    "start_time": "2024-11-09T14:29:50.397Z"
   },
   {
    "duration": 442,
    "start_time": "2024-11-09T14:45:51.812Z"
   },
   {
    "duration": 136,
    "start_time": "2024-11-09T14:45:53.530Z"
   },
   {
    "duration": 3,
    "start_time": "2024-11-09T14:46:20.885Z"
   },
   {
    "duration": 8,
    "start_time": "2024-11-09T14:46:22.796Z"
   },
   {
    "duration": 1219,
    "start_time": "2024-11-09T14:46:28.949Z"
   },
   {
    "duration": 40947,
    "start_time": "2024-11-09T14:47:44.224Z"
   },
   {
    "duration": 1516,
    "start_time": "2024-11-10T11:35:58.348Z"
   },
   {
    "duration": 1248,
    "start_time": "2024-11-10T11:36:01.739Z"
   },
   {
    "duration": 23,
    "start_time": "2024-11-10T11:36:02.989Z"
   },
   {
    "duration": 17,
    "start_time": "2024-11-10T11:36:03.350Z"
   },
   {
    "duration": 27,
    "start_time": "2024-11-10T11:36:05.040Z"
   },
   {
    "duration": 24,
    "start_time": "2024-11-10T11:36:05.888Z"
   },
   {
    "duration": 11,
    "start_time": "2024-11-10T11:36:07.001Z"
   },
   {
    "duration": 16,
    "start_time": "2024-11-10T11:36:07.968Z"
   },
   {
    "duration": 6,
    "start_time": "2024-11-10T11:37:33.675Z"
   },
   {
    "duration": 4,
    "start_time": "2024-11-10T11:37:34.261Z"
   },
   {
    "duration": 4,
    "start_time": "2024-11-10T11:37:36.644Z"
   },
   {
    "duration": 2,
    "start_time": "2024-11-10T11:37:40.823Z"
   },
   {
    "duration": 14,
    "start_time": "2024-11-10T11:37:44.250Z"
   },
   {
    "duration": 8,
    "start_time": "2024-11-10T11:38:14.444Z"
   },
   {
    "duration": 6,
    "start_time": "2024-11-10T11:38:15.824Z"
   },
   {
    "duration": 92,
    "start_time": "2024-11-10T11:38:18.313Z"
   },
   {
    "duration": 14,
    "start_time": "2024-11-10T11:38:19.828Z"
   },
   {
    "duration": 213,
    "start_time": "2024-11-10T11:38:21.448Z"
   },
   {
    "duration": 12,
    "start_time": "2024-11-10T11:38:22.596Z"
   },
   {
    "duration": 4,
    "start_time": "2024-11-10T11:38:26.792Z"
   },
   {
    "duration": 4,
    "start_time": "2024-11-10T11:38:27.409Z"
   },
   {
    "duration": 5,
    "start_time": "2024-11-10T11:38:28.667Z"
   },
   {
    "duration": 7,
    "start_time": "2024-11-10T11:38:29.183Z"
   },
   {
    "duration": 157,
    "start_time": "2024-11-10T11:38:30.370Z"
   },
   {
    "duration": 5,
    "start_time": "2024-11-10T11:38:33.517Z"
   },
   {
    "duration": 131,
    "start_time": "2024-11-10T11:38:34.516Z"
   },
   {
    "duration": 908,
    "start_time": "2024-11-10T11:38:38.484Z"
   },
   {
    "duration": 628,
    "start_time": "2024-11-10T11:38:41.496Z"
   },
   {
    "duration": 5,
    "start_time": "2024-11-10T11:38:44.720Z"
   },
   {
    "duration": 5,
    "start_time": "2024-11-10T11:38:45.413Z"
   },
   {
    "duration": 4,
    "start_time": "2024-11-10T11:38:45.887Z"
   },
   {
    "duration": 31,
    "start_time": "2024-11-10T11:38:49.406Z"
   },
   {
    "duration": 411,
    "start_time": "2024-11-10T11:38:50.882Z"
   },
   {
    "duration": 3,
    "start_time": "2024-11-10T11:38:55.928Z"
   },
   {
    "duration": 4,
    "start_time": "2024-11-10T11:38:57.951Z"
   },
   {
    "duration": 3,
    "start_time": "2024-11-10T11:56:42.525Z"
   },
   {
    "duration": 3,
    "start_time": "2024-11-10T11:57:18.175Z"
   },
   {
    "duration": 4,
    "start_time": "2024-11-10T11:58:17.635Z"
   },
   {
    "duration": 7,
    "start_time": "2024-11-10T11:58:47.537Z"
   },
   {
    "duration": 10164,
    "start_time": "2024-11-10T12:00:00.826Z"
   },
   {
    "duration": 10062,
    "start_time": "2024-11-10T12:01:50.486Z"
   },
   {
    "duration": 523209,
    "start_time": "2024-11-10T12:03:13.221Z"
   },
   {
    "duration": 513842,
    "start_time": "2024-11-10T12:12:05.281Z"
   },
   {
    "duration": 168,
    "start_time": "2024-11-10T12:22:12.592Z"
   },
   {
    "duration": 282,
    "start_time": "2024-11-10T12:22:14.676Z"
   },
   {
    "duration": 2,
    "start_time": "2024-11-10T12:38:37.971Z"
   },
   {
    "duration": 4,
    "start_time": "2024-11-10T12:42:14.876Z"
   },
   {
    "duration": 736,
    "start_time": "2024-11-10T12:43:05.600Z"
   },
   {
    "duration": 736,
    "start_time": "2024-11-10T12:43:40.236Z"
   },
   {
    "duration": 24579,
    "start_time": "2024-11-10T12:43:41.966Z"
   },
   {
    "duration": 4,
    "start_time": "2024-11-10T12:48:15.426Z"
   },
   {
    "duration": 733,
    "start_time": "2024-11-10T12:48:39.495Z"
   },
   {
    "duration": 24819,
    "start_time": "2024-11-10T12:48:47.558Z"
   },
   {
    "duration": 853,
    "start_time": "2024-11-10T12:50:38.679Z"
   },
   {
    "duration": 780,
    "start_time": "2024-11-10T12:51:46.350Z"
   },
   {
    "duration": 1015,
    "start_time": "2024-11-10T13:00:03.787Z"
   },
   {
    "duration": 4,
    "start_time": "2024-11-10T13:01:26.627Z"
   },
   {
    "duration": 758,
    "start_time": "2024-11-10T13:01:31.505Z"
   },
   {
    "duration": 4,
    "start_time": "2024-11-10T13:02:57.058Z"
   },
   {
    "duration": 759,
    "start_time": "2024-11-10T13:03:00.008Z"
   },
   {
    "duration": 15,
    "start_time": "2024-11-10T13:08:03.107Z"
   },
   {
    "duration": 9,
    "start_time": "2024-11-10T13:08:23.988Z"
   },
   {
    "duration": 775,
    "start_time": "2024-11-10T13:08:51.559Z"
   },
   {
    "duration": 24925,
    "start_time": "2024-11-10T13:12:14.151Z"
   },
   {
    "duration": 24507,
    "start_time": "2024-11-10T13:15:32.105Z"
   },
   {
    "duration": 2,
    "start_time": "2024-11-10T13:19:21.511Z"
   },
   {
    "duration": 10,
    "start_time": "2024-11-10T13:19:24.258Z"
   },
   {
    "duration": 736,
    "start_time": "2024-11-10T13:19:26.778Z"
   },
   {
    "duration": 3,
    "start_time": "2024-11-10T13:21:26.616Z"
   },
   {
    "duration": 7,
    "start_time": "2024-11-10T13:21:28.231Z"
   },
   {
    "duration": 955,
    "start_time": "2024-11-10T13:21:28.976Z"
   },
   {
    "duration": 24933,
    "start_time": "2024-11-10T13:21:33.408Z"
   },
   {
    "duration": 8,
    "start_time": "2024-11-10T13:22:00.588Z"
   },
   {
    "duration": 734,
    "start_time": "2024-11-10T13:31:03.008Z"
   },
   {
    "duration": 3,
    "start_time": "2024-11-10T13:43:37.653Z"
   },
   {
    "duration": 681,
    "start_time": "2024-11-10T13:43:37.659Z"
   },
   {
    "duration": 23,
    "start_time": "2024-11-10T13:43:38.342Z"
   },
   {
    "duration": 25,
    "start_time": "2024-11-10T13:43:38.367Z"
   },
   {
    "duration": 22,
    "start_time": "2024-11-10T13:43:38.394Z"
   },
   {
    "duration": 21,
    "start_time": "2024-11-10T13:43:38.418Z"
   },
   {
    "duration": 15,
    "start_time": "2024-11-10T13:43:38.458Z"
   },
   {
    "duration": 17,
    "start_time": "2024-11-10T13:43:38.475Z"
   },
   {
    "duration": 4,
    "start_time": "2024-11-10T13:43:38.494Z"
   },
   {
    "duration": 5,
    "start_time": "2024-11-10T13:43:38.499Z"
   },
   {
    "duration": 3,
    "start_time": "2024-11-10T13:43:38.505Z"
   },
   {
    "duration": 3,
    "start_time": "2024-11-10T13:43:38.509Z"
   },
   {
    "duration": 46,
    "start_time": "2024-11-10T13:43:38.513Z"
   },
   {
    "duration": 8,
    "start_time": "2024-11-10T13:43:38.560Z"
   },
   {
    "duration": 6,
    "start_time": "2024-11-10T13:43:38.569Z"
   },
   {
    "duration": 93,
    "start_time": "2024-11-10T13:43:38.576Z"
   },
   {
    "duration": 13,
    "start_time": "2024-11-10T13:43:38.670Z"
   },
   {
    "duration": 232,
    "start_time": "2024-11-10T13:43:38.685Z"
   },
   {
    "duration": 11,
    "start_time": "2024-11-10T13:43:38.919Z"
   },
   {
    "duration": 5,
    "start_time": "2024-11-10T13:43:38.932Z"
   },
   {
    "duration": 21,
    "start_time": "2024-11-10T13:43:38.938Z"
   },
   {
    "duration": 6,
    "start_time": "2024-11-10T13:43:38.961Z"
   },
   {
    "duration": 11,
    "start_time": "2024-11-10T13:43:38.968Z"
   },
   {
    "duration": 180,
    "start_time": "2024-11-10T13:43:38.984Z"
   },
   {
    "duration": 5,
    "start_time": "2024-11-10T13:43:39.165Z"
   },
   {
    "duration": 139,
    "start_time": "2024-11-10T13:43:39.171Z"
   },
   {
    "duration": 1054,
    "start_time": "2024-11-10T13:43:39.312Z"
   },
   {
    "duration": 647,
    "start_time": "2024-11-10T13:43:40.367Z"
   },
   {
    "duration": 5,
    "start_time": "2024-11-10T13:43:41.015Z"
   },
   {
    "duration": 5,
    "start_time": "2024-11-10T13:43:41.022Z"
   },
   {
    "duration": 5,
    "start_time": "2024-11-10T13:43:41.029Z"
   },
   {
    "duration": 41,
    "start_time": "2024-11-10T13:43:41.035Z"
   },
   {
    "duration": 358,
    "start_time": "2024-11-10T13:43:41.078Z"
   },
   {
    "duration": 3,
    "start_time": "2024-11-10T13:43:41.437Z"
   },
   {
    "duration": 35,
    "start_time": "2024-11-10T13:43:41.441Z"
   },
   {
    "duration": 5,
    "start_time": "2024-11-10T13:43:41.477Z"
   },
   {
    "duration": 18,
    "start_time": "2024-11-10T13:43:41.483Z"
   },
   {
    "duration": 6,
    "start_time": "2024-11-10T13:43:41.502Z"
   },
   {
    "duration": 10829,
    "start_time": "2024-11-10T13:43:41.509Z"
   },
   {
    "duration": 10189,
    "start_time": "2024-11-10T13:43:52.341Z"
   },
   {
    "duration": 519940,
    "start_time": "2024-11-10T13:44:02.532Z"
   },
   {
    "duration": 510834,
    "start_time": "2024-11-10T13:52:42.474Z"
   },
   {
    "duration": 57,
    "start_time": "2024-11-10T14:01:13.309Z"
   },
   {
    "duration": 298,
    "start_time": "2024-11-10T14:01:13.367Z"
   },
   {
    "duration": 94,
    "start_time": "2024-11-10T14:01:13.667Z"
   },
   {
    "duration": 10,
    "start_time": "2024-11-10T14:01:13.762Z"
   },
   {
    "duration": 813,
    "start_time": "2024-11-10T14:01:13.773Z"
   },
   {
    "duration": 25730,
    "start_time": "2024-11-10T14:01:14.587Z"
   },
   {
    "duration": 4,
    "start_time": "2024-11-10T14:01:40.319Z"
   },
   {
    "duration": 80,
    "start_time": "2024-11-10T14:01:40.324Z"
   },
   {
    "duration": 807,
    "start_time": "2024-11-10T14:01:40.406Z"
   },
   {
    "duration": 25526,
    "start_time": "2024-11-10T14:01:41.214Z"
   },
   {
    "duration": 6,
    "start_time": "2024-11-10T14:02:06.742Z"
   },
   {
    "duration": 5482,
    "start_time": "2024-11-11T06:54:57.797Z"
   },
   {
    "duration": 609,
    "start_time": "2024-11-11T06:55:03.280Z"
   },
   {
    "duration": 22,
    "start_time": "2024-11-11T06:55:03.890Z"
   },
   {
    "duration": 33,
    "start_time": "2024-11-11T06:55:03.914Z"
   },
   {
    "duration": 45,
    "start_time": "2024-11-11T06:55:03.948Z"
   },
   {
    "duration": 26,
    "start_time": "2024-11-11T06:55:03.994Z"
   },
   {
    "duration": 41,
    "start_time": "2024-11-11T06:55:04.021Z"
   },
   {
    "duration": 28,
    "start_time": "2024-11-11T06:55:04.063Z"
   },
   {
    "duration": 14,
    "start_time": "2024-11-11T06:55:04.093Z"
   },
   {
    "duration": 28,
    "start_time": "2024-11-11T06:55:04.110Z"
   },
   {
    "duration": 45,
    "start_time": "2024-11-11T06:55:04.139Z"
   },
   {
    "duration": 13,
    "start_time": "2024-11-11T06:55:04.186Z"
   },
   {
    "duration": 34,
    "start_time": "2024-11-11T06:55:04.200Z"
   },
   {
    "duration": 36,
    "start_time": "2024-11-11T06:55:04.236Z"
   },
   {
    "duration": 23,
    "start_time": "2024-11-11T06:55:04.273Z"
   },
   {
    "duration": 91,
    "start_time": "2024-11-11T06:55:04.297Z"
   },
   {
    "duration": 13,
    "start_time": "2024-11-11T06:55:04.389Z"
   },
   {
    "duration": 232,
    "start_time": "2024-11-11T06:55:04.403Z"
   },
   {
    "duration": 10,
    "start_time": "2024-11-11T06:55:04.637Z"
   },
   {
    "duration": 27,
    "start_time": "2024-11-11T06:55:04.649Z"
   },
   {
    "duration": 36,
    "start_time": "2024-11-11T06:55:04.678Z"
   },
   {
    "duration": 26,
    "start_time": "2024-11-11T06:55:04.716Z"
   },
   {
    "duration": 24,
    "start_time": "2024-11-11T06:55:04.743Z"
   },
   {
    "duration": 179,
    "start_time": "2024-11-11T06:55:04.768Z"
   },
   {
    "duration": 5,
    "start_time": "2024-11-11T06:55:04.949Z"
   },
   {
    "duration": 153,
    "start_time": "2024-11-11T06:55:04.955Z"
   },
   {
    "duration": 920,
    "start_time": "2024-11-11T06:55:05.112Z"
   },
   {
    "duration": 651,
    "start_time": "2024-11-11T06:55:06.034Z"
   },
   {
    "duration": 4,
    "start_time": "2024-11-11T06:55:06.686Z"
   },
   {
    "duration": 36,
    "start_time": "2024-11-11T06:55:06.691Z"
   },
   {
    "duration": 33,
    "start_time": "2024-11-11T06:55:06.729Z"
   },
   {
    "duration": 41,
    "start_time": "2024-11-11T06:55:06.763Z"
   },
   {
    "duration": 442,
    "start_time": "2024-11-11T06:55:06.805Z"
   },
   {
    "duration": 3,
    "start_time": "2024-11-11T06:55:07.249Z"
   },
   {
    "duration": 40,
    "start_time": "2024-11-11T06:55:07.254Z"
   },
   {
    "duration": 47,
    "start_time": "2024-11-11T06:55:07.296Z"
   },
   {
    "duration": 47,
    "start_time": "2024-11-11T06:55:07.344Z"
   },
   {
    "duration": 63,
    "start_time": "2024-11-11T06:55:07.392Z"
   },
   {
    "duration": 151,
    "start_time": "2024-11-11T06:55:17.665Z"
   },
   {
    "duration": 44,
    "start_time": "2024-11-11T06:55:18.375Z"
   },
   {
    "duration": 8,
    "start_time": "2024-11-11T06:55:22.619Z"
   },
   {
    "duration": 4,
    "start_time": "2024-11-11T06:55:24.844Z"
   },
   {
    "duration": 719,
    "start_time": "2024-11-11T06:55:28.239Z"
   },
   {
    "duration": 24096,
    "start_time": "2024-11-11T06:55:33.976Z"
   },
   {
    "duration": 1733,
    "start_time": "2024-11-11T17:17:49.093Z"
   },
   {
    "duration": 3330,
    "start_time": "2024-11-11T17:17:50.939Z"
   },
   {
    "duration": 1282,
    "start_time": "2024-11-11T17:19:15.232Z"
   },
   {
    "duration": 1128,
    "start_time": "2024-11-11T17:21:02.269Z"
   },
   {
    "duration": 934,
    "start_time": "2024-11-11T17:22:13.253Z"
   },
   {
    "duration": 15,
    "start_time": "2024-11-11T17:45:24.217Z"
   },
   {
    "duration": 16,
    "start_time": "2024-11-11T17:45:55.886Z"
   },
   {
    "duration": 1054,
    "start_time": "2024-11-11T17:53:52.437Z"
   },
   {
    "duration": 10,
    "start_time": "2024-11-11T17:54:16.676Z"
   },
   {
    "duration": 18,
    "start_time": "2024-11-11T17:54:20.700Z"
   },
   {
    "duration": 3,
    "start_time": "2024-11-11T17:54:31.485Z"
   },
   {
    "duration": 1533,
    "start_time": "2024-11-12T16:59:04.825Z"
   },
   {
    "duration": 1249,
    "start_time": "2024-11-12T16:59:06.360Z"
   },
   {
    "duration": 21,
    "start_time": "2024-11-12T16:59:07.610Z"
   },
   {
    "duration": 16,
    "start_time": "2024-11-12T16:59:07.634Z"
   },
   {
    "duration": 21,
    "start_time": "2024-11-12T16:59:07.651Z"
   },
   {
    "duration": 21,
    "start_time": "2024-11-12T16:59:07.673Z"
   },
   {
    "duration": 10,
    "start_time": "2024-11-12T16:59:07.695Z"
   },
   {
    "duration": 14,
    "start_time": "2024-11-12T16:59:07.707Z"
   },
   {
    "duration": 6,
    "start_time": "2024-11-12T16:59:07.722Z"
   },
   {
    "duration": 4,
    "start_time": "2024-11-12T16:59:07.757Z"
   },
   {
    "duration": 32,
    "start_time": "2024-11-12T16:59:07.763Z"
   },
   {
    "duration": 4,
    "start_time": "2024-11-12T16:59:07.796Z"
   },
   {
    "duration": 15,
    "start_time": "2024-11-12T16:59:07.801Z"
   },
   {
    "duration": 8,
    "start_time": "2024-11-12T16:59:07.817Z"
   },
   {
    "duration": 9,
    "start_time": "2024-11-12T16:59:07.826Z"
   },
   {
    "duration": 86,
    "start_time": "2024-11-12T16:59:07.837Z"
   },
   {
    "duration": 12,
    "start_time": "2024-11-12T16:59:07.925Z"
   },
   {
    "duration": 245,
    "start_time": "2024-11-12T16:59:07.938Z"
   },
   {
    "duration": 11,
    "start_time": "2024-11-12T16:59:08.184Z"
   },
   {
    "duration": 8,
    "start_time": "2024-11-12T16:59:08.197Z"
   },
   {
    "duration": 5,
    "start_time": "2024-11-12T16:59:08.206Z"
   },
   {
    "duration": 4,
    "start_time": "2024-11-12T16:59:08.212Z"
   },
   {
    "duration": 10,
    "start_time": "2024-11-12T16:59:08.217Z"
   },
   {
    "duration": 204,
    "start_time": "2024-11-12T16:59:08.228Z"
   },
   {
    "duration": 6,
    "start_time": "2024-11-12T16:59:08.434Z"
   },
   {
    "duration": 198,
    "start_time": "2024-11-12T16:59:08.442Z"
   },
   {
    "duration": 1009,
    "start_time": "2024-11-12T16:59:08.641Z"
   },
   {
    "duration": 696,
    "start_time": "2024-11-12T16:59:09.653Z"
   },
   {
    "duration": 11,
    "start_time": "2024-11-12T16:59:10.350Z"
   },
   {
    "duration": 5,
    "start_time": "2024-11-12T16:59:10.362Z"
   },
   {
    "duration": 5,
    "start_time": "2024-11-12T16:59:10.369Z"
   },
   {
    "duration": 25,
    "start_time": "2024-11-12T16:59:10.375Z"
   },
   {
    "duration": 477,
    "start_time": "2024-11-12T16:59:10.401Z"
   },
   {
    "duration": 10,
    "start_time": "2024-11-12T16:59:10.879Z"
   },
   {
    "duration": 3,
    "start_time": "2024-11-12T16:59:10.890Z"
   },
   {
    "duration": 4,
    "start_time": "2024-11-12T16:59:10.894Z"
   },
   {
    "duration": 4,
    "start_time": "2024-11-12T16:59:10.899Z"
   },
   {
    "duration": 6,
    "start_time": "2024-11-12T16:59:10.904Z"
   },
   {
    "duration": 7,
    "start_time": "2024-11-12T16:59:10.911Z"
   },
   {
    "duration": 10051,
    "start_time": "2024-11-12T16:59:10.919Z"
   },
   {
    "duration": 9650,
    "start_time": "2024-11-12T16:59:20.972Z"
   },
   {
    "duration": 468385,
    "start_time": "2024-11-12T16:59:30.623Z"
   },
   {
    "duration": 498201,
    "start_time": "2024-11-12T17:07:19.010Z"
   },
   {
    "duration": 249,
    "start_time": "2024-11-12T17:15:37.213Z"
   },
   {
    "duration": 197,
    "start_time": "2024-11-12T17:15:37.463Z"
   },
   {
    "duration": 96,
    "start_time": "2024-11-12T17:15:37.662Z"
   },
   {
    "duration": 5,
    "start_time": "2024-11-12T17:15:37.759Z"
   },
   {
    "duration": 718,
    "start_time": "2024-11-12T17:15:37.765Z"
   },
   {
    "duration": 22625,
    "start_time": "2024-11-12T17:15:38.485Z"
   },
   {
    "duration": 2,
    "start_time": "2024-11-12T17:16:01.112Z"
   },
   {
    "duration": 48,
    "start_time": "2024-11-12T17:16:01.116Z"
   },
   {
    "duration": 18,
    "start_time": "2024-11-12T17:16:01.166Z"
   },
   {
    "duration": 659,
    "start_time": "2024-11-12T17:16:01.186Z"
   },
   {
    "duration": 13643,
    "start_time": "2024-11-12T17:16:01.846Z"
   },
   {
    "duration": 0,
    "start_time": "2024-11-12T17:16:15.491Z"
   },
   {
    "duration": 0,
    "start_time": "2024-11-12T17:16:15.492Z"
   },
   {
    "duration": 1027,
    "start_time": "2024-11-12T17:16:22.978Z"
   },
   {
    "duration": 874,
    "start_time": "2024-11-12T17:16:34.920Z"
   },
   {
    "duration": 20381,
    "start_time": "2024-11-12T17:20:08.539Z"
   },
   {
    "duration": 22976,
    "start_time": "2024-11-12T17:20:28.922Z"
   },
   {
    "duration": 5,
    "start_time": "2024-11-12T17:20:55.190Z"
   },
   {
    "duration": 20283,
    "start_time": "2024-11-12T17:54:05.047Z"
   },
   {
    "duration": 22691,
    "start_time": "2024-11-12T17:54:25.332Z"
   }
  ],
  "kernelspec": {
   "display_name": "Python 3 (ipykernel)",
   "language": "python",
   "name": "python3"
  },
  "language_info": {
   "codemirror_mode": {
    "name": "ipython",
    "version": 3
   },
   "file_extension": ".py",
   "mimetype": "text/x-python",
   "name": "python",
   "nbconvert_exporter": "python",
   "pygments_lexer": "ipython3",
   "version": "3.9.13"
  },
  "toc": {
   "base_numbering": 1,
   "nav_menu": {},
   "number_sections": true,
   "sideBar": true,
   "skip_h1_title": true,
   "title_cell": "Содержание",
   "title_sidebar": "Contents",
   "toc_cell": true,
   "toc_position": {
    "height": "calc(100% - 180px)",
    "left": "10px",
    "top": "150px",
    "width": "288px"
   },
   "toc_section_display": true,
   "toc_window_display": true
  }
 },
 "nbformat": 4,
 "nbformat_minor": 2
}
